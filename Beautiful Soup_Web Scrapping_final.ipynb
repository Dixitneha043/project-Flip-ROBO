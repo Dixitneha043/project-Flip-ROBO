{
 "cells": [
  {
   "cell_type": "code",
   "execution_count": 1,
   "metadata": {
    "scrolled": true
   },
   "outputs": [],
   "source": [
    "#!pip install bs4\n",
    "#!pip install requests"
   ]
  },
  {
   "cell_type": "code",
   "execution_count": 2,
   "metadata": {},
   "outputs": [],
   "source": [
    "#importing the required libraries\n",
    "from bs4 import BeautifulSoup\n",
    "import requests\n",
    "import pandas as pd"
   ]
  },
  {
   "cell_type": "markdown",
   "metadata": {},
   "source": [
    "Extracting data from Web Page"
   ]
  },
  {
   "cell_type": "markdown",
   "metadata": {},
   "source": [
    "# 1. Write a python program to display all the header tags from ‘en.wikipedia.org/wiki/Main_Page’."
   ]
  },
  {
   "cell_type": "code",
   "execution_count": 3,
   "metadata": {},
   "outputs": [
    {
     "data": {
      "text/plain": [
       "<Response [200]>"
      ]
     },
     "execution_count": 3,
     "metadata": {},
     "output_type": "execute_result"
    }
   ],
   "source": [
    "#checking site response for scraping\n",
    "page= requests.get(\"http://en.wikipedia.org/wiki/Main_Page\")\n",
    "page"
   ]
  },
  {
   "cell_type": "markdown",
   "metadata": {},
   "source": [
    "we get response [200] so we scrap"
   ]
  },
  {
   "cell_type": "code",
   "execution_count": 4,
   "metadata": {},
   "outputs": [],
   "source": [
    "soup=BeautifulSoup(page.content)"
   ]
  },
  {
   "cell_type": "code",
   "execution_count": 5,
   "metadata": {},
   "outputs": [],
   "source": [
    "#finding all header tags\n",
    "nameh1=soup.find_all('h1', class_=\"firstHeading\")\n",
    "nameh2=soup.find_all('h2', class_=\"mp-h2\")\n",
    "nameh3=soup.find_all('h3', class_=\"vector-menu-heading\")"
   ]
  },
  {
   "cell_type": "code",
   "execution_count": 6,
   "metadata": {},
   "outputs": [
    {
     "data": {
      "text/plain": [
       "['Main Page',\n",
       " \"From today's featured article\",\n",
       " 'Did you know\\xa0...',\n",
       " 'In the news',\n",
       " 'On this day',\n",
       " \"Today's featured picture\",\n",
       " 'Other areas of Wikipedia',\n",
       " \"Wikipedia's sister projects\",\n",
       " 'Wikipedia languages',\n",
       " 'Personal tools',\n",
       " 'Namespaces',\n",
       " 'Variants',\n",
       " 'Views',\n",
       " 'More',\n",
       " 'Navigation',\n",
       " 'Contribute',\n",
       " 'Tools',\n",
       " 'Print/export',\n",
       " 'In other projects',\n",
       " 'Languages']"
      ]
     },
     "execution_count": 6,
     "metadata": {},
     "output_type": "execute_result"
    }
   ],
   "source": [
    "tag_list=nameh1+ nameh2+ nameh3\n",
    "#creating loop to get result\n",
    "header_name=[] #empty list\n",
    "for i in tag_list:\n",
    "    header_name.append(i.text.replace('\\n',\"\"))\n",
    "header_name"
   ]
  },
  {
   "cell_type": "markdown",
   "metadata": {},
   "source": [
    "# 2. Write a python program to display IMDB’s Top rated 100 movies’ data (i.e. Name, IMDB rating, Year of release) and make data frame"
   ]
  },
  {
   "cell_type": "code",
   "execution_count": 7,
   "metadata": {},
   "outputs": [
    {
     "data": {
      "text/plain": [
       "<Response [200]>"
      ]
     },
     "execution_count": 7,
     "metadata": {},
     "output_type": "execute_result"
    }
   ],
   "source": [
    "#checking site response for scraping\n",
    "page= requests.get(\"https://www.imdb.com/chart/top/\")\n",
    "page"
   ]
  },
  {
   "cell_type": "markdown",
   "metadata": {},
   "source": [
    "we get response [200] so we scrap"
   ]
  },
  {
   "cell_type": "code",
   "execution_count": 8,
   "metadata": {},
   "outputs": [],
   "source": [
    "soup=BeautifulSoup(page.content)"
   ]
  },
  {
   "cell_type": "code",
   "execution_count": 9,
   "metadata": {},
   "outputs": [
    {
     "data": {
      "text/plain": [
       "['      1.      The Shawshank Redemption(1994)',\n",
       " '      2.      The Godfather(1972)',\n",
       " '      3.      The Godfather: Part II(1974)',\n",
       " '      4.      The Dark Knight(2008)',\n",
       " '      5.      12 Angry Men(1957)',\n",
       " \"      6.      Schindler's List(1993)\",\n",
       " '      7.      The Lord of the Rings: The Return of the King(2003)',\n",
       " '      8.      Pulp Fiction(1994)',\n",
       " '      9.      Il buono, il brutto, il cattivo(1966)',\n",
       " '      10.      The Lord of the Rings: The Fellowship of the Ring(2001)',\n",
       " '      11.      Fight Club(1999)',\n",
       " '      12.      Forrest Gump(1994)',\n",
       " '      13.      Inception(2010)',\n",
       " '      14.      The Lord of the Rings: The Two Towers(2002)',\n",
       " '      15.      Star Wars: Episode V - The Empire Strikes Back(1980)',\n",
       " '      16.      The Matrix(1999)',\n",
       " '      17.      Goodfellas(1990)',\n",
       " \"      18.      One Flew Over the Cuckoo's Nest(1975)\",\n",
       " '      19.      Shichinin no samurai(1954)',\n",
       " '      20.      Se7en(1995)',\n",
       " '      21.      The Silence of the Lambs(1991)',\n",
       " '      22.      Cidade de Deus(2002)',\n",
       " \"      23.      It's a Wonderful Life(1946)\",\n",
       " '      24.      La vita è bella(1997)',\n",
       " '      25.      Star Wars(1977)',\n",
       " '      26.      Saving Private Ryan(1998)',\n",
       " '      27.      Sen to Chihiro no kamikakushi(2001)',\n",
       " '      28.      Interstellar(2014)',\n",
       " '      29.      The Green Mile(1999)',\n",
       " '      30.      Gisaengchung(2019)',\n",
       " '      31.      Léon(1994)',\n",
       " '      32.      Seppuku(1962)',\n",
       " '      33.      The Usual Suspects(1995)',\n",
       " '      34.      The Pianist(2002)',\n",
       " '      35.      Back to the Future(1985)',\n",
       " '      36.      Terminator 2: Judgment Day(1991)',\n",
       " '      37.      Psycho(1960)',\n",
       " '      38.      Modern Times(1936)',\n",
       " '      39.      The Lion King(1994)',\n",
       " '      40.      American History X(1998)',\n",
       " '      41.      City Lights(1931)',\n",
       " '      42.      Gladiator(2000)',\n",
       " '      43.      Whiplash(2014)',\n",
       " '      44.      The Departed(2006)',\n",
       " '      45.      Hotaru no haka(1988)',\n",
       " '      46.      The Intouchables(2011)',\n",
       " '      47.      The Prestige(2006)',\n",
       " '      48.      Casablanca(1942)',\n",
       " '      49.      Once Upon a Time in the West(1968)',\n",
       " '      50.      Rear Window(1954)',\n",
       " '      51.      Nuovo Cinema Paradiso(1988)',\n",
       " '      52.      Alien(1979)',\n",
       " '      53.      Apocalypse Now(1979)',\n",
       " '      54.      Memento(2000)',\n",
       " '      55.      Raiders of the Lost Ark(1981)',\n",
       " '      56.      The Great Dictator(1940)',\n",
       " '      57.      The Lives of Others(2006)',\n",
       " '      58.      Django Unchained(2012)',\n",
       " '      59.      Paths of Glory(1957)',\n",
       " '      60.      Sunset Blvd.(1950)',\n",
       " '      61.      WALL·E(2008)',\n",
       " '      62.      The Shining(1980)',\n",
       " '      63.      Witness for the Prosecution(1957)',\n",
       " '      64.      Avengers: Infinity War(2018)',\n",
       " '      65.      Joker(2019)',\n",
       " '      66.      Dr. Strangelove or: How I Learned to Stop Worrying and Love the Bomb(1964)',\n",
       " '      67.      Spider-Man: Into the Spider-Verse(2018)',\n",
       " '      68.      Oldeuboi(2003)',\n",
       " '      69.      Mononoke-hime(1997)',\n",
       " '      70.      Hamilton(2020)',\n",
       " '      71.      Once Upon a Time in America(1984)',\n",
       " '      72.      Kimi no na wa.(2016)',\n",
       " '      73.      The Dark Knight Rises(2012)',\n",
       " '      74.      Aliens(1986)',\n",
       " '      75.      Coco(2017)',\n",
       " '      76.      Pather Panchali(1955)',\n",
       " '      77.      Das Boot(1981)',\n",
       " '      78.      Capharnaüm(2018)',\n",
       " '      79.      Avengers: Endgame(2019)',\n",
       " '      80.      Tengoku to jigoku(1963)',\n",
       " '      81.      American Beauty(1999)',\n",
       " '      82.      Toy Story(1995)',\n",
       " '      83.      Braveheart(1995)',\n",
       " '      84.      Amadeus(1984)',\n",
       " '      85.      3 Idiots(2009)',\n",
       " '      86.      Inglourious Basterds(2009)',\n",
       " '      87.      Good Will Hunting(1997)',\n",
       " '      88.      Star Wars: Episode VI - Return of the Jedi(1983)',\n",
       " '      89.      2001: A Space Odyssey(1968)',\n",
       " '      90.      Reservoir Dogs(1992)',\n",
       " '      91.      M - Eine Stadt sucht einen Mörder(1931)',\n",
       " '      92.      Taare Zameen Par(2007)',\n",
       " '      93.      Citizen Kane(1941)',\n",
       " '      94.      Vertigo(1958)',\n",
       " '      95.      Requiem for a Dream(2000)',\n",
       " '      96.      Jagten(2012)',\n",
       " '      97.      Idi i smotri(1985)',\n",
       " \"      98.      Singin' in the Rain(1952)\",\n",
       " '      99.      North by Northwest(1959)',\n",
       " '      100.      Eternal Sunshine of the Spotless Mind(2004)']"
      ]
     },
     "execution_count": 9,
     "metadata": {},
     "output_type": "execute_result"
    }
   ],
   "source": [
    "#Extracting Top rated 100 movies name\n",
    "movie_names=soup.find_all('td', class_=\"titleColumn\")\n",
    "#Creating a list of top 100 movies by for loop\n",
    "top_movies_name=[] #empty list\n",
    "for i in movie_names:\n",
    "    top_movies_name.append(i.text.replace('\\n',\"\"))\n",
    "top_movies_name[:100]"
   ]
  },
  {
   "cell_type": "code",
   "execution_count": 10,
   "metadata": {},
   "outputs": [
    {
     "data": {
      "text/plain": [
       "['9.2',\n",
       " '9.1',\n",
       " '9.0',\n",
       " '9.0',\n",
       " '8.9',\n",
       " '8.9',\n",
       " '8.9',\n",
       " '8.8',\n",
       " '8.8',\n",
       " '8.8',\n",
       " '8.8',\n",
       " '8.7',\n",
       " '8.7',\n",
       " '8.7',\n",
       " '8.7',\n",
       " '8.6',\n",
       " '8.6',\n",
       " '8.6',\n",
       " '8.6',\n",
       " '8.6',\n",
       " '8.6',\n",
       " '8.6',\n",
       " '8.6',\n",
       " '8.6',\n",
       " '8.6',\n",
       " '8.5',\n",
       " '8.5',\n",
       " '8.5',\n",
       " '8.5',\n",
       " '8.5',\n",
       " '8.5',\n",
       " '8.5',\n",
       " '8.5',\n",
       " '8.5',\n",
       " '8.5',\n",
       " '8.5',\n",
       " '8.5',\n",
       " '8.5',\n",
       " '8.5',\n",
       " '8.5',\n",
       " '8.5',\n",
       " '8.5',\n",
       " '8.5',\n",
       " '8.5',\n",
       " '8.5',\n",
       " '8.5',\n",
       " '8.5',\n",
       " '8.4',\n",
       " '8.4',\n",
       " '8.4',\n",
       " '8.4',\n",
       " '8.4',\n",
       " '8.4',\n",
       " '8.4',\n",
       " '8.4',\n",
       " '8.4',\n",
       " '8.4',\n",
       " '8.4',\n",
       " '8.4',\n",
       " '8.4',\n",
       " '8.4',\n",
       " '8.4',\n",
       " '8.4',\n",
       " '8.4',\n",
       " '8.4',\n",
       " '8.4',\n",
       " '8.3',\n",
       " '8.3',\n",
       " '8.3',\n",
       " '8.3',\n",
       " '8.3',\n",
       " '8.3',\n",
       " '8.3',\n",
       " '8.3',\n",
       " '8.3',\n",
       " '8.3',\n",
       " '8.3',\n",
       " '8.3',\n",
       " '8.3',\n",
       " '8.3',\n",
       " '8.3',\n",
       " '8.3',\n",
       " '8.3',\n",
       " '8.3',\n",
       " '8.3',\n",
       " '8.3',\n",
       " '8.3',\n",
       " '8.3',\n",
       " '8.3',\n",
       " '8.3',\n",
       " '8.3',\n",
       " '8.3',\n",
       " '8.3',\n",
       " '8.3',\n",
       " '8.3',\n",
       " '8.3',\n",
       " '8.3',\n",
       " '8.3',\n",
       " '8.3',\n",
       " '8.3',\n",
       " '8.3',\n",
       " '8.3',\n",
       " '8.2',\n",
       " '8.2',\n",
       " '8.2',\n",
       " '8.2',\n",
       " '8.2',\n",
       " '8.2',\n",
       " '8.2',\n",
       " '8.2',\n",
       " '8.2',\n",
       " '8.2',\n",
       " '8.2',\n",
       " '8.2',\n",
       " '8.2',\n",
       " '8.2',\n",
       " '8.2',\n",
       " '8.2',\n",
       " '8.2',\n",
       " '8.2',\n",
       " '8.2',\n",
       " '8.2',\n",
       " '8.2',\n",
       " '8.2',\n",
       " '8.2',\n",
       " '8.2',\n",
       " '8.2',\n",
       " '8.2',\n",
       " '8.2',\n",
       " '8.2',\n",
       " '8.2',\n",
       " '8.2',\n",
       " '8.2',\n",
       " '8.2',\n",
       " '8.2',\n",
       " '8.2',\n",
       " '8.2',\n",
       " '8.2',\n",
       " '8.2',\n",
       " '8.2',\n",
       " '8.2',\n",
       " '8.2',\n",
       " '8.2',\n",
       " '8.2',\n",
       " '8.2',\n",
       " '8.1',\n",
       " '8.1',\n",
       " '8.1',\n",
       " '8.1',\n",
       " '8.1',\n",
       " '8.1',\n",
       " '8.1',\n",
       " '8.1',\n",
       " '8.1',\n",
       " '8.1',\n",
       " '8.1',\n",
       " '8.1',\n",
       " '8.1',\n",
       " '8.1',\n",
       " '8.1',\n",
       " '8.1',\n",
       " '8.1',\n",
       " '8.1',\n",
       " '8.1',\n",
       " '8.1',\n",
       " '8.1',\n",
       " '8.1',\n",
       " '8.1',\n",
       " '8.1',\n",
       " '8.1',\n",
       " '8.1',\n",
       " '8.1',\n",
       " '8.1',\n",
       " '8.1',\n",
       " '8.1',\n",
       " '8.1',\n",
       " '8.1',\n",
       " '8.1',\n",
       " '8.1',\n",
       " '8.1',\n",
       " '8.1',\n",
       " '8.1',\n",
       " '8.1',\n",
       " '8.1',\n",
       " '8.1',\n",
       " '8.1',\n",
       " '8.1',\n",
       " '8.1',\n",
       " '8.1',\n",
       " '8.1',\n",
       " '8.1',\n",
       " '8.1',\n",
       " '8.1',\n",
       " '8.1',\n",
       " '8.1',\n",
       " '8.1',\n",
       " '8.1',\n",
       " '8.1',\n",
       " '8.1',\n",
       " '8.1',\n",
       " '8.1',\n",
       " '8.1',\n",
       " '8.1',\n",
       " '8.1',\n",
       " '8.1',\n",
       " '8.1',\n",
       " '8.1',\n",
       " '8.1',\n",
       " '8.1',\n",
       " '8.1',\n",
       " '8.1',\n",
       " '8.1',\n",
       " '8.1',\n",
       " '8.1',\n",
       " '8.1',\n",
       " '8.1',\n",
       " '8.1',\n",
       " '8.1',\n",
       " '8.0',\n",
       " '8.0',\n",
       " '8.0',\n",
       " '8.0',\n",
       " '8.0',\n",
       " '8.0',\n",
       " '8.0',\n",
       " '8.0',\n",
       " '8.0',\n",
       " '8.0',\n",
       " '8.0',\n",
       " '8.0',\n",
       " '8.0',\n",
       " '8.0',\n",
       " '8.0',\n",
       " '8.0',\n",
       " '8.0',\n",
       " '8.0',\n",
       " '8.0',\n",
       " '8.0',\n",
       " '8.0',\n",
       " '8.0',\n",
       " '8.0',\n",
       " '8.0',\n",
       " '8.0',\n",
       " '8.0',\n",
       " '8.0',\n",
       " '8.0',\n",
       " '8.0',\n",
       " '8.0',\n",
       " '8.0',\n",
       " '8.0']"
      ]
     },
     "execution_count": 10,
     "metadata": {},
     "output_type": "execute_result"
    }
   ],
   "source": [
    "#IMDB Rating of movies\n",
    "movie_ratings=soup.find_all('td', class_=\"ratingColumn imdbRating\")\n",
    "#creating list of movie rating \n",
    "top_movies_rating=[] #empty list\n",
    "for i in movie_ratings:\n",
    "    top_movies_rating.append(i.text.replace('\\n',\"\"))\n",
    "top_movies_rating"
   ]
  },
  {
   "cell_type": "code",
   "execution_count": 11,
   "metadata": {},
   "outputs": [
    {
     "data": {
      "text/html": [
       "<div>\n",
       "<style scoped>\n",
       "    .dataframe tbody tr th:only-of-type {\n",
       "        vertical-align: middle;\n",
       "    }\n",
       "\n",
       "    .dataframe tbody tr th {\n",
       "        vertical-align: top;\n",
       "    }\n",
       "\n",
       "    .dataframe thead th {\n",
       "        text-align: right;\n",
       "    }\n",
       "</style>\n",
       "<table border=\"1\" class=\"dataframe\">\n",
       "  <thead>\n",
       "    <tr style=\"text-align: right;\">\n",
       "      <th></th>\n",
       "      <th>Name</th>\n",
       "      <th>Rating</th>\n",
       "    </tr>\n",
       "  </thead>\n",
       "  <tbody>\n",
       "    <tr>\n",
       "      <th>0</th>\n",
       "      <td>1.      The Shawshank Redemption(1994)</td>\n",
       "      <td>9.2</td>\n",
       "    </tr>\n",
       "    <tr>\n",
       "      <th>1</th>\n",
       "      <td>2.      The Godfather(1972)</td>\n",
       "      <td>9.1</td>\n",
       "    </tr>\n",
       "    <tr>\n",
       "      <th>2</th>\n",
       "      <td>3.      The Godfather: Part II(1974)</td>\n",
       "      <td>9.0</td>\n",
       "    </tr>\n",
       "    <tr>\n",
       "      <th>3</th>\n",
       "      <td>4.      The Dark Knight(2008)</td>\n",
       "      <td>9.0</td>\n",
       "    </tr>\n",
       "    <tr>\n",
       "      <th>4</th>\n",
       "      <td>5.      12 Angry Men(1957)</td>\n",
       "      <td>8.9</td>\n",
       "    </tr>\n",
       "    <tr>\n",
       "      <th>...</th>\n",
       "      <td>...</td>\n",
       "      <td>...</td>\n",
       "    </tr>\n",
       "    <tr>\n",
       "      <th>95</th>\n",
       "      <td>96.      Jagten(2012)</td>\n",
       "      <td>8.3</td>\n",
       "    </tr>\n",
       "    <tr>\n",
       "      <th>96</th>\n",
       "      <td>97.      Idi i smotri(1985)</td>\n",
       "      <td>8.3</td>\n",
       "    </tr>\n",
       "    <tr>\n",
       "      <th>97</th>\n",
       "      <td>98.      Singin' in the Rain(1952)</td>\n",
       "      <td>8.3</td>\n",
       "    </tr>\n",
       "    <tr>\n",
       "      <th>98</th>\n",
       "      <td>99.      North by Northwest(1959)</td>\n",
       "      <td>8.3</td>\n",
       "    </tr>\n",
       "    <tr>\n",
       "      <th>99</th>\n",
       "      <td>100.      Eternal Sunshine of the Spotle...</td>\n",
       "      <td>8.3</td>\n",
       "    </tr>\n",
       "  </tbody>\n",
       "</table>\n",
       "<p>100 rows × 2 columns</p>\n",
       "</div>"
      ],
      "text/plain": [
       "                                                 Name Rating\n",
       "0              1.      The Shawshank Redemption(1994)    9.2\n",
       "1                         2.      The Godfather(1972)    9.1\n",
       "2                3.      The Godfather: Part II(1974)    9.0\n",
       "3                       4.      The Dark Knight(2008)    9.0\n",
       "4                          5.      12 Angry Men(1957)    8.9\n",
       "..                                                ...    ...\n",
       "95                              96.      Jagten(2012)    8.3\n",
       "96                        97.      Idi i smotri(1985)    8.3\n",
       "97                 98.      Singin' in the Rain(1952)    8.3\n",
       "98                  99.      North by Northwest(1959)    8.3\n",
       "99        100.      Eternal Sunshine of the Spotle...    8.3\n",
       "\n",
       "[100 rows x 2 columns]"
      ]
     },
     "execution_count": 11,
     "metadata": {},
     "output_type": "execute_result"
    }
   ],
   "source": [
    "#creating dataframe of movies\n",
    "Movies=pd.DataFrame({})\n",
    "Movies['Name']=top_movies_name\n",
    "Movies['Rating']=top_movies_rating\n",
    "\n",
    "Movies_100= Movies[:100]\n",
    "\n",
    "#list of top 100 moview along with there year of realesing and ratings\n",
    "Movies_100"
   ]
  },
  {
   "cell_type": "markdown",
   "metadata": {},
   "source": [
    "# 3. Write a python program to display IMDB’s Top rated 100 Indian movies’ data (i.e. Name, IMDB rating, Year of release) and make data frame. "
   ]
  },
  {
   "cell_type": "code",
   "execution_count": 12,
   "metadata": {},
   "outputs": [
    {
     "data": {
      "text/plain": [
       "<Response [200]>"
      ]
     },
     "execution_count": 12,
     "metadata": {},
     "output_type": "execute_result"
    }
   ],
   "source": [
    "#checking site response for scraping\n",
    "page= requests.get(\"https://www.imdb.com/india/top-rated-indian-movies/\")\n",
    "page"
   ]
  },
  {
   "cell_type": "markdown",
   "metadata": {},
   "source": [
    "we get response [200] so we scrap"
   ]
  },
  {
   "cell_type": "code",
   "execution_count": 13,
   "metadata": {},
   "outputs": [],
   "source": [
    "soup=BeautifulSoup(page.content)"
   ]
  },
  {
   "cell_type": "code",
   "execution_count": 14,
   "metadata": {},
   "outputs": [
    {
     "data": {
      "text/plain": [
       "['      1.      Pather Panchali(1955)',\n",
       " '      2.      Nayakan(1987)',\n",
       " '      3.      Pariyerum Perumal(2018)',\n",
       " '      4.      Anbe Sivam(2003)',\n",
       " '      5.      Golmaal(1979)',\n",
       " '      6.      C/o Kancharapalem(2018)',\n",
       " '      7.      Apur Sansar(1959)',\n",
       " '      8.      Kireedam(1989)',\n",
       " '      9.      Manichitrathazhu(1993)',\n",
       " '      10.      Natsamrat(2016)',\n",
       " '      11.      96(2018)',\n",
       " '      12.      Black Friday(2004)',\n",
       " '      13.      Thevar Magan(1992)',\n",
       " '      14.      Drishyam 2(2021)',\n",
       " '      15.      Kumbalangi Nights(2019)',\n",
       " '      16.      3 Idiots(2009)',\n",
       " '      17.      Visaaranai(2015)',\n",
       " '      18.      Taare Zameen Par(2007)',\n",
       " '      19.      Jersey(2019)',\n",
       " '      20.      Ratsasan(2018)',\n",
       " '      21.      Soorarai Pottru(2020)',\n",
       " '      22.      Thalapathi(1991)',\n",
       " '      23.      Dangal(2016)',\n",
       " '      24.      Asuran(2019)',\n",
       " '      25.      Kaithi(2019)',\n",
       " '      26.      Devasuram(1993)',\n",
       " '      27.      Aparajito(1956)',\n",
       " '      28.      Jaane Bhi Do Yaaro(1983)',\n",
       " '      29.      Peranbu(2018)',\n",
       " '      30.      Vada Chennai(2018)',\n",
       " '      31.      Pyaasa(1957)',\n",
       " '      32.      Guide(1965)',\n",
       " '      33.      Thani Oruvan(2015)',\n",
       " '      34.      Kannathil Muthamittal(2002)',\n",
       " '      35.      Chupke Chupke(1975)',\n",
       " '      36.      Iruvar(1997)',\n",
       " '      37.      Spadikam(1995)',\n",
       " '      38.      Agent Sai Srinivasa Athreya(2019)',\n",
       " '      39.      Super Deluxe(2019)',\n",
       " '      40.      Drishyam(2013)',\n",
       " '      41.      Vikram Vedha(2017)',\n",
       " '      42.      Aruvi(2016)',\n",
       " '      43.      Tumbbad(2018)',\n",
       " '      44.      Mahanati(2018)',\n",
       " '      45.      Khosla Ka Ghosla!(2006)',\n",
       " '      46.      Anand(1971)',\n",
       " '      47.      Pudhu Pettai(2006)',\n",
       " '      48.      Premam(2015)',\n",
       " '      49.      Anniyan(2005)',\n",
       " '      50.      Kaakkaa Muttai(2014)',\n",
       " '      51.      Andhadhun(2018)',\n",
       " '      52.      Mudhalvan(1999)',\n",
       " '      53.      Bangalore Days(2014)',\n",
       " '      54.      Dhuruvangal Pathinaaru(2016)',\n",
       " '      55.      Satya(1998)',\n",
       " '      56.      Papanasam(2015)',\n",
       " '      57.      Shahid(2012)',\n",
       " '      58.      Soodhu Kavvum(2013)',\n",
       " '      59.      Jigarthanda(2014)',\n",
       " '      60.      Pithamagan(2003)',\n",
       " '      61.      Gangs of Wasseypur(2012)',\n",
       " '      62.      Paan Singh Tomar(2012)',\n",
       " '      63.      Sairat(2016)',\n",
       " '      64.      Bhaag Milkha Bhaag(2013)',\n",
       " '      65.      Talvar(2015)',\n",
       " '      66.      Hera Pheri(2000)',\n",
       " '      67.      Swades: We, the People(2004)',\n",
       " '      68.      Sholay(1975)',\n",
       " '      69.      Black(2005)',\n",
       " '      70.      Ustad Hotel(2012)',\n",
       " '      71.      Chak De! India(2007)',\n",
       " '      72.      Nil Battey Sannata(2015)',\n",
       " '      73.      Jo Jeeta Wohi Sikandar(1992)',\n",
       " '      74.      Drishyam(2015)',\n",
       " '      75.      Maheshinte Prathikaaram(2016)',\n",
       " '      76.      Mughal-E-Azam(1960)',\n",
       " '      77.      Charulata(1964)',\n",
       " '      78.      Zindagi Na Milegi Dobara(2011)',\n",
       " '      79.      Article 15(2019)',\n",
       " '      80.      Udaan(2010)',\n",
       " '      81.      Theeran adhigaaram ondru(2017)',\n",
       " '      82.      A Wednesday(2008)',\n",
       " '      83.      Queen(2013)',\n",
       " '      84.      Masaan(2015)',\n",
       " '      85.      Munna Bhai M.B.B.S.(2003)',\n",
       " '      86.      Sarfarosh(1999)',\n",
       " '      87.      Alai Payuthey(2000)',\n",
       " '      88.      Dil Chahta Hai(2001)',\n",
       " '      89.      Roja(1992)',\n",
       " '      90.      OMG: Oh My God!(2012)',\n",
       " '      91.      Baasha(1995)',\n",
       " '      92.      Rang De Basanti(2006)',\n",
       " '      93.      Chhichhore(2019)',\n",
       " '      94.      Lagaan: Once Upon a Time in India(2001)',\n",
       " '      95.      Kahaani(2012)',\n",
       " '      96.      Andaz Apna Apna(1994)',\n",
       " '      97.      Uri: The Surgical Strike(2018)',\n",
       " '      98.      Virumandi(2004)',\n",
       " '      99.      PK(2014)',\n",
       " '      100.      Lucia(2013)',\n",
       " '      101.      Iqbal(2005)',\n",
       " '      102.      Bommarillu(2006)',\n",
       " '      103.      The Legend of Bhagat Singh(2002)',\n",
       " '      104.      Barfi!(2012)',\n",
       " '      105.      Pink(2016)',\n",
       " '      106.      Maqbool(2003)',\n",
       " '      107.      Bombay(1995)',\n",
       " '      108.      Section 375(2019)',\n",
       " '      109.      Omkara(2006)',\n",
       " '      110.      Indian(1996)',\n",
       " '      111.      Lage Raho Munna Bhai(2006)',\n",
       " '      112.      The Great Indian Kitchen(2021)',\n",
       " '      113.      Thadam(2019)',\n",
       " '      114.      Pelli Choopulu(2016)',\n",
       " '      115.      Deewaar(1975)',\n",
       " '      116.      Baahubali 2: The Conclusion(2017)',\n",
       " '      117.      Pranchiyettan and the Saint(2010)',\n",
       " '      118.      Padosan(1968)',\n",
       " '      119.      Naduvula Konjam Pakkatha Kaanom(2012)',\n",
       " '      120.      Gulaal(2009)',\n",
       " '      121.      Athadu(2005)',\n",
       " '      122.      Dilwale Dulhania Le Jayenge(1995)',\n",
       " '      123.      Haider(2014)',\n",
       " '      124.      Rangasthalam(2018)',\n",
       " '      125.      Take Off(2017)',\n",
       " '      126.      Thondimuthalum Dhriksakshiyum(2017)',\n",
       " '      127.      Ugly(2013)',\n",
       " '      128.      Padayappa(1999)',\n",
       " '      129.      Mother India(1957)',\n",
       " '      130.      Special Chabbis(2013)',\n",
       " '      131.      Aadukalam(2011)',\n",
       " '      132.      K.G.F: Chapter 1(2018)',\n",
       " '      133.      Gully Boy(2019)',\n",
       " '      134.      Ship of Theseus(2012)',\n",
       " '      135.      Vaaranam Aayiram(2008)',\n",
       " '      136.      Ulidavaru Kandanthe(2014)',\n",
       " '      137.      Badhaai ho(2018)',\n",
       " '      138.      Dev.D(2009)',\n",
       " '      139.      Bajrangi Bhaijaan(2015)',\n",
       " '      140.      Vedam(2010)',\n",
       " '      141.      Jalsaghar(1958)',\n",
       " '      142.      Karnan(2021)',\n",
       " '      143.      Vaastav: The Reality(1999)',\n",
       " '      144.      Ankhon Dekhi(2013)',\n",
       " '      145.      Company(2002)',\n",
       " '      146.      Mukkabaaz(2017)',\n",
       " '      147.      Deiva Thirumagal(2011)',\n",
       " '      148.      Arjun Reddy(2017)',\n",
       " '      149.      Manjhi: The Mountain Man(2015)',\n",
       " '      150.      Pizza(2012)',\n",
       " '      151.      My Name Is Khan(2010)',\n",
       " '      152.      Dil Bechara(2020)',\n",
       " '      153.      Memories(2013)',\n",
       " '      154.      Kal Ho Naa Ho(2003)',\n",
       " '      155.      Charlie(2015)',\n",
       " '      156.      Jab We Met(2007)',\n",
       " '      157.      Angamaly Diaries(2017)',\n",
       " '      158.      Mumbai Police(2013)',\n",
       " '      159.      Vinnaithaandi Varuvaayaa(2010)',\n",
       " '      160.      Border(1997)',\n",
       " '      161.      Unnaipol Oruvan(2009)',\n",
       " '      162.      Super 30(2019)',\n",
       " '      163.      Kaakha..Kaakha: The Police(2003)',\n",
       " '      164.      Padman(2018)',\n",
       " '      165.      Lakshya(2004)',\n",
       " '      166.      Dor(2006)',\n",
       " '      167.      Bãhubali: The Beginning(2015)',\n",
       " '      168.      Vettaiyaadu Vilaiyaadu(2006)',\n",
       " '      169.      Hey Ram(2000)',\n",
       " '      170.      Baby(2015)',\n",
       " '      171.      Airlift(2016)',\n",
       " '      172.      Anjaam Pathiraa(2020)',\n",
       " '      173.      Sonchiriya(2019)',\n",
       " '      174.      Hindi Medium(2017)',\n",
       " '      175.      Poove Unakkaga(1996)',\n",
       " '      176.      Okkadu(2003)',\n",
       " '      177.      English Vinglish(2012)',\n",
       " '      178.      Gangaajal(2003)',\n",
       " '      179.      Manam(2014)',\n",
       " '      180.      The Lunchbox(2013)',\n",
       " '      181.      Johnny Gaddaar(2007)',\n",
       " '      182.      Ab Tak Chhappan(2004)',\n",
       " '      183.      Joji(2021)',\n",
       " '      184.      Badla(2019)',\n",
       " '      185.      Secret Superstar(2017)',\n",
       " '      186.      Pokiri(2006)',\n",
       " '      187.      Nayak: The Real Hero(2001)',\n",
       " '      188.      Vicky Donor(2012)',\n",
       " '      189.      Mr. India(1987)',\n",
       " '      190.      Raazi(2018)',\n",
       " '      191.      M.S. Dhoni: The Untold Story(2016)',\n",
       " '      192.      Udta Punjab(2016)',\n",
       " '      193.      Stanley Ka Dabba(2011)',\n",
       " '      194.      Don(1978)',\n",
       " '      195.      RangiTaranga(2015)',\n",
       " '      196.      Goodachari(2018)',\n",
       " '      197.      Rock On!!(2008)',\n",
       " '      198.      Veer-Zaara(2004)',\n",
       " '      199.      Ko(2011)',\n",
       " '      200.      Dasvidaniya(2008)',\n",
       " '      201.      Aligarh(2015)',\n",
       " '      202.      Velaiilla Pattadhari(2014)',\n",
       " '      203.      Arya(2004)',\n",
       " '      204.      Guru(2007)',\n",
       " '      205.      Samsara(2001)',\n",
       " '      206.      Thuppakki(2012)',\n",
       " '      207.      Kai po che!(2013)',\n",
       " '      208.      Oye Lucky! Lucky Oye!(2008)',\n",
       " '      209.      Kaththi(2014)',\n",
       " '      210.      Mumbai Meri Jaan(2008)',\n",
       " '      211.      24(2016)',\n",
       " '      212.      Rockstar(2011)',\n",
       " '      213.      Avane Srimannarayana(2019)',\n",
       " '      214.      Eega(2012)',\n",
       " '      215.      Kabhi Haan Kabhi Naa(1994)',\n",
       " '      216.      Darr(1993)',\n",
       " '      217.      Kapoor & Sons(2016)',\n",
       " '      218.      Ugramm(2014)',\n",
       " '      219.      Newton(2017)',\n",
       " '      220.      Ghilli(2004)',\n",
       " '      221.      Aamir(2008)',\n",
       " '      222.      The Tashkent Files(2019)',\n",
       " '      223.      Earth(1998)',\n",
       " '      224.      Sir(2018)',\n",
       " '      225.      Agneepath(1990)',\n",
       " '      226.      Madras Cafe(2013)',\n",
       " '      227.      Sarkar(2005)',\n",
       " '      228.      Pyaar Ka Punchnama(2011)',\n",
       " '      229.      Bheja Fry(2007)',\n",
       " '      230.      Neerja(2016)',\n",
       " '      231.      Detective Byomkesh Bakshy!(2015)',\n",
       " '      232.      Highway(2014)',\n",
       " '      233.      Kannum Kannum Kollaiyadithaal(2020)',\n",
       " '      234.      Magadheera(2009)',\n",
       " '      235.      Baazigar(1993)',\n",
       " '      236.      Manorama: Six Feet Under(2007)',\n",
       " '      237.      Tanu Weds Manu Returns(2015)',\n",
       " '      238.      Saala Khadoos(2016)',\n",
       " '      239.      Ludo(2020)',\n",
       " '      240.      Wake Up Sid(2009)',\n",
       " '      241.      Piku(2015)',\n",
       " '      242.      1 - Nenokkadine(2014)',\n",
       " '      243.      Dhruva(2016)',\n",
       " '      244.      Geetha Govindam(2018)',\n",
       " '      245.      Kuch Kuch Hota Hai(1998)',\n",
       " '      246.      Jodhaa Akbar(2008)',\n",
       " '      247.      Trapped(2016)',\n",
       " '      248.      Sanju(2018)',\n",
       " '      249.      Parmanu: The Story of Pokhran(2018)',\n",
       " '      250.      Delhi Belly(2011)']"
      ]
     },
     "execution_count": 14,
     "metadata": {},
     "output_type": "execute_result"
    }
   ],
   "source": [
    "#Extracting Top rated 100 Indian movies name\n",
    "IM_name=soup.find_all('td', class_=\"titleColumn\")\n",
    "#Creating a list of top indian movies by for loop\n",
    "Indian_movies_name=[] #empty list\n",
    "for i in IM_name:\n",
    "    Indian_movies_name.append(i.text.replace('\\n',\"\"))\n",
    "Indian_movies_name"
   ]
  },
  {
   "cell_type": "code",
   "execution_count": 15,
   "metadata": {},
   "outputs": [
    {
     "data": {
      "text/plain": [
       "['8.5',\n",
       " '8.5',\n",
       " '8.5',\n",
       " '8.5',\n",
       " '8.5',\n",
       " '8.5',\n",
       " '8.5',\n",
       " '8.4',\n",
       " '8.4',\n",
       " '8.4',\n",
       " '8.4',\n",
       " '8.4',\n",
       " '8.4',\n",
       " '8.4',\n",
       " '8.4',\n",
       " '8.3',\n",
       " '8.3',\n",
       " '8.3',\n",
       " '8.3',\n",
       " '8.3',\n",
       " '8.3',\n",
       " '8.3',\n",
       " '8.3',\n",
       " '8.3',\n",
       " '8.3',\n",
       " '8.3',\n",
       " '8.3',\n",
       " '8.3',\n",
       " '8.3',\n",
       " '8.3',\n",
       " '8.3',\n",
       " '8.3',\n",
       " '8.2',\n",
       " '8.2',\n",
       " '8.2',\n",
       " '8.2',\n",
       " '8.2',\n",
       " '8.2',\n",
       " '8.2',\n",
       " '8.2',\n",
       " '8.2',\n",
       " '8.2',\n",
       " '8.2',\n",
       " '8.2',\n",
       " '8.2',\n",
       " '8.2',\n",
       " '8.2',\n",
       " '8.2',\n",
       " '8.2',\n",
       " '8.2',\n",
       " '8.2',\n",
       " '8.2',\n",
       " '8.2',\n",
       " '8.2',\n",
       " '8.2',\n",
       " '8.2',\n",
       " '8.2',\n",
       " '8.2',\n",
       " '8.1',\n",
       " '8.1',\n",
       " '8.1',\n",
       " '8.1',\n",
       " '8.1',\n",
       " '8.1',\n",
       " '8.1',\n",
       " '8.1',\n",
       " '8.1',\n",
       " '8.1',\n",
       " '8.1',\n",
       " '8.1',\n",
       " '8.1',\n",
       " '8.1',\n",
       " '8.1',\n",
       " '8.1',\n",
       " '8.1',\n",
       " '8.1',\n",
       " '8.1',\n",
       " '8.1',\n",
       " '8.1',\n",
       " '8.1',\n",
       " '8.1',\n",
       " '8.1',\n",
       " '8.1',\n",
       " '8.1',\n",
       " '8.1',\n",
       " '8.1',\n",
       " '8.1',\n",
       " '8.1',\n",
       " '8.1',\n",
       " '8.1',\n",
       " '8.1',\n",
       " '8.1',\n",
       " '8.1',\n",
       " '8.1',\n",
       " '8.1',\n",
       " '8.1',\n",
       " '8.1',\n",
       " '8.1',\n",
       " '8.1',\n",
       " '8.1',\n",
       " '8.1',\n",
       " '8.1',\n",
       " '8.1',\n",
       " '8.0',\n",
       " '8.0',\n",
       " '8.0',\n",
       " '8.0',\n",
       " '8.0',\n",
       " '8.0',\n",
       " '8.0',\n",
       " '8.0',\n",
       " '8.0',\n",
       " '8.0',\n",
       " '8.0',\n",
       " '8.0',\n",
       " '8.0',\n",
       " '8.0',\n",
       " '8.0',\n",
       " '8.0',\n",
       " '8.0',\n",
       " '8.0',\n",
       " '8.0',\n",
       " '8.0',\n",
       " '8.0',\n",
       " '8.0',\n",
       " '8.0',\n",
       " '8.0',\n",
       " '8.0',\n",
       " '8.0',\n",
       " '7.9',\n",
       " '7.9',\n",
       " '7.9',\n",
       " '7.9',\n",
       " '7.9',\n",
       " '7.9',\n",
       " '7.9',\n",
       " '7.9',\n",
       " '7.9',\n",
       " '7.9',\n",
       " '7.9',\n",
       " '7.9',\n",
       " '7.9',\n",
       " '7.9',\n",
       " '7.9',\n",
       " '7.9',\n",
       " '7.9',\n",
       " '7.9',\n",
       " '7.9',\n",
       " '7.9',\n",
       " '7.9',\n",
       " '7.9',\n",
       " '7.9',\n",
       " '7.9',\n",
       " '7.9',\n",
       " '7.9',\n",
       " '7.9',\n",
       " '7.8',\n",
       " '7.8',\n",
       " '7.8',\n",
       " '7.8',\n",
       " '7.8',\n",
       " '7.8',\n",
       " '7.8',\n",
       " '7.8',\n",
       " '7.8',\n",
       " '7.8',\n",
       " '7.8',\n",
       " '7.8',\n",
       " '7.8',\n",
       " '7.8',\n",
       " '7.8',\n",
       " '7.8',\n",
       " '7.8',\n",
       " '7.8',\n",
       " '7.8',\n",
       " '7.8',\n",
       " '7.8',\n",
       " '7.8',\n",
       " '7.8',\n",
       " '7.8',\n",
       " '7.8',\n",
       " '7.8',\n",
       " '7.8',\n",
       " '7.8',\n",
       " '7.8',\n",
       " '7.7',\n",
       " '7.7',\n",
       " '7.7',\n",
       " '7.7',\n",
       " '7.7',\n",
       " '7.7',\n",
       " '7.7',\n",
       " '7.7',\n",
       " '7.7',\n",
       " '7.7',\n",
       " '7.7',\n",
       " '7.7',\n",
       " '7.7',\n",
       " '7.7',\n",
       " '7.7',\n",
       " '7.7',\n",
       " '7.7',\n",
       " '7.7',\n",
       " '7.7',\n",
       " '7.7',\n",
       " '7.7',\n",
       " '7.7',\n",
       " '7.7',\n",
       " '7.7',\n",
       " '7.7',\n",
       " '7.6',\n",
       " '7.6',\n",
       " '7.6',\n",
       " '7.6',\n",
       " '7.6',\n",
       " '7.6',\n",
       " '7.6',\n",
       " '7.6',\n",
       " '7.6',\n",
       " '7.6',\n",
       " '7.6',\n",
       " '7.6',\n",
       " '7.6',\n",
       " '7.6',\n",
       " '7.6',\n",
       " '7.6',\n",
       " '7.6',\n",
       " '7.6',\n",
       " '7.6',\n",
       " '7.6',\n",
       " '7.6',\n",
       " '7.6',\n",
       " '7.6',\n",
       " '7.6',\n",
       " '7.6',\n",
       " '7.6',\n",
       " '7.6',\n",
       " '7.6',\n",
       " '7.6',\n",
       " '7.6',\n",
       " '7.6',\n",
       " '7.6',\n",
       " '7.5',\n",
       " '7.5',\n",
       " '7.5',\n",
       " '7.5',\n",
       " '7.5',\n",
       " '7.5',\n",
       " '7.5',\n",
       " '7.5']"
      ]
     },
     "execution_count": 15,
     "metadata": {},
     "output_type": "execute_result"
    }
   ],
   "source": [
    "#IMDB Indian Rated movies\n",
    "IM_rating=soup.find_all('td', class_=\"ratingColumn imdbRating\")\n",
    "#creating list of Indian movie rating \n",
    "Indian_movies_rating=[] #empty list\n",
    "for i in IM_rating:\n",
    "    Indian_movies_rating.append(i.text.replace('\\n',\"\"))\n",
    "Indian_movies_rating"
   ]
  },
  {
   "cell_type": "code",
   "execution_count": 16,
   "metadata": {},
   "outputs": [
    {
     "data": {
      "text/html": [
       "<div>\n",
       "<style scoped>\n",
       "    .dataframe tbody tr th:only-of-type {\n",
       "        vertical-align: middle;\n",
       "    }\n",
       "\n",
       "    .dataframe tbody tr th {\n",
       "        vertical-align: top;\n",
       "    }\n",
       "\n",
       "    .dataframe thead th {\n",
       "        text-align: right;\n",
       "    }\n",
       "</style>\n",
       "<table border=\"1\" class=\"dataframe\">\n",
       "  <thead>\n",
       "    <tr style=\"text-align: right;\">\n",
       "      <th></th>\n",
       "      <th>Name</th>\n",
       "      <th>Rating</th>\n",
       "    </tr>\n",
       "  </thead>\n",
       "  <tbody>\n",
       "    <tr>\n",
       "      <th>0</th>\n",
       "      <td>1.      Pather Panchali(1955)</td>\n",
       "      <td>8.5</td>\n",
       "    </tr>\n",
       "    <tr>\n",
       "      <th>1</th>\n",
       "      <td>2.      Nayakan(1987)</td>\n",
       "      <td>8.5</td>\n",
       "    </tr>\n",
       "    <tr>\n",
       "      <th>2</th>\n",
       "      <td>3.      Pariyerum Perumal(2018)</td>\n",
       "      <td>8.5</td>\n",
       "    </tr>\n",
       "    <tr>\n",
       "      <th>3</th>\n",
       "      <td>4.      Anbe Sivam(2003)</td>\n",
       "      <td>8.5</td>\n",
       "    </tr>\n",
       "    <tr>\n",
       "      <th>4</th>\n",
       "      <td>5.      Golmaal(1979)</td>\n",
       "      <td>8.5</td>\n",
       "    </tr>\n",
       "    <tr>\n",
       "      <th>...</th>\n",
       "      <td>...</td>\n",
       "      <td>...</td>\n",
       "    </tr>\n",
       "    <tr>\n",
       "      <th>95</th>\n",
       "      <td>96.      Andaz Apna Apna(1994)</td>\n",
       "      <td>8.1</td>\n",
       "    </tr>\n",
       "    <tr>\n",
       "      <th>96</th>\n",
       "      <td>97.      Uri: The Surgical Strike(2018)</td>\n",
       "      <td>8.1</td>\n",
       "    </tr>\n",
       "    <tr>\n",
       "      <th>97</th>\n",
       "      <td>98.      Virumandi(2004)</td>\n",
       "      <td>8.1</td>\n",
       "    </tr>\n",
       "    <tr>\n",
       "      <th>98</th>\n",
       "      <td>99.      PK(2014)</td>\n",
       "      <td>8.1</td>\n",
       "    </tr>\n",
       "    <tr>\n",
       "      <th>99</th>\n",
       "      <td>100.      Lucia(2013)</td>\n",
       "      <td>8.1</td>\n",
       "    </tr>\n",
       "  </tbody>\n",
       "</table>\n",
       "<p>100 rows × 2 columns</p>\n",
       "</div>"
      ],
      "text/plain": [
       "                                             Name Rating\n",
       "0                   1.      Pather Panchali(1955)    8.5\n",
       "1                           2.      Nayakan(1987)    8.5\n",
       "2                 3.      Pariyerum Perumal(2018)    8.5\n",
       "3                        4.      Anbe Sivam(2003)    8.5\n",
       "4                           5.      Golmaal(1979)    8.5\n",
       "..                                            ...    ...\n",
       "95                 96.      Andaz Apna Apna(1994)    8.1\n",
       "96        97.      Uri: The Surgical Strike(2018)    8.1\n",
       "97                       98.      Virumandi(2004)    8.1\n",
       "98                              99.      PK(2014)    8.1\n",
       "99                          100.      Lucia(2013)    8.1\n",
       "\n",
       "[100 rows x 2 columns]"
      ]
     },
     "execution_count": 16,
     "metadata": {},
     "output_type": "execute_result"
    }
   ],
   "source": [
    "#creating dataframe to create a list of indian IMDB rated movies list\n",
    "Indian_Movies=pd.DataFrame({})\n",
    "Indian_Movies['Name']=Indian_movies_name\n",
    "Indian_Movies['Rating']=Indian_movies_rating\n",
    "\n",
    "Indian_Movies_100= Indian_Movies[:100]\n",
    "\n",
    "#list of top 100 movies along with there year of realesing and ratings\n",
    "Indian_Movies_100"
   ]
  },
  {
   "cell_type": "markdown",
   "metadata": {},
   "source": [
    "# 4. Write a python program to scrap book name, author name, genre and book review of any 5 books from\n",
    "‘www.bookpage.com’"
   ]
  },
  {
   "cell_type": "code",
   "execution_count": 17,
   "metadata": {},
   "outputs": [
    {
     "data": {
      "text/plain": [
       "<Response [200]>"
      ]
     },
     "execution_count": 17,
     "metadata": {},
     "output_type": "execute_result"
    }
   ],
   "source": [
    "#checking site response for scraping\n",
    "page= requests.get(\"https://bookpage.com/reviews/\")\n",
    "page"
   ]
  },
  {
   "cell_type": "markdown",
   "metadata": {},
   "source": [
    "we get response [200] so we scrap"
   ]
  },
  {
   "cell_type": "code",
   "execution_count": 18,
   "metadata": {},
   "outputs": [],
   "source": [
    "soup=BeautifulSoup(page.content, 'html.parser')"
   ]
  },
  {
   "cell_type": "code",
   "execution_count": 19,
   "metadata": {},
   "outputs": [
    {
     "data": {
      "text/plain": [
       "['Everyone Knows Your Mother Is a Witch',\n",
       " 'The Blue Wonder',\n",
       " ' ★ In',\n",
       " ' ★ The Hidden Palace',\n",
       " ' ★ Dear Senthuran',\n",
       " ' ★ The Jasmine Throne',\n",
       " 'One Two Three',\n",
       " 'The Most Perfect Thing in the Universe',\n",
       " ' ★ The Ugly Cry',\n",
       " ' ★ Indestructible Object']"
      ]
     },
     "execution_count": 19,
     "metadata": {},
     "output_type": "execute_result"
    }
   ],
   "source": [
    "#books name from page 1\n",
    "book_name=soup.find_all('h4', class_=\"italic\")\n",
    "book_namepg1=[] #empty list\n",
    "for i in book_name:\n",
    "    book_namepg1.append(i.text.replace('\\n',\"\"))\n",
    "book_namepg1"
   ]
  },
  {
   "cell_type": "code",
   "execution_count": 20,
   "metadata": {},
   "outputs": [
    {
     "data": {
      "text/plain": [
       "['Rivka Galchen',\n",
       " 'Frauke Bagusche, Jamie McIntosh',\n",
       " 'Will McPhail',\n",
       " 'Helene Wecker',\n",
       " 'Akwaeke Emezi',\n",
       " 'Tasha Suri',\n",
       " 'Laurie Frankel',\n",
       " 'Tricia Springstubb',\n",
       " 'Danielle Henderson',\n",
       " 'Mary McCoy']"
      ]
     },
     "execution_count": 20,
     "metadata": {},
     "output_type": "execute_result"
    }
   ],
   "source": [
    "#book author name of page 1\n",
    "author=soup.find_all('p', class_=\"sans bold\")\n",
    "book_author=[] #empty list\n",
    "for i in author:\n",
    "    book_author.append(i.text.replace('\\n',\"\"))\n",
    "book_author"
   ]
  },
  {
   "cell_type": "code",
   "execution_count": 21,
   "metadata": {},
   "outputs": [
    {
     "data": {
      "text/plain": [
       "['Fiction / Historical Fiction',\n",
       " 'Nonfiction / Nature / Animals',\n",
       " 'Graphic Novels & Comics / Graphic Novels',\n",
       " 'Fiction / Literary Fiction',\n",
       " 'Nonfiction / Memoir',\n",
       " 'Science Fiction & Fantasy / Fantasy',\n",
       " 'Fiction / Literary Fiction',\n",
       " \"Children's / Middle Grade\",\n",
       " 'Nonfiction / Memoir',\n",
       " 'YA / YA Fiction']"
      ]
     },
     "execution_count": 21,
     "metadata": {},
     "output_type": "execute_result"
    }
   ],
   "source": [
    "#book Genre\n",
    "genre=soup.find_all('p', class_=\"genre-links hidden-phone\")\n",
    "book_genre=[] #empty list\n",
    "for i in genre:\n",
    "    book_genre.append(i.text.replace('\\n',\"\"))\n",
    "book_genre"
   ]
  },
  {
   "cell_type": "code",
   "execution_count": 22,
   "metadata": {},
   "outputs": [
    {
     "data": {
      "text/plain": [
       "['/reviews/26279-rivka-galchen-everyone-knows-your-mother-witch-fiction',\n",
       " '/reviews/26311-frauke-bagusche-blue-wonder-nonfiction',\n",
       " '/reviews/26166-will-mcphail-graphic-novels-comics',\n",
       " '/reviews/26288-helene-wecker-hidden-palace-fiction',\n",
       " '/reviews/26303-akwaeke-emezi-dear-senthuran-nonfiction',\n",
       " '/reviews/26439-tasha-suri-jasmine-throne-science-fiction-fantasy',\n",
       " '/reviews/26285-laurie-frankel-one-two-three-fiction',\n",
       " '/reviews/26401-tricia-springstubb-most-perfect-thing-universe-childrens',\n",
       " '/reviews/26314-danielle-henderson-ugly-cry-nonfiction',\n",
       " '/reviews/26324-mary-mccoy-indestructible-object-ya']"
      ]
     },
     "execution_count": 22,
     "metadata": {},
     "output_type": "execute_result"
    }
   ],
   "source": [
    "#Extracting Next psge urls to get book review\n",
    "url_tags=soup.find_all('div', class_=\"read-full\")\n",
    "urls=[] #empty list\n",
    "for i in url_tags:\n",
    "    for j in i.find_all(\"a\"):\n",
    "            urls.append(j['href'])\n",
    "urls"
   ]
  },
  {
   "cell_type": "code",
   "execution_count": 23,
   "metadata": {},
   "outputs": [
    {
     "data": {
      "text/plain": [
       "['Review byArlene McKanic',\n",
       " 'Review byHenry L. Carrigan Jr.',\n",
       " 'Review byElena Britos',\n",
       " 'Review byMichael Alec Rose',\n",
       " 'Review byCatherine Hollis',\n",
       " 'Review byChris Pickens',\n",
       " 'Review byAlice Cary',\n",
       " 'Review byBillie B. Little',\n",
       " 'Review byPriscilla Kipp',\n",
       " 'Review byK.J. Witherow']"
      ]
     },
     "execution_count": 23,
     "metadata": {},
     "output_type": "execute_result"
    }
   ],
   "source": [
    "#Scrpe book reviews from multiple pages using urls\n",
    "book_review=[] #empty list\n",
    "for url in urls:\n",
    "    book=requests.get('https://bookpage.com'+url)\n",
    "    soup1=BeautifulSoup(book.content,'html.parser')\n",
    "    review_=soup1.find_all('p',class_=\"sans bold author-info\") #scrape boosk name\n",
    "    for i in review_:\n",
    "        book_review.append(i.text.replace('\\n',\"\"))\n",
    "book_review"
   ]
  },
  {
   "cell_type": "code",
   "execution_count": 24,
   "metadata": {},
   "outputs": [
    {
     "name": "stdout",
     "output_type": "stream",
     "text": [
      "10 10 10 10\n"
     ]
    }
   ],
   "source": [
    "print(len(book_namepg1), len(book_author), len(book_genre), len(book_review))"
   ]
  },
  {
   "cell_type": "markdown",
   "metadata": {},
   "source": [
    "length are same so we can creat dataframe"
   ]
  },
  {
   "cell_type": "code",
   "execution_count": 25,
   "metadata": {},
   "outputs": [],
   "source": [
    "#creating dataframe using list\n",
    "Book_detail=pd.DataFrame({})\n",
    "\n",
    "Book_detail['-------Book Name--------']=book_namepg1\n",
    "Book_detail['----------Author Name-----------']=book_author\n",
    "Book_detail['----------Genre----------']=book_genre\n",
    "Book_detail['--------Review-------']=book_review\n"
   ]
  },
  {
   "cell_type": "code",
   "execution_count": 26,
   "metadata": {},
   "outputs": [
    {
     "data": {
      "text/html": [
       "<div>\n",
       "<style scoped>\n",
       "    .dataframe tbody tr th:only-of-type {\n",
       "        vertical-align: middle;\n",
       "    }\n",
       "\n",
       "    .dataframe tbody tr th {\n",
       "        vertical-align: top;\n",
       "    }\n",
       "\n",
       "    .dataframe thead th {\n",
       "        text-align: right;\n",
       "    }\n",
       "</style>\n",
       "<table border=\"1\" class=\"dataframe\">\n",
       "  <thead>\n",
       "    <tr style=\"text-align: right;\">\n",
       "      <th></th>\n",
       "      <th>-------Book Name--------</th>\n",
       "      <th>----------Author Name-----------</th>\n",
       "      <th>----------Genre----------</th>\n",
       "      <th>--------Review-------</th>\n",
       "    </tr>\n",
       "  </thead>\n",
       "  <tbody>\n",
       "    <tr>\n",
       "      <th>0</th>\n",
       "      <td>Everyone Knows Your Mother Is a Witch</td>\n",
       "      <td>Rivka Galchen</td>\n",
       "      <td>Fiction / Historical Fiction</td>\n",
       "      <td>Review byArlene McKanic</td>\n",
       "    </tr>\n",
       "    <tr>\n",
       "      <th>1</th>\n",
       "      <td>The Blue Wonder</td>\n",
       "      <td>Frauke Bagusche, Jamie McIntosh</td>\n",
       "      <td>Nonfiction / Nature / Animals</td>\n",
       "      <td>Review byHenry L. Carrigan Jr.</td>\n",
       "    </tr>\n",
       "    <tr>\n",
       "      <th>2</th>\n",
       "      <td>★ In</td>\n",
       "      <td>Will McPhail</td>\n",
       "      <td>Graphic Novels &amp; Comics / Graphic Novels</td>\n",
       "      <td>Review byElena Britos</td>\n",
       "    </tr>\n",
       "    <tr>\n",
       "      <th>3</th>\n",
       "      <td>★ The Hidden Palace</td>\n",
       "      <td>Helene Wecker</td>\n",
       "      <td>Fiction / Literary Fiction</td>\n",
       "      <td>Review byMichael Alec Rose</td>\n",
       "    </tr>\n",
       "    <tr>\n",
       "      <th>4</th>\n",
       "      <td>★ Dear Senthuran</td>\n",
       "      <td>Akwaeke Emezi</td>\n",
       "      <td>Nonfiction / Memoir</td>\n",
       "      <td>Review byCatherine Hollis</td>\n",
       "    </tr>\n",
       "  </tbody>\n",
       "</table>\n",
       "</div>"
      ],
      "text/plain": [
       "                -------Book Name-------- ----------Author Name-----------  \\\n",
       "0  Everyone Knows Your Mother Is a Witch                    Rivka Galchen   \n",
       "1                        The Blue Wonder  Frauke Bagusche, Jamie McIntosh   \n",
       "2                                   ★ In                     Will McPhail   \n",
       "3                    ★ The Hidden Palace                    Helene Wecker   \n",
       "4                       ★ Dear Senthuran                    Akwaeke Emezi   \n",
       "\n",
       "                  ----------Genre----------           --------Review-------  \n",
       "0              Fiction / Historical Fiction         Review byArlene McKanic  \n",
       "1             Nonfiction / Nature / Animals  Review byHenry L. Carrigan Jr.  \n",
       "2  Graphic Novels & Comics / Graphic Novels           Review byElena Britos  \n",
       "3                Fiction / Literary Fiction      Review byMichael Alec Rose  \n",
       "4                       Nonfiction / Memoir       Review byCatherine Hollis  "
      ]
     },
     "execution_count": 26,
     "metadata": {},
     "output_type": "execute_result"
    }
   ],
   "source": [
    "Book_detail5=Book_detail[:5]\n",
    "Book_detail5"
   ]
  },
  {
   "cell_type": "markdown",
   "metadata": {},
   "source": [
    "As we can see the list of 5 books with book name, reviews, author name, genre"
   ]
  },
  {
   "cell_type": "markdown",
   "metadata": {},
   "source": [
    "# 5. Write a python program to scrape cricket rankings from ‘www.icc-cricket.com’"
   ]
  },
  {
   "cell_type": "markdown",
   "metadata": {},
   "source": [
    "i) Top 10 ODI teams in men’s cricket along with the records for matches, points and rating"
   ]
  },
  {
   "cell_type": "code",
   "execution_count": 27,
   "metadata": {},
   "outputs": [
    {
     "data": {
      "text/plain": [
       "<Response [200]>"
      ]
     },
     "execution_count": 27,
     "metadata": {},
     "output_type": "execute_result"
    }
   ],
   "source": [
    "#checking site response for scraping\n",
    "page=requests.get('https://www.icc-cricket.com/rankings/mens/team-rankings/odi')\n",
    "page"
   ]
  },
  {
   "cell_type": "markdown",
   "metadata": {},
   "source": [
    "we get response [200] so we can scrap"
   ]
  },
  {
   "cell_type": "code",
   "execution_count": 28,
   "metadata": {},
   "outputs": [],
   "source": [
    "soup=BeautifulSoup(page.content, 'html.parser')"
   ]
  },
  {
   "cell_type": "code",
   "execution_count": 29,
   "metadata": {},
   "outputs": [
    {
     "data": {
      "text/plain": [
       "['New ZealandNZ']"
      ]
     },
     "execution_count": 29,
     "metadata": {},
     "output_type": "execute_result"
    }
   ],
   "source": [
    "#1st country name in rank list \n",
    "rank1st=soup.find_all('td',class_=\"rankings-block__banner--team-name\")\n",
    "ranking1st=[] #empty list\n",
    "for i in rank1st:\n",
    "    ranking1st.append(i.text.replace('\\n',\"\"))\n",
    "ranking1st"
   ]
  },
  {
   "cell_type": "code",
   "execution_count": 30,
   "metadata": {},
   "outputs": [
    {
     "data": {
      "text/plain": [
       "['AustraliaAUS',\n",
       " 'IndiaIND',\n",
       " 'EnglandENG',\n",
       " 'South AfricaSA',\n",
       " 'PakistanPAK',\n",
       " 'BangladeshBAN',\n",
       " 'West IndiesWI',\n",
       " 'Sri LankaSL',\n",
       " 'AfghanistanAFG',\n",
       " 'NetherlandsNED',\n",
       " 'IrelandIRE',\n",
       " 'ZimbabweZIM',\n",
       " 'ScotlandSCO',\n",
       " 'OmanOMA',\n",
       " 'NepalNEP',\n",
       " 'UAEUAE',\n",
       " 'NamibiaNAM',\n",
       " 'United StatesUSA',\n",
       " 'Papua New GuineaPNG']"
      ]
     },
     "execution_count": 30,
     "metadata": {},
     "output_type": "execute_result"
    }
   ],
   "source": [
    "#other than 1st country in rank list \n",
    "ranking=soup.find_all('td',class_=\"table-body__cell rankings-table__team\")\n",
    "rankinglist=[] #empty list\n",
    "for i in ranking:\n",
    "    rankinglist.append(i.text.replace('\\n',\"\"))\n",
    "rankinglist"
   ]
  },
  {
   "cell_type": "code",
   "execution_count": 31,
   "metadata": {},
   "outputs": [
    {
     "name": "stdout",
     "output_type": "stream",
     "text": [
      "['New ZealandNZ', 'AustraliaAUS', 'IndiaIND', 'EnglandENG', 'South AfricaSA', 'PakistanPAK', 'BangladeshBAN', 'West IndiesWI', 'Sri LankaSL', 'AfghanistanAFG', 'NetherlandsNED', 'IrelandIRE', 'ZimbabweZIM', 'ScotlandSCO', 'OmanOMA', 'NepalNEP', 'UAEUAE', 'NamibiaNAM', 'United StatesUSA', 'Papua New GuineaPNG']\n"
     ]
    }
   ],
   "source": [
    "# all top 20 country in rank list\n",
    "Country_list= ranking1st + rankinglist\n",
    "print(Country_list)"
   ]
  },
  {
   "cell_type": "code",
   "execution_count": 32,
   "metadata": {},
   "outputs": [
    {
     "data": {
      "text/plain": [
       "['17']"
      ]
     },
     "execution_count": 32,
     "metadata": {},
     "output_type": "execute_result"
    }
   ],
   "source": [
    "#no of matches of 1st top country\n",
    "matchNZ=soup.find_all('td',class_=\"rankings-block__banner--matches\")\n",
    "match_NZ=[] #empty list\n",
    "for i in matchNZ:\n",
    "    match_NZ.append(i.text.replace('\\n',\"\"))\n",
    "match_NZ"
   ]
  },
  {
   "cell_type": "code",
   "execution_count": 33,
   "metadata": {},
   "outputs": [
    {
     "data": {
      "text/plain": [
       "['2,054']"
      ]
     },
     "execution_count": 33,
     "metadata": {},
     "output_type": "execute_result"
    }
   ],
   "source": [
    "#points of 1st top country\n",
    "pointNZ=soup.find_all('td',class_=\"rankings-block__banner--points\")\n",
    "point_NZ=[] #empty list\n",
    "for i in pointNZ:\n",
    "    point_NZ.append(i.text.replace('\\n',\"\"))\n",
    "point_NZ"
   ]
  },
  {
   "cell_type": "code",
   "execution_count": 34,
   "metadata": {},
   "outputs": [
    {
     "data": {
      "text/plain": [
       "['25',\n",
       " '2,945',\n",
       " '29',\n",
       " '3,344',\n",
       " '27',\n",
       " '3,100',\n",
       " '20',\n",
       " '2,137',\n",
       " '24',\n",
       " '2,323',\n",
       " '27',\n",
       " '2,438',\n",
       " '27',\n",
       " '2,222',\n",
       " '24',\n",
       " '1,876',\n",
       " '17',\n",
       " '1,054',\n",
       " '7',\n",
       " '336',\n",
       " '21',\n",
       " '897',\n",
       " '15',\n",
       " '588',\n",
       " '7',\n",
       " '258',\n",
       " '7',\n",
       " '240',\n",
       " '5',\n",
       " '119',\n",
       " '9',\n",
       " '190',\n",
       " '6',\n",
       " '97',\n",
       " '8',\n",
       " '93',\n",
       " '5',\n",
       " '0']"
      ]
     },
     "execution_count": 34,
     "metadata": {},
     "output_type": "execute_result"
    }
   ],
   "source": [
    "#Creating a list for matches and points other than 1st top country in rank list\n",
    "matchs_points=soup.find_all('td',class_='table-body__cell u-center-text') \n",
    "m_p=[] #empty list\n",
    "for i in matchs_points:\n",
    "    m_p.append(i.text.replace('\\n',' '))\n",
    "m_p"
   ]
  },
  {
   "cell_type": "code",
   "execution_count": 35,
   "metadata": {},
   "outputs": [
    {
     "name": "stdout",
     "output_type": "stream",
     "text": [
      "Matches: ['25', '29', '27', '20', '24', '27', '27', '24', '17', '7', '21', '15', '7', '7', '5', '9', '6', '8', '5']\n",
      "Points: ['2,945', '3,344', '3,100', '2,137', '2,323', '2,438', '2,222', '1,876', '1,054', '336', '897', '588', '258', '240', '119', '190', '97', '93', '0']\n"
     ]
    }
   ],
   "source": [
    "# we can see in m_p list, both matches and points are in same list so seprating them\n",
    "matches = []\n",
    "points = []\n",
    "for i in range(0, len(m_p)):\n",
    "    if i % 2:\n",
    "        points.append(m_p[i])\n",
    "    else :\n",
    "        matches.append(m_p[i])\n",
    "        \n",
    "\n",
    "print (\"Matches:\",matches)\n",
    "print (\"Points:\", points)"
   ]
  },
  {
   "cell_type": "code",
   "execution_count": 36,
   "metadata": {},
   "outputs": [
    {
     "data": {
      "text/plain": [
       "['17',\n",
       " '25',\n",
       " '29',\n",
       " '27',\n",
       " '20',\n",
       " '24',\n",
       " '27',\n",
       " '27',\n",
       " '24',\n",
       " '17',\n",
       " '7',\n",
       " '21',\n",
       " '15',\n",
       " '7',\n",
       " '7',\n",
       " '5',\n",
       " '9',\n",
       " '6',\n",
       " '8',\n",
       " '5']"
      ]
     },
     "execution_count": 36,
     "metadata": {},
     "output_type": "execute_result"
    }
   ],
   "source": [
    "# match list of all country\n",
    "matches1=match_NZ+ matches\n",
    "matches1"
   ]
  },
  {
   "cell_type": "code",
   "execution_count": 37,
   "metadata": {},
   "outputs": [
    {
     "data": {
      "text/plain": [
       "['2,054',\n",
       " '2,945',\n",
       " '3,344',\n",
       " '3,100',\n",
       " '2,137',\n",
       " '2,323',\n",
       " '2,438',\n",
       " '2,222',\n",
       " '1,876',\n",
       " '1,054',\n",
       " '336',\n",
       " '897',\n",
       " '588',\n",
       " '258',\n",
       " '240',\n",
       " '119',\n",
       " '190',\n",
       " '97',\n",
       " '93',\n",
       " '0']"
      ]
     },
     "execution_count": 37,
     "metadata": {},
     "output_type": "execute_result"
    }
   ],
   "source": [
    "# point list of all country\n",
    "points1=point_NZ+ points\n",
    "points1"
   ]
  },
  {
   "cell_type": "code",
   "execution_count": 38,
   "metadata": {},
   "outputs": [
    {
     "data": {
      "text/plain": [
       "['                            121                            ']"
      ]
     },
     "execution_count": 38,
     "metadata": {},
     "output_type": "execute_result"
    }
   ],
   "source": [
    "#1st country rating in rank list\n",
    "NZ_rating=soup.find_all('td',class_='rankings-block__banner--rating u-text-right') \n",
    "NZrating=[] #empty list\n",
    "for i in NZ_rating:\n",
    "    NZrating.append(i.text.replace('\\n',''))\n",
    "NZrating"
   ]
  },
  {
   "cell_type": "code",
   "execution_count": 39,
   "metadata": {},
   "outputs": [
    {
     "data": {
      "text/plain": [
       "['118',\n",
       " '115',\n",
       " '115',\n",
       " '107',\n",
       " '97',\n",
       " '90',\n",
       " '82',\n",
       " '78',\n",
       " '62',\n",
       " '48',\n",
       " '43',\n",
       " '39',\n",
       " '37',\n",
       " '34',\n",
       " '24',\n",
       " '21',\n",
       " '16',\n",
       " '12',\n",
       " '0']"
      ]
     },
     "execution_count": 39,
     "metadata": {},
     "output_type": "execute_result"
    }
   ],
   "source": [
    "#remaing country ratings\n",
    "matchs_rating=soup.find_all('td',class_='table-body__cell u-text-right rating') \n",
    "rating=[] #empty list\n",
    "for i in matchs_rating:\n",
    "    rating.append(i.text.replace('\\n',''))\n",
    "rating"
   ]
  },
  {
   "cell_type": "code",
   "execution_count": 40,
   "metadata": {},
   "outputs": [
    {
     "data": {
      "text/plain": [
       "['                            121                            ',\n",
       " '118',\n",
       " '115',\n",
       " '115',\n",
       " '107',\n",
       " '97',\n",
       " '90',\n",
       " '82',\n",
       " '78',\n",
       " '62',\n",
       " '48',\n",
       " '43',\n",
       " '39',\n",
       " '37',\n",
       " '34',\n",
       " '24',\n",
       " '21',\n",
       " '16',\n",
       " '12',\n",
       " '0']"
      ]
     },
     "execution_count": 40,
     "metadata": {},
     "output_type": "execute_result"
    }
   ],
   "source": [
    "#all country ratings\n",
    "rating1=NZrating+rating\n",
    "rating1"
   ]
  },
  {
   "cell_type": "code",
   "execution_count": 41,
   "metadata": {},
   "outputs": [
    {
     "name": "stdout",
     "output_type": "stream",
     "text": [
      "20 20 20 20\n"
     ]
    }
   ],
   "source": [
    "#Checking the len of all the created list\n",
    "print(len(Country_list), len(matches1), len(points1), len(rating1))"
   ]
  },
  {
   "cell_type": "markdown",
   "metadata": {},
   "source": [
    "length is same so we can creat dataframe"
   ]
  },
  {
   "cell_type": "code",
   "execution_count": 42,
   "metadata": {},
   "outputs": [
    {
     "data": {
      "text/html": [
       "<div>\n",
       "<style scoped>\n",
       "    .dataframe tbody tr th:only-of-type {\n",
       "        vertical-align: middle;\n",
       "    }\n",
       "\n",
       "    .dataframe tbody tr th {\n",
       "        vertical-align: top;\n",
       "    }\n",
       "\n",
       "    .dataframe thead th {\n",
       "        text-align: right;\n",
       "    }\n",
       "</style>\n",
       "<table border=\"1\" class=\"dataframe\">\n",
       "  <thead>\n",
       "    <tr style=\"text-align: right;\">\n",
       "      <th></th>\n",
       "      <th>-------Country--------</th>\n",
       "      <th>--------Matches-----------</th>\n",
       "      <th>--------Points----------</th>\n",
       "      <th>--------Rating-------</th>\n",
       "    </tr>\n",
       "  </thead>\n",
       "  <tbody>\n",
       "    <tr>\n",
       "      <th>0</th>\n",
       "      <td>New ZealandNZ</td>\n",
       "      <td>17</td>\n",
       "      <td>2,054</td>\n",
       "      <td>121               ...</td>\n",
       "    </tr>\n",
       "    <tr>\n",
       "      <th>1</th>\n",
       "      <td>AustraliaAUS</td>\n",
       "      <td>25</td>\n",
       "      <td>2,945</td>\n",
       "      <td>118</td>\n",
       "    </tr>\n",
       "    <tr>\n",
       "      <th>2</th>\n",
       "      <td>IndiaIND</td>\n",
       "      <td>29</td>\n",
       "      <td>3,344</td>\n",
       "      <td>115</td>\n",
       "    </tr>\n",
       "    <tr>\n",
       "      <th>3</th>\n",
       "      <td>EnglandENG</td>\n",
       "      <td>27</td>\n",
       "      <td>3,100</td>\n",
       "      <td>115</td>\n",
       "    </tr>\n",
       "    <tr>\n",
       "      <th>4</th>\n",
       "      <td>South AfricaSA</td>\n",
       "      <td>20</td>\n",
       "      <td>2,137</td>\n",
       "      <td>107</td>\n",
       "    </tr>\n",
       "    <tr>\n",
       "      <th>5</th>\n",
       "      <td>PakistanPAK</td>\n",
       "      <td>24</td>\n",
       "      <td>2,323</td>\n",
       "      <td>97</td>\n",
       "    </tr>\n",
       "    <tr>\n",
       "      <th>6</th>\n",
       "      <td>BangladeshBAN</td>\n",
       "      <td>27</td>\n",
       "      <td>2,438</td>\n",
       "      <td>90</td>\n",
       "    </tr>\n",
       "    <tr>\n",
       "      <th>7</th>\n",
       "      <td>West IndiesWI</td>\n",
       "      <td>27</td>\n",
       "      <td>2,222</td>\n",
       "      <td>82</td>\n",
       "    </tr>\n",
       "    <tr>\n",
       "      <th>8</th>\n",
       "      <td>Sri LankaSL</td>\n",
       "      <td>24</td>\n",
       "      <td>1,876</td>\n",
       "      <td>78</td>\n",
       "    </tr>\n",
       "    <tr>\n",
       "      <th>9</th>\n",
       "      <td>AfghanistanAFG</td>\n",
       "      <td>17</td>\n",
       "      <td>1,054</td>\n",
       "      <td>62</td>\n",
       "    </tr>\n",
       "  </tbody>\n",
       "</table>\n",
       "</div>"
      ],
      "text/plain": [
       "  -------Country-------- --------Matches----------- --------Points----------  \\\n",
       "0          New ZealandNZ                         17                    2,054   \n",
       "1           AustraliaAUS                         25                    2,945   \n",
       "2               IndiaIND                         29                    3,344   \n",
       "3             EnglandENG                         27                    3,100   \n",
       "4         South AfricaSA                         20                    2,137   \n",
       "5            PakistanPAK                         24                    2,323   \n",
       "6          BangladeshBAN                         27                    2,438   \n",
       "7          West IndiesWI                         27                    2,222   \n",
       "8            Sri LankaSL                         24                    1,876   \n",
       "9         AfghanistanAFG                         17                    1,054   \n",
       "\n",
       "                               --------Rating-------  \n",
       "0                              121               ...  \n",
       "1                                                118  \n",
       "2                                                115  \n",
       "3                                                115  \n",
       "4                                                107  \n",
       "5                                                 97  \n",
       "6                                                 90  \n",
       "7                                                 82  \n",
       "8                                                 78  \n",
       "9                                                 62  "
      ]
     },
     "execution_count": 42,
     "metadata": {},
     "output_type": "execute_result"
    }
   ],
   "source": [
    "#dataframe creation of mens cricket country list\n",
    "Mens_ICC_Ranking_Table=pd.DataFrame({})\n",
    "\n",
    "Mens_ICC_Ranking_Table['-------Country--------']=Country_list\n",
    "Mens_ICC_Ranking_Table['--------Matches-----------']=matches1\n",
    "Mens_ICC_Ranking_Table['--------Points----------']=points1\n",
    "Mens_ICC_Ranking_Table['--------Rating-------']=rating1\n",
    "\n",
    "Top_10_ODI_teams_in_men_cricket=  Mens_ICC_Ranking_Table[:10]\n",
    "Top_10_ODI_teams_in_men_cricket"
   ]
  },
  {
   "cell_type": "code",
   "execution_count": null,
   "metadata": {},
   "outputs": [],
   "source": []
  },
  {
   "cell_type": "markdown",
   "metadata": {},
   "source": [
    "# ii) Top 10 ODI Batsmen in men along with the records of their team and rating. "
   ]
  },
  {
   "cell_type": "code",
   "execution_count": 43,
   "metadata": {},
   "outputs": [
    {
     "data": {
      "text/plain": [
       "<Response [200]>"
      ]
     },
     "execution_count": 43,
     "metadata": {},
     "output_type": "execute_result"
    }
   ],
   "source": [
    "#checking site response for scraping\n",
    "page=requests.get('https://www.icc-cricket.com/rankings/mens/player-rankings/odi')\n",
    "page"
   ]
  },
  {
   "cell_type": "markdown",
   "metadata": {},
   "source": [
    "we get response [200] so we can scrap"
   ]
  },
  {
   "cell_type": "code",
   "execution_count": 44,
   "metadata": {},
   "outputs": [],
   "source": [
    "soup=BeautifulSoup(page.content, 'html.parser')"
   ]
  },
  {
   "cell_type": "code",
   "execution_count": 45,
   "metadata": {},
   "outputs": [
    {
     "data": {
      "text/plain": [
       "[' Virat Kohli ',\n",
       " ' Rohit Sharma ',\n",
       " ' Ross Taylor ',\n",
       " ' Aaron Finch ',\n",
       " ' Jonny Bairstow ',\n",
       " ' Fakhar Zaman ',\n",
       " ' Francois du Plessis ',\n",
       " ' David Warner ',\n",
       " ' Shai Hope ']"
      ]
     },
     "execution_count": 45,
     "metadata": {},
     "output_type": "execute_result"
    }
   ],
   "source": [
    "#Creating a list of ODI men's Cricket player (2nd to 10th) by for loop\n",
    "men_player=soup.find_all('td',class_='table-body__cell name') \n",
    "player=[] #empty list\n",
    "for i in men_player:\n",
    "    player.append(i.text.replace('\\n',' '))\n",
    "\n",
    "top_batsmen02_10=player[:9]\n",
    "top_batsmen02_10"
   ]
  },
  {
   "cell_type": "code",
   "execution_count": 46,
   "metadata": {},
   "outputs": [
    {
     "data": {
      "text/plain": [
       "['IND', 'IND', 'NZ', 'AUS', 'ENG', 'PAK', 'SA', 'AUS', 'WI']"
      ]
     },
     "execution_count": 46,
     "metadata": {},
     "output_type": "execute_result"
    }
   ],
   "source": [
    "#Creating a list of ODI men's cricket team country by for loop\n",
    "men_country=soup.find_all('span',class_='table-body__logo-text') \n",
    "country=[] #empty list\n",
    "for i in men_country:\n",
    "    country.append(i.text.replace('\\n',' '))\n",
    "\n",
    "batsmen_country02_10=country[:9]\n",
    "batsmen_country02_10"
   ]
  },
  {
   "cell_type": "code",
   "execution_count": 47,
   "metadata": {},
   "outputs": [
    {
     "data": {
      "text/plain": [
       "['857', '825', '801', '791', '785', '778', '778', '773', '773']"
      ]
     },
     "execution_count": 47,
     "metadata": {},
     "output_type": "execute_result"
    }
   ],
   "source": [
    "#Creating a list of ODI men's cricket team batsmen by for loop\n",
    "ODI_rating=soup.find_all('td',class_='table-body__cell u-text-right rating') \n",
    "rating=[] #empty list\n",
    "for i in ODI_rating:\n",
    "    rating.append(i.text.replace('\\n',' '))\n",
    "\n",
    "batsmen_ratings02_10=rating[:9]\n",
    "batsmen_ratings02_10"
   ]
  },
  {
   "cell_type": "code",
   "execution_count": 49,
   "metadata": {},
   "outputs": [
    {
     "data": {
      "text/plain": [
       "['Babar Azam',\n",
       " 'Trent Boult',\n",
       " 'Shakib Al Hasan',\n",
       " 'Babar Azam',\n",
       " 'Trent Boult',\n",
       " 'Shakib Al Hasan']"
      ]
     },
     "execution_count": 49,
     "metadata": {},
     "output_type": "execute_result"
    }
   ],
   "source": [
    "#list of top players in all formats \n",
    "men_top_players=soup.find_all('div',class_='rankings-block__banner--name') \n",
    "top_players=[] #empty list\n",
    "for i in men_top_players:\n",
    "    top_players.append(i.text.replace('\\n',' '))\n",
    "top_players"
   ]
  },
  {
   "cell_type": "code",
   "execution_count": 50,
   "metadata": {},
   "outputs": [
    {
     "data": {
      "text/plain": [
       "['865', '737', '387', '865', '737', '387']"
      ]
     },
     "execution_count": 50,
     "metadata": {},
     "output_type": "execute_result"
    }
   ],
   "source": [
    "#list of top players rating in all formats \n",
    "men_top_players_ratings=soup.find_all('div',class_='rankings-block__banner--rating') \n",
    "top_players_ratings=[] #empty list\n",
    "for i in men_top_players_ratings:\n",
    "    top_players_ratings.append(i.text.replace('\\n',' '))\n",
    "top_players_ratings"
   ]
  },
  {
   "cell_type": "code",
   "execution_count": 51,
   "metadata": {},
   "outputs": [
    {
     "data": {
      "text/plain": [
       "['  PAK 865 ',\n",
       " '  NZ 737 ',\n",
       " '  BAN 387 ',\n",
       " '  PAK 865 ',\n",
       " '  NZ 737 ',\n",
       " '  BAN 387 ']"
      ]
     },
     "execution_count": 51,
     "metadata": {},
     "output_type": "execute_result"
    }
   ],
   "source": [
    "#list of top players country in all formats \n",
    "men_top_players_country=soup.find_all('div',class_='rankings-block__banner--nationality') \n",
    "top_players_country=[] #empty list\n",
    "for i in men_top_players_country:\n",
    "    top_players_country.append(i.text.replace('\\n',' '))\n",
    "top_players_country"
   ]
  },
  {
   "cell_type": "code",
   "execution_count": 59,
   "metadata": {},
   "outputs": [
    {
     "data": {
      "text/plain": [
       "['Babar Azam']"
      ]
     },
     "execution_count": 59,
     "metadata": {},
     "output_type": "execute_result"
    }
   ],
   "source": [
    "top_batsmen01=top_players[:1]\n",
    "top_batsmen01"
   ]
  },
  {
   "cell_type": "code",
   "execution_count": 53,
   "metadata": {},
   "outputs": [
    {
     "data": {
      "text/plain": [
       "['865']"
      ]
     },
     "execution_count": 53,
     "metadata": {},
     "output_type": "execute_result"
    }
   ],
   "source": [
    "top_batsmen_rating=top_players_ratings[:1]\n",
    "top_batsmen_rating"
   ]
  },
  {
   "cell_type": "code",
   "execution_count": 54,
   "metadata": {},
   "outputs": [
    {
     "data": {
      "text/plain": [
       "['  PAK 865 ']"
      ]
     },
     "execution_count": 54,
     "metadata": {},
     "output_type": "execute_result"
    }
   ],
   "source": [
    "top_batsmen_country=top_players_country[:1]\n",
    "top_batsmen_country"
   ]
  },
  {
   "cell_type": "code",
   "execution_count": 60,
   "metadata": {},
   "outputs": [
    {
     "data": {
      "text/plain": [
       "['Babar Azam',\n",
       " ' Virat Kohli ',\n",
       " ' Rohit Sharma ',\n",
       " ' Ross Taylor ',\n",
       " ' Aaron Finch ',\n",
       " ' Jonny Bairstow ',\n",
       " ' Fakhar Zaman ',\n",
       " ' Francois du Plessis ',\n",
       " ' David Warner ',\n",
       " ' Shai Hope ']"
      ]
     },
     "execution_count": 60,
     "metadata": {},
     "output_type": "execute_result"
    }
   ],
   "source": [
    "#op 10 batsmen list\n",
    "top10_batsmen= top_batsmen01 + top_batsmen02_10\n",
    "top10_batsmen"
   ]
  },
  {
   "cell_type": "code",
   "execution_count": 56,
   "metadata": {},
   "outputs": [
    {
     "data": {
      "text/plain": [
       "['865', '857', '825', '801', '791', '785', '778', '778', '773', '773']"
      ]
     },
     "execution_count": 56,
     "metadata": {},
     "output_type": "execute_result"
    }
   ],
   "source": [
    "# top 10 batsmen ratings\n",
    "top10_batsmen_rating=top_batsmen_rating + batsmen_ratings02_10\n",
    "\n",
    "top10_batsmen_rating"
   ]
  },
  {
   "cell_type": "code",
   "execution_count": 57,
   "metadata": {},
   "outputs": [
    {
     "data": {
      "text/plain": [
       "['  PAK 865 ', 'IND', 'IND', 'NZ', 'AUS', 'ENG', 'PAK', 'SA', 'AUS', 'WI']"
      ]
     },
     "execution_count": 57,
     "metadata": {},
     "output_type": "execute_result"
    }
   ],
   "source": [
    "#top 10 batsmen \n",
    "top10_batsmen_country=top_batsmen_country + batsmen_country02_10\n",
    "top10_batsmen_country"
   ]
  },
  {
   "cell_type": "code",
   "execution_count": 61,
   "metadata": {},
   "outputs": [
    {
     "data": {
      "text/html": [
       "<div>\n",
       "<style scoped>\n",
       "    .dataframe tbody tr th:only-of-type {\n",
       "        vertical-align: middle;\n",
       "    }\n",
       "\n",
       "    .dataframe tbody tr th {\n",
       "        vertical-align: top;\n",
       "    }\n",
       "\n",
       "    .dataframe thead th {\n",
       "        text-align: right;\n",
       "    }\n",
       "</style>\n",
       "<table border=\"1\" class=\"dataframe\">\n",
       "  <thead>\n",
       "    <tr style=\"text-align: right;\">\n",
       "      <th></th>\n",
       "      <th>Player Name</th>\n",
       "      <th>Country</th>\n",
       "      <th>Rating</th>\n",
       "    </tr>\n",
       "  </thead>\n",
       "  <tbody>\n",
       "    <tr>\n",
       "      <th>0</th>\n",
       "      <td>Babar Azam</td>\n",
       "      <td>PAK 865</td>\n",
       "      <td>865</td>\n",
       "    </tr>\n",
       "    <tr>\n",
       "      <th>1</th>\n",
       "      <td>Virat Kohli</td>\n",
       "      <td>IND</td>\n",
       "      <td>857</td>\n",
       "    </tr>\n",
       "    <tr>\n",
       "      <th>2</th>\n",
       "      <td>Rohit Sharma</td>\n",
       "      <td>IND</td>\n",
       "      <td>825</td>\n",
       "    </tr>\n",
       "    <tr>\n",
       "      <th>3</th>\n",
       "      <td>Ross Taylor</td>\n",
       "      <td>NZ</td>\n",
       "      <td>801</td>\n",
       "    </tr>\n",
       "    <tr>\n",
       "      <th>4</th>\n",
       "      <td>Aaron Finch</td>\n",
       "      <td>AUS</td>\n",
       "      <td>791</td>\n",
       "    </tr>\n",
       "    <tr>\n",
       "      <th>5</th>\n",
       "      <td>Jonny Bairstow</td>\n",
       "      <td>ENG</td>\n",
       "      <td>785</td>\n",
       "    </tr>\n",
       "    <tr>\n",
       "      <th>6</th>\n",
       "      <td>Fakhar Zaman</td>\n",
       "      <td>PAK</td>\n",
       "      <td>778</td>\n",
       "    </tr>\n",
       "    <tr>\n",
       "      <th>7</th>\n",
       "      <td>Francois du Plessis</td>\n",
       "      <td>SA</td>\n",
       "      <td>778</td>\n",
       "    </tr>\n",
       "    <tr>\n",
       "      <th>8</th>\n",
       "      <td>David Warner</td>\n",
       "      <td>AUS</td>\n",
       "      <td>773</td>\n",
       "    </tr>\n",
       "    <tr>\n",
       "      <th>9</th>\n",
       "      <td>Shai Hope</td>\n",
       "      <td>WI</td>\n",
       "      <td>773</td>\n",
       "    </tr>\n",
       "  </tbody>\n",
       "</table>\n",
       "</div>"
      ],
      "text/plain": [
       "             Player Name     Country Rating\n",
       "0             Babar Azam    PAK 865     865\n",
       "1           Virat Kohli          IND    857\n",
       "2          Rohit Sharma          IND    825\n",
       "3           Ross Taylor           NZ    801\n",
       "4           Aaron Finch          AUS    791\n",
       "5        Jonny Bairstow          ENG    785\n",
       "6          Fakhar Zaman          PAK    778\n",
       "7   Francois du Plessis           SA    778\n",
       "8          David Warner          AUS    773\n",
       "9             Shai Hope           WI    773"
      ]
     },
     "execution_count": 61,
     "metadata": {},
     "output_type": "execute_result"
    }
   ],
   "source": [
    "#top 10 batsmen dataframe\n",
    "top10_Batsmen_men=pd.DataFrame({})\n",
    "top10_Batsmen_men['Player Name']=top10_batsmen\n",
    "top10_Batsmen_men['Country']=top10_batsmen_country\n",
    "top10_Batsmen_men['Rating']=top10_batsmen_rating\n",
    "top10_Batsmen_men"
   ]
  },
  {
   "cell_type": "markdown",
   "metadata": {},
   "source": [
    "# iii) Top 10 ODI bowlers along with the records of their team and rating"
   ]
  },
  {
   "cell_type": "code",
   "execution_count": 62,
   "metadata": {},
   "outputs": [
    {
     "data": {
      "text/plain": [
       "[' Mehedi Hasan ',\n",
       " ' Mujeeb Ur Rahman ',\n",
       " ' Matt Henry ',\n",
       " ' Jasprit Bumrah ',\n",
       " ' Kagiso Rabada ',\n",
       " ' Chris Woakes ',\n",
       " ' Josh Hazlewood ',\n",
       " ' Pat Cummins ',\n",
       " ' Mustafizur Rahman ']"
      ]
     },
     "execution_count": 62,
     "metadata": {},
     "output_type": "execute_result"
    }
   ],
   "source": [
    "#top bowler from 2nd to 10th\n",
    "top_bowlers02_10=player[9:18]\n",
    "top_bowlers02_10"
   ]
  },
  {
   "cell_type": "code",
   "execution_count": 63,
   "metadata": {},
   "outputs": [
    {
     "data": {
      "text/plain": [
       "['BAN', 'AFG', 'NZ', 'IND', 'SA', 'ENG', 'AUS', 'AUS', 'BAN']"
      ]
     },
     "execution_count": 63,
     "metadata": {},
     "output_type": "execute_result"
    }
   ],
   "source": [
    "#top bowler country from 2nd to 10th\n",
    "bowlers_country02_10=country[9:18]\n",
    "bowlers_country02_10"
   ]
  },
  {
   "cell_type": "code",
   "execution_count": 64,
   "metadata": {},
   "outputs": [
    {
     "data": {
      "text/plain": [
       "['713', '708', '691', '690', '666', '665', '660', '646', '645']"
      ]
     },
     "execution_count": 64,
     "metadata": {},
     "output_type": "execute_result"
    }
   ],
   "source": [
    "#top bowler rating from 2nd to 10th\n",
    "bowler_ratings02_10=rating[9:18]\n",
    "bowler_ratings02_10"
   ]
  },
  {
   "cell_type": "code",
   "execution_count": 65,
   "metadata": {},
   "outputs": [
    {
     "data": {
      "text/plain": [
       "['Trent Boult']"
      ]
     },
     "execution_count": 65,
     "metadata": {},
     "output_type": "execute_result"
    }
   ],
   "source": [
    "#top bowler name\n",
    "top_bowler01=top_players[1:2]\n",
    "top_bowler01"
   ]
  },
  {
   "cell_type": "code",
   "execution_count": 66,
   "metadata": {},
   "outputs": [
    {
     "data": {
      "text/plain": [
       "['Trent Boult',\n",
       " ' Mehedi Hasan ',\n",
       " ' Mujeeb Ur Rahman ',\n",
       " ' Matt Henry ',\n",
       " ' Jasprit Bumrah ',\n",
       " ' Kagiso Rabada ',\n",
       " ' Chris Woakes ',\n",
       " ' Josh Hazlewood ',\n",
       " ' Pat Cummins ',\n",
       " ' Mustafizur Rahman ']"
      ]
     },
     "execution_count": 66,
     "metadata": {},
     "output_type": "execute_result"
    }
   ],
   "source": [
    "#top 10 bowler name\n",
    "top10_bowler=top_bowler01 + top_bowlers02_10\n",
    "top10_bowler"
   ]
  },
  {
   "cell_type": "code",
   "execution_count": 67,
   "metadata": {},
   "outputs": [
    {
     "data": {
      "text/plain": [
       "['737']"
      ]
     },
     "execution_count": 67,
     "metadata": {},
     "output_type": "execute_result"
    }
   ],
   "source": [
    "#top bowler rating\n",
    "top_bowler_rating=top_players_ratings[1:2]\n",
    "top_bowler_rating"
   ]
  },
  {
   "cell_type": "code",
   "execution_count": 68,
   "metadata": {},
   "outputs": [
    {
     "data": {
      "text/plain": [
       "['737', '713', '708', '691', '690', '666', '665', '660', '646', '645']"
      ]
     },
     "execution_count": 68,
     "metadata": {},
     "output_type": "execute_result"
    }
   ],
   "source": [
    "#top 10 bowler rating\n",
    "top10_bowler_rating=top_bowler_rating + bowler_ratings02_10\n",
    "top10_bowler_rating"
   ]
  },
  {
   "cell_type": "code",
   "execution_count": 69,
   "metadata": {},
   "outputs": [
    {
     "data": {
      "text/plain": [
       "['  NZ 737 ']"
      ]
     },
     "execution_count": 69,
     "metadata": {},
     "output_type": "execute_result"
    }
   ],
   "source": [
    "#top bowler country\n",
    "top_bowler_country=top_players_country[1:2]\n",
    "top_bowler_country"
   ]
  },
  {
   "cell_type": "code",
   "execution_count": 70,
   "metadata": {},
   "outputs": [
    {
     "data": {
      "text/plain": [
       "['  NZ 737 ', 'BAN', 'AFG', 'NZ', 'IND', 'SA', 'ENG', 'AUS', 'AUS', 'BAN']"
      ]
     },
     "execution_count": 70,
     "metadata": {},
     "output_type": "execute_result"
    }
   ],
   "source": [
    "#top 10 bowler country\n",
    "top10_bowler_country=top_bowler_country+bowlers_country02_10\n",
    "top10_bowler_country"
   ]
  },
  {
   "cell_type": "code",
   "execution_count": 71,
   "metadata": {},
   "outputs": [
    {
     "data": {
      "text/html": [
       "<div>\n",
       "<style scoped>\n",
       "    .dataframe tbody tr th:only-of-type {\n",
       "        vertical-align: middle;\n",
       "    }\n",
       "\n",
       "    .dataframe tbody tr th {\n",
       "        vertical-align: top;\n",
       "    }\n",
       "\n",
       "    .dataframe thead th {\n",
       "        text-align: right;\n",
       "    }\n",
       "</style>\n",
       "<table border=\"1\" class=\"dataframe\">\n",
       "  <thead>\n",
       "    <tr style=\"text-align: right;\">\n",
       "      <th></th>\n",
       "      <th>Player Name</th>\n",
       "      <th>Country</th>\n",
       "      <th>Rating</th>\n",
       "    </tr>\n",
       "  </thead>\n",
       "  <tbody>\n",
       "    <tr>\n",
       "      <th>0</th>\n",
       "      <td>Trent Boult</td>\n",
       "      <td>NZ 737</td>\n",
       "      <td>737</td>\n",
       "    </tr>\n",
       "    <tr>\n",
       "      <th>1</th>\n",
       "      <td>Mehedi Hasan</td>\n",
       "      <td>BAN</td>\n",
       "      <td>713</td>\n",
       "    </tr>\n",
       "    <tr>\n",
       "      <th>2</th>\n",
       "      <td>Mujeeb Ur Rahman</td>\n",
       "      <td>AFG</td>\n",
       "      <td>708</td>\n",
       "    </tr>\n",
       "    <tr>\n",
       "      <th>3</th>\n",
       "      <td>Matt Henry</td>\n",
       "      <td>NZ</td>\n",
       "      <td>691</td>\n",
       "    </tr>\n",
       "    <tr>\n",
       "      <th>4</th>\n",
       "      <td>Jasprit Bumrah</td>\n",
       "      <td>IND</td>\n",
       "      <td>690</td>\n",
       "    </tr>\n",
       "    <tr>\n",
       "      <th>5</th>\n",
       "      <td>Kagiso Rabada</td>\n",
       "      <td>SA</td>\n",
       "      <td>666</td>\n",
       "    </tr>\n",
       "    <tr>\n",
       "      <th>6</th>\n",
       "      <td>Chris Woakes</td>\n",
       "      <td>ENG</td>\n",
       "      <td>665</td>\n",
       "    </tr>\n",
       "    <tr>\n",
       "      <th>7</th>\n",
       "      <td>Josh Hazlewood</td>\n",
       "      <td>AUS</td>\n",
       "      <td>660</td>\n",
       "    </tr>\n",
       "    <tr>\n",
       "      <th>8</th>\n",
       "      <td>Pat Cummins</td>\n",
       "      <td>AUS</td>\n",
       "      <td>646</td>\n",
       "    </tr>\n",
       "    <tr>\n",
       "      <th>9</th>\n",
       "      <td>Mustafizur Rahman</td>\n",
       "      <td>BAN</td>\n",
       "      <td>645</td>\n",
       "    </tr>\n",
       "  </tbody>\n",
       "</table>\n",
       "</div>"
      ],
      "text/plain": [
       "           Player Name    Country Rating\n",
       "0          Trent Boult    NZ 737     737\n",
       "1        Mehedi Hasan         BAN    713\n",
       "2    Mujeeb Ur Rahman         AFG    708\n",
       "3          Matt Henry          NZ    691\n",
       "4      Jasprit Bumrah         IND    690\n",
       "5       Kagiso Rabada          SA    666\n",
       "6        Chris Woakes         ENG    665\n",
       "7      Josh Hazlewood         AUS    660\n",
       "8         Pat Cummins         AUS    646\n",
       "9   Mustafizur Rahman         BAN    645"
      ]
     },
     "execution_count": 71,
     "metadata": {},
     "output_type": "execute_result"
    }
   ],
   "source": [
    "#creating dataframe of top 10 bowler along with their counrty & ratings\n",
    "top10_Bowler_men=pd.DataFrame({})\n",
    "top10_Bowler_men['Player Name']=top10_bowler\n",
    "top10_Bowler_men['Country']=top10_bowler_country\n",
    "top10_Bowler_men['Rating']=top10_bowler_rating\n",
    "top10_Bowler_men"
   ]
  },
  {
   "cell_type": "markdown",
   "metadata": {},
   "source": [
    "# 6. Write a python program to scrape cricket rankings from ‘www.icc-cricket.com’"
   ]
  },
  {
   "cell_type": "markdown",
   "metadata": {},
   "source": [
    "# i) Top 10 ODI teams in women’s cricket along with the records for matches, points and rating. "
   ]
  },
  {
   "cell_type": "code",
   "execution_count": 72,
   "metadata": {},
   "outputs": [
    {
     "data": {
      "text/plain": [
       "<Response [200]>"
      ]
     },
     "execution_count": 72,
     "metadata": {},
     "output_type": "execute_result"
    }
   ],
   "source": [
    "#checking site response for scraping\n",
    "page=requests.get('https://www.icc-cricket.com/rankings/womens/team-rankings/odi')\n",
    "page"
   ]
  },
  {
   "cell_type": "markdown",
   "metadata": {},
   "source": [
    "we get response [200] so we can scrap"
   ]
  },
  {
   "cell_type": "code",
   "execution_count": 73,
   "metadata": {},
   "outputs": [],
   "source": [
    "soup=BeautifulSoup(page.content, 'html.parser')"
   ]
  },
  {
   "cell_type": "code",
   "execution_count": 74,
   "metadata": {},
   "outputs": [
    {
     "data": {
      "text/plain": [
       "['AustraliaAUS']"
      ]
     },
     "execution_count": 74,
     "metadata": {},
     "output_type": "execute_result"
    }
   ],
   "source": [
    "#1st top counrty \n",
    "rank1st=soup.find_all('td',class_=\"rankings-block__banner--team-name\")\n",
    "ranking1st=[] #empty list\n",
    "for i in rank1st:\n",
    "    ranking1st.append(i.text.replace('\\n',\"\"))\n",
    "ranking1st"
   ]
  },
  {
   "cell_type": "code",
   "execution_count": 75,
   "metadata": {},
   "outputs": [
    {
     "data": {
      "text/plain": [
       "['South AfricaSA',\n",
       " 'EnglandENG',\n",
       " 'IndiaIND',\n",
       " 'New ZealandNZ',\n",
       " 'West IndiesWI',\n",
       " 'PakistanPAK',\n",
       " 'BangladeshBAN',\n",
       " 'Sri LankaSL',\n",
       " 'IrelandIRE']"
      ]
     },
     "execution_count": 75,
     "metadata": {},
     "output_type": "execute_result"
    }
   ],
   "source": [
    "#remaining top country from 2nd to 10th\n",
    "ranking=soup.find_all('td',class_=\"table-body__cell rankings-table__team\")\n",
    "rankinglist=[] #empty list\n",
    "for i in ranking:\n",
    "    rankinglist.append(i.text.replace('\\n',\"\"))\n",
    "rankinglist"
   ]
  },
  {
   "cell_type": "code",
   "execution_count": 76,
   "metadata": {},
   "outputs": [
    {
     "data": {
      "text/plain": [
       "['AustraliaAUS',\n",
       " 'South AfricaSA',\n",
       " 'EnglandENG',\n",
       " 'IndiaIND',\n",
       " 'New ZealandNZ',\n",
       " 'West IndiesWI',\n",
       " 'PakistanPAK',\n",
       " 'BangladeshBAN',\n",
       " 'Sri LankaSL',\n",
       " 'IrelandIRE']"
      ]
     },
     "execution_count": 76,
     "metadata": {},
     "output_type": "execute_result"
    }
   ],
   "source": [
    "#all top 10 country list\n",
    "Country_list= ranking1st + rankinglist\n",
    "Country_list"
   ]
  },
  {
   "cell_type": "code",
   "execution_count": 77,
   "metadata": {},
   "outputs": [
    {
     "data": {
      "text/plain": [
       "['18']"
      ]
     },
     "execution_count": 77,
     "metadata": {},
     "output_type": "execute_result"
    }
   ],
   "source": [
    "#top counrty number of matches played\n",
    "matchAUS=soup.find_all('td',class_=\"rankings-block__banner--matches\")\n",
    "match_AUS=[] #empty list\n",
    "for i in matchAUS:\n",
    "    match_AUS.append(i.text.replace('\\n',\"\"))\n",
    "match_AUS"
   ]
  },
  {
   "cell_type": "code",
   "execution_count": 78,
   "metadata": {},
   "outputs": [
    {
     "data": {
      "text/plain": [
       "['2,955']"
      ]
     },
     "execution_count": 78,
     "metadata": {},
     "output_type": "execute_result"
    }
   ],
   "source": [
    "#top counrty point\n",
    "pointAUS=soup.find_all('td',class_=\"rankings-block__banner--points\")\n",
    "point_AUS=[] #empty list\n",
    "for i in pointAUS:\n",
    "    point_AUS.append(i.text.replace('\\n',\"\"))\n",
    "point_AUS"
   ]
  },
  {
   "cell_type": "code",
   "execution_count": 79,
   "metadata": {},
   "outputs": [
    {
     "data": {
      "text/plain": [
       "['24',\n",
       " '2,828',\n",
       " '17',\n",
       " '1,993',\n",
       " '20',\n",
       " '2,226',\n",
       " '21',\n",
       " '1,947',\n",
       " '12',\n",
       " '1,025',\n",
       " '15',\n",
       " '1,101',\n",
       " '5',\n",
       " '306',\n",
       " '11',\n",
       " '519',\n",
       " '2',\n",
       " '25']"
      ]
     },
     "execution_count": 79,
     "metadata": {},
     "output_type": "execute_result"
    }
   ],
   "source": [
    "#remaing contry (from 2nd to 10th) maches and points\n",
    "matchs_points=soup.find_all('td',class_='table-body__cell u-center-text') \n",
    "m_p=[] #empty list\n",
    "for i in matchs_points:\n",
    "    m_p.append(i.text.replace('\\n',' '))\n",
    "m_p"
   ]
  },
  {
   "cell_type": "code",
   "execution_count": 80,
   "metadata": {},
   "outputs": [
    {
     "name": "stdout",
     "output_type": "stream",
     "text": [
      "Matches: ['24', '17', '20', '21', '12', '15', '5', '11', '2']\n",
      "Points: ['2,828', '1,993', '2,226', '1,947', '1,025', '1,101', '306', '519', '25']\n"
     ]
    }
   ],
   "source": [
    "#seprating matches and point in 2 lists\n",
    "matches = []\n",
    "points = []\n",
    "for i in range(0, len(m_p)):\n",
    "    if i % 2:\n",
    "        points.append(m_p[i])\n",
    "    else :\n",
    "        matches.append(m_p[i])\n",
    "        \n",
    "print(\"Matches:\",matches)\n",
    "print(\"Points:\",points)"
   ]
  },
  {
   "cell_type": "code",
   "execution_count": 81,
   "metadata": {},
   "outputs": [
    {
     "data": {
      "text/plain": [
       "['18', '24', '17', '20', '21', '12', '15', '5', '11', '2']"
      ]
     },
     "execution_count": 81,
     "metadata": {},
     "output_type": "execute_result"
    }
   ],
   "source": [
    "#match list\n",
    "matches1=match_AUS+ matches\n",
    "matches1"
   ]
  },
  {
   "cell_type": "code",
   "execution_count": 82,
   "metadata": {},
   "outputs": [
    {
     "data": {
      "text/plain": [
       "['2,955',\n",
       " '2,828',\n",
       " '1,993',\n",
       " '2,226',\n",
       " '1,947',\n",
       " '1,025',\n",
       " '1,101',\n",
       " '306',\n",
       " '519',\n",
       " '25']"
      ]
     },
     "execution_count": 82,
     "metadata": {},
     "output_type": "execute_result"
    }
   ],
   "source": [
    "#point list of all countries(1 to 10)\n",
    "points1=point_AUS+ points\n",
    "points1"
   ]
  },
  {
   "cell_type": "code",
   "execution_count": 83,
   "metadata": {},
   "outputs": [
    {
     "data": {
      "text/plain": [
       "['                            164                            ']"
      ]
     },
     "execution_count": 83,
     "metadata": {},
     "output_type": "execute_result"
    }
   ],
   "source": [
    "#top country rating\n",
    "AUS_rating=soup.find_all('td',class_='rankings-block__banner--rating u-text-right') \n",
    "AUSrating=[] #empty list\n",
    "for i in AUS_rating:\n",
    "    AUSrating.append(i.text.replace('\\n',''))\n",
    "AUSrating"
   ]
  },
  {
   "cell_type": "code",
   "execution_count": 84,
   "metadata": {},
   "outputs": [
    {
     "data": {
      "text/plain": [
       "['118', '117', '111', '93', '85', '73', '61', '47', '13']"
      ]
     },
     "execution_count": 84,
     "metadata": {},
     "output_type": "execute_result"
    }
   ],
   "source": [
    "#remaing country ratings (from 2nd to 10th)\n",
    "matchs_rating=soup.find_all('td',class_='table-body__cell u-text-right rating') \n",
    "rating=[] #empty list\n",
    "for i in matchs_rating:\n",
    "    rating.append(i.text.replace('\\n',''))\n",
    "rating"
   ]
  },
  {
   "cell_type": "code",
   "execution_count": 85,
   "metadata": {},
   "outputs": [
    {
     "data": {
      "text/plain": [
       "['                            164                            ',\n",
       " '118',\n",
       " '117',\n",
       " '111',\n",
       " '93',\n",
       " '85',\n",
       " '73',\n",
       " '61',\n",
       " '47',\n",
       " '13']"
      ]
     },
     "execution_count": 85,
     "metadata": {},
     "output_type": "execute_result"
    }
   ],
   "source": [
    "#rating list of all countries\n",
    "rating1=AUSrating+rating\n",
    "rating1"
   ]
  },
  {
   "cell_type": "code",
   "execution_count": 86,
   "metadata": {},
   "outputs": [
    {
     "name": "stdout",
     "output_type": "stream",
     "text": [
      "10 10 10 10\n"
     ]
    }
   ],
   "source": [
    "#checking the length to creat dataframe\n",
    "print(len(Country_list), len(matches1), len(points1), len(rating1))"
   ]
  },
  {
   "cell_type": "markdown",
   "metadata": {},
   "source": [
    "lenth is same so we can creat dataframe"
   ]
  },
  {
   "cell_type": "code",
   "execution_count": 87,
   "metadata": {},
   "outputs": [
    {
     "data": {
      "text/html": [
       "<div>\n",
       "<style scoped>\n",
       "    .dataframe tbody tr th:only-of-type {\n",
       "        vertical-align: middle;\n",
       "    }\n",
       "\n",
       "    .dataframe tbody tr th {\n",
       "        vertical-align: top;\n",
       "    }\n",
       "\n",
       "    .dataframe thead th {\n",
       "        text-align: right;\n",
       "    }\n",
       "</style>\n",
       "<table border=\"1\" class=\"dataframe\">\n",
       "  <thead>\n",
       "    <tr style=\"text-align: right;\">\n",
       "      <th></th>\n",
       "      <th>-------Country--------</th>\n",
       "      <th>--------Matches-----------</th>\n",
       "      <th>--------Points----------</th>\n",
       "      <th>--------Rating-------</th>\n",
       "    </tr>\n",
       "  </thead>\n",
       "  <tbody>\n",
       "    <tr>\n",
       "      <th>0</th>\n",
       "      <td>AustraliaAUS</td>\n",
       "      <td>18</td>\n",
       "      <td>2,955</td>\n",
       "      <td>164               ...</td>\n",
       "    </tr>\n",
       "    <tr>\n",
       "      <th>1</th>\n",
       "      <td>South AfricaSA</td>\n",
       "      <td>24</td>\n",
       "      <td>2,828</td>\n",
       "      <td>118</td>\n",
       "    </tr>\n",
       "    <tr>\n",
       "      <th>2</th>\n",
       "      <td>EnglandENG</td>\n",
       "      <td>17</td>\n",
       "      <td>1,993</td>\n",
       "      <td>117</td>\n",
       "    </tr>\n",
       "    <tr>\n",
       "      <th>3</th>\n",
       "      <td>IndiaIND</td>\n",
       "      <td>20</td>\n",
       "      <td>2,226</td>\n",
       "      <td>111</td>\n",
       "    </tr>\n",
       "    <tr>\n",
       "      <th>4</th>\n",
       "      <td>New ZealandNZ</td>\n",
       "      <td>21</td>\n",
       "      <td>1,947</td>\n",
       "      <td>93</td>\n",
       "    </tr>\n",
       "    <tr>\n",
       "      <th>5</th>\n",
       "      <td>West IndiesWI</td>\n",
       "      <td>12</td>\n",
       "      <td>1,025</td>\n",
       "      <td>85</td>\n",
       "    </tr>\n",
       "    <tr>\n",
       "      <th>6</th>\n",
       "      <td>PakistanPAK</td>\n",
       "      <td>15</td>\n",
       "      <td>1,101</td>\n",
       "      <td>73</td>\n",
       "    </tr>\n",
       "    <tr>\n",
       "      <th>7</th>\n",
       "      <td>BangladeshBAN</td>\n",
       "      <td>5</td>\n",
       "      <td>306</td>\n",
       "      <td>61</td>\n",
       "    </tr>\n",
       "    <tr>\n",
       "      <th>8</th>\n",
       "      <td>Sri LankaSL</td>\n",
       "      <td>11</td>\n",
       "      <td>519</td>\n",
       "      <td>47</td>\n",
       "    </tr>\n",
       "    <tr>\n",
       "      <th>9</th>\n",
       "      <td>IrelandIRE</td>\n",
       "      <td>2</td>\n",
       "      <td>25</td>\n",
       "      <td>13</td>\n",
       "    </tr>\n",
       "  </tbody>\n",
       "</table>\n",
       "</div>"
      ],
      "text/plain": [
       "  -------Country-------- --------Matches----------- --------Points----------  \\\n",
       "0           AustraliaAUS                         18                    2,955   \n",
       "1         South AfricaSA                         24                    2,828   \n",
       "2             EnglandENG                         17                    1,993   \n",
       "3               IndiaIND                         20                    2,226   \n",
       "4          New ZealandNZ                         21                    1,947   \n",
       "5          West IndiesWI                         12                    1,025   \n",
       "6            PakistanPAK                         15                    1,101   \n",
       "7          BangladeshBAN                          5                      306   \n",
       "8            Sri LankaSL                         11                      519   \n",
       "9             IrelandIRE                          2                       25   \n",
       "\n",
       "                               --------Rating-------  \n",
       "0                              164               ...  \n",
       "1                                                118  \n",
       "2                                                117  \n",
       "3                                                111  \n",
       "4                                                 93  \n",
       "5                                                 85  \n",
       "6                                                 73  \n",
       "7                                                 61  \n",
       "8                                                 47  \n",
       "9                                                 13  "
      ]
     },
     "execution_count": 87,
     "metadata": {},
     "output_type": "execute_result"
    }
   ],
   "source": [
    "#top Women cricket country with thrie matches points and ratings\n",
    "Women_ICC_Ranking_Table=pd.DataFrame({})\n",
    "\n",
    "Women_ICC_Ranking_Table['-------Country--------']=Country_list\n",
    "Women_ICC_Ranking_Table['--------Matches-----------']=matches1\n",
    "Women_ICC_Ranking_Table['--------Points----------']=points1\n",
    "Women_ICC_Ranking_Table['--------Rating-------']=rating1\n",
    "\n",
    "Women_ICC_Ranking_Table"
   ]
  },
  {
   "cell_type": "code",
   "execution_count": null,
   "metadata": {},
   "outputs": [],
   "source": []
  },
  {
   "cell_type": "markdown",
   "metadata": {},
   "source": [
    "# (ii) Top 10 women’s ODI players along with the records of their team and rating."
   ]
  },
  {
   "cell_type": "code",
   "execution_count": 88,
   "metadata": {},
   "outputs": [
    {
     "data": {
      "text/plain": [
       "<Response [200]>"
      ]
     },
     "execution_count": 88,
     "metadata": {},
     "output_type": "execute_result"
    }
   ],
   "source": [
    "#checking site response for scraping\n",
    "page=requests.get('https://www.icc-cricket.com/rankings/womens/player-rankings/odi')\n",
    "page"
   ]
  },
  {
   "cell_type": "markdown",
   "metadata": {},
   "source": [
    "we get response [200] so we can scrap"
   ]
  },
  {
   "cell_type": "code",
   "execution_count": 89,
   "metadata": {},
   "outputs": [],
   "source": [
    "soup=BeautifulSoup(page.content, 'html.parser')"
   ]
  },
  {
   "cell_type": "code",
   "execution_count": 90,
   "metadata": {},
   "outputs": [
    {
     "data": {
      "text/plain": [
       "[' Lizelle Lee ',\n",
       " ' Alyssa Healy ',\n",
       " ' Stafanie Taylor ',\n",
       " ' Meg Lanning ',\n",
       " ' Amy Satterthwaite ',\n",
       " ' Smriti Mandhana ',\n",
       " ' Mithali Raj ',\n",
       " ' Natalie Sciver ',\n",
       " ' Laura Wolvaardt ',\n",
       " ' Megan Schutt ',\n",
       " ' Marizanne Kapp ',\n",
       " ' Shabnim Ismail ',\n",
       " ' Jhulan Goswami ',\n",
       " ' Katherine Brunt ',\n",
       " ' Poonam Yadav ',\n",
       " ' Ayabonga Khaka ',\n",
       " ' Ellyse Perry ',\n",
       " ' Shikha Pandey ',\n",
       " ' Ellyse Perry ',\n",
       " ' Stafanie Taylor ',\n",
       " ' Natalie Sciver ',\n",
       " ' Deepti Sharma ',\n",
       " ' Jess Jonassen ',\n",
       " ' Ashleigh Gardner ',\n",
       " ' Dane van Niekerk ',\n",
       " ' Sophie Devine ',\n",
       " ' Amelia Kerr ']"
      ]
     },
     "execution_count": 90,
     "metadata": {},
     "output_type": "execute_result"
    }
   ],
   "source": [
    "#Creating a list of ODI women's cricket team player by for loop\n",
    "women_player=soup.find_all('td',class_='table-body__cell name') \n",
    "player=[] #empty list\n",
    "for i in women_player:\n",
    "    player.append(i.text.replace('\\n',' '))\n",
    "player"
   ]
  },
  {
   "cell_type": "code",
   "execution_count": 91,
   "metadata": {},
   "outputs": [
    {
     "data": {
      "text/plain": [
       "['SA',\n",
       " 'AUS',\n",
       " 'WI',\n",
       " 'AUS',\n",
       " 'NZ',\n",
       " 'IND',\n",
       " 'IND',\n",
       " 'ENG',\n",
       " 'SA',\n",
       " 'AUS',\n",
       " 'SA',\n",
       " 'SA',\n",
       " 'IND',\n",
       " 'ENG',\n",
       " 'IND',\n",
       " 'SA',\n",
       " 'AUS',\n",
       " 'IND',\n",
       " 'AUS',\n",
       " 'WI',\n",
       " 'ENG',\n",
       " 'IND',\n",
       " 'AUS',\n",
       " 'AUS',\n",
       " 'SA',\n",
       " 'NZ',\n",
       " 'NZ']"
      ]
     },
     "execution_count": 91,
     "metadata": {},
     "output_type": "execute_result"
    }
   ],
   "source": [
    "#Creating a list of ODI women's cricket team player country by for loop\n",
    "women_country=soup.find_all('span',class_='table-body__logo-text') \n",
    "country=[] #empty list\n",
    "for i in women_country:\n",
    "    country.append(i.text.replace('\\n',' '))\n",
    "country"
   ]
  },
  {
   "cell_type": "code",
   "execution_count": 92,
   "metadata": {},
   "outputs": [
    {
     "data": {
      "text/plain": [
       "['758',\n",
       " '756',\n",
       " '746',\n",
       " '723',\n",
       " '715',\n",
       " '710',\n",
       " '709',\n",
       " '685',\n",
       " '683',\n",
       " '762',\n",
       " '747',\n",
       " '717',\n",
       " '681',\n",
       " '655',\n",
       " '641',\n",
       " '638',\n",
       " '616',\n",
       " '610',\n",
       " '418',\n",
       " '410',\n",
       " '349',\n",
       " '343',\n",
       " '307',\n",
       " '252',\n",
       " '243',\n",
       " '242',\n",
       " '236']"
      ]
     },
     "execution_count": 92,
     "metadata": {},
     "output_type": "execute_result"
    }
   ],
   "source": [
    "#Creating a list of ODI women's cricket team player rating by for loop\n",
    "ODI_rating=soup.find_all('td',class_='table-body__cell u-text-right rating') \n",
    "rating=[] #empty list\n",
    "for i in ODI_rating:\n",
    "    rating.append(i.text.replace('\\n',' '))\n",
    "rating"
   ]
  },
  {
   "cell_type": "code",
   "execution_count": 93,
   "metadata": {},
   "outputs": [
    {
     "data": {
      "text/plain": [
       "['Tammy Beaumont', 'Jess Jonassen', 'Marizanne Kapp']"
      ]
     },
     "execution_count": 93,
     "metadata": {},
     "output_type": "execute_result"
    }
   ],
   "source": [
    "#top player name in bating bowling and allrounder\n",
    "women_top_players=soup.find_all('div',class_='rankings-block__banner--name') \n",
    "top_players=[] #empty list\n",
    "for i in women_top_players:\n",
    "    top_players.append(i.text.replace('\\n',' '))\n",
    "top_players"
   ]
  },
  {
   "cell_type": "code",
   "execution_count": 94,
   "metadata": {},
   "outputs": [
    {
     "data": {
      "text/plain": [
       "['765', '808', '418']"
      ]
     },
     "execution_count": 94,
     "metadata": {},
     "output_type": "execute_result"
    }
   ],
   "source": [
    "#top player ratings\n",
    "women_top_players_ratings=soup.find_all('div',class_='rankings-block__banner--rating') \n",
    "top_players_ratings=[] #empty list\n",
    "for i in women_top_players_ratings:\n",
    "    top_players_ratings.append(i.text.replace('\\n',' '))\n",
    "top_players_ratings"
   ]
  },
  {
   "cell_type": "code",
   "execution_count": 95,
   "metadata": {},
   "outputs": [
    {
     "data": {
      "text/plain": [
       "['  ENG 765 ', '  AUS 808 ', '  SA 418 ']"
      ]
     },
     "execution_count": 95,
     "metadata": {},
     "output_type": "execute_result"
    }
   ],
   "source": [
    "#top player country\n",
    "women_top_players_country=soup.find_all('div',class_='rankings-block__banner--nationality') \n",
    "top_players_country=[] #empty list\n",
    "for i in women_top_players_country:\n",
    "    top_players_country.append(i.text.replace('\\n',' '))\n",
    "top_players_country"
   ]
  },
  {
   "cell_type": "code",
   "execution_count": 96,
   "metadata": {},
   "outputs": [
    {
     "data": {
      "text/html": [
       "<div>\n",
       "<style scoped>\n",
       "    .dataframe tbody tr th:only-of-type {\n",
       "        vertical-align: middle;\n",
       "    }\n",
       "\n",
       "    .dataframe tbody tr th {\n",
       "        vertical-align: top;\n",
       "    }\n",
       "\n",
       "    .dataframe thead th {\n",
       "        text-align: right;\n",
       "    }\n",
       "</style>\n",
       "<table border=\"1\" class=\"dataframe\">\n",
       "  <thead>\n",
       "    <tr style=\"text-align: right;\">\n",
       "      <th></th>\n",
       "      <th>Player Name</th>\n",
       "      <th>Country</th>\n",
       "      <th>Rating</th>\n",
       "    </tr>\n",
       "  </thead>\n",
       "  <tbody>\n",
       "    <tr>\n",
       "      <th>0</th>\n",
       "      <td>Tammy Beaumont</td>\n",
       "      <td>ENG 765</td>\n",
       "      <td>765</td>\n",
       "    </tr>\n",
       "    <tr>\n",
       "      <th>1</th>\n",
       "      <td>Jess Jonassen</td>\n",
       "      <td>AUS 808</td>\n",
       "      <td>808</td>\n",
       "    </tr>\n",
       "    <tr>\n",
       "      <th>2</th>\n",
       "      <td>Marizanne Kapp</td>\n",
       "      <td>SA 418</td>\n",
       "      <td>418</td>\n",
       "    </tr>\n",
       "  </tbody>\n",
       "</table>\n",
       "</div>"
      ],
      "text/plain": [
       "      Player Name     Country Rating\n",
       "0  Tammy Beaumont    ENG 765     765\n",
       "1   Jess Jonassen    AUS 808     808\n",
       "2  Marizanne Kapp     SA 418     418"
      ]
     },
     "execution_count": 96,
     "metadata": {},
     "output_type": "execute_result"
    }
   ],
   "source": [
    "#creating dataframe of top players in bating bowling and as allrounder\n",
    "top_women_player=pd.DataFrame({})\n",
    "top_women_player['Player Name']=top_players\n",
    "top_women_player['Country']=top_players_country\n",
    "top_women_player['Rating']=top_players_ratings\n",
    "top_women_player"
   ]
  },
  {
   "cell_type": "code",
   "execution_count": 97,
   "metadata": {},
   "outputs": [
    {
     "data": {
      "text/html": [
       "<div>\n",
       "<style scoped>\n",
       "    .dataframe tbody tr th:only-of-type {\n",
       "        vertical-align: middle;\n",
       "    }\n",
       "\n",
       "    .dataframe tbody tr th {\n",
       "        vertical-align: top;\n",
       "    }\n",
       "\n",
       "    .dataframe thead th {\n",
       "        text-align: right;\n",
       "    }\n",
       "</style>\n",
       "<table border=\"1\" class=\"dataframe\">\n",
       "  <thead>\n",
       "    <tr style=\"text-align: right;\">\n",
       "      <th></th>\n",
       "      <th>Player Name</th>\n",
       "      <th>Country</th>\n",
       "      <th>Rating</th>\n",
       "    </tr>\n",
       "  </thead>\n",
       "  <tbody>\n",
       "    <tr>\n",
       "      <th>0</th>\n",
       "      <td>Lizelle Lee</td>\n",
       "      <td>SA</td>\n",
       "      <td>758</td>\n",
       "    </tr>\n",
       "    <tr>\n",
       "      <th>1</th>\n",
       "      <td>Alyssa Healy</td>\n",
       "      <td>AUS</td>\n",
       "      <td>756</td>\n",
       "    </tr>\n",
       "    <tr>\n",
       "      <th>2</th>\n",
       "      <td>Stafanie Taylor</td>\n",
       "      <td>WI</td>\n",
       "      <td>746</td>\n",
       "    </tr>\n",
       "    <tr>\n",
       "      <th>3</th>\n",
       "      <td>Meg Lanning</td>\n",
       "      <td>AUS</td>\n",
       "      <td>723</td>\n",
       "    </tr>\n",
       "    <tr>\n",
       "      <th>4</th>\n",
       "      <td>Amy Satterthwaite</td>\n",
       "      <td>NZ</td>\n",
       "      <td>715</td>\n",
       "    </tr>\n",
       "    <tr>\n",
       "      <th>5</th>\n",
       "      <td>Smriti Mandhana</td>\n",
       "      <td>IND</td>\n",
       "      <td>710</td>\n",
       "    </tr>\n",
       "    <tr>\n",
       "      <th>6</th>\n",
       "      <td>Mithali Raj</td>\n",
       "      <td>IND</td>\n",
       "      <td>709</td>\n",
       "    </tr>\n",
       "    <tr>\n",
       "      <th>7</th>\n",
       "      <td>Natalie Sciver</td>\n",
       "      <td>ENG</td>\n",
       "      <td>685</td>\n",
       "    </tr>\n",
       "    <tr>\n",
       "      <th>8</th>\n",
       "      <td>Laura Wolvaardt</td>\n",
       "      <td>SA</td>\n",
       "      <td>683</td>\n",
       "    </tr>\n",
       "    <tr>\n",
       "      <th>9</th>\n",
       "      <td>Megan Schutt</td>\n",
       "      <td>AUS</td>\n",
       "      <td>762</td>\n",
       "    </tr>\n",
       "    <tr>\n",
       "      <th>10</th>\n",
       "      <td>Marizanne Kapp</td>\n",
       "      <td>SA</td>\n",
       "      <td>747</td>\n",
       "    </tr>\n",
       "    <tr>\n",
       "      <th>11</th>\n",
       "      <td>Shabnim Ismail</td>\n",
       "      <td>SA</td>\n",
       "      <td>717</td>\n",
       "    </tr>\n",
       "    <tr>\n",
       "      <th>12</th>\n",
       "      <td>Jhulan Goswami</td>\n",
       "      <td>IND</td>\n",
       "      <td>681</td>\n",
       "    </tr>\n",
       "    <tr>\n",
       "      <th>13</th>\n",
       "      <td>Katherine Brunt</td>\n",
       "      <td>ENG</td>\n",
       "      <td>655</td>\n",
       "    </tr>\n",
       "    <tr>\n",
       "      <th>14</th>\n",
       "      <td>Poonam Yadav</td>\n",
       "      <td>IND</td>\n",
       "      <td>641</td>\n",
       "    </tr>\n",
       "    <tr>\n",
       "      <th>15</th>\n",
       "      <td>Ayabonga Khaka</td>\n",
       "      <td>SA</td>\n",
       "      <td>638</td>\n",
       "    </tr>\n",
       "    <tr>\n",
       "      <th>16</th>\n",
       "      <td>Ellyse Perry</td>\n",
       "      <td>AUS</td>\n",
       "      <td>616</td>\n",
       "    </tr>\n",
       "    <tr>\n",
       "      <th>17</th>\n",
       "      <td>Shikha Pandey</td>\n",
       "      <td>IND</td>\n",
       "      <td>610</td>\n",
       "    </tr>\n",
       "    <tr>\n",
       "      <th>18</th>\n",
       "      <td>Ellyse Perry</td>\n",
       "      <td>AUS</td>\n",
       "      <td>418</td>\n",
       "    </tr>\n",
       "    <tr>\n",
       "      <th>19</th>\n",
       "      <td>Stafanie Taylor</td>\n",
       "      <td>WI</td>\n",
       "      <td>410</td>\n",
       "    </tr>\n",
       "    <tr>\n",
       "      <th>20</th>\n",
       "      <td>Natalie Sciver</td>\n",
       "      <td>ENG</td>\n",
       "      <td>349</td>\n",
       "    </tr>\n",
       "    <tr>\n",
       "      <th>21</th>\n",
       "      <td>Deepti Sharma</td>\n",
       "      <td>IND</td>\n",
       "      <td>343</td>\n",
       "    </tr>\n",
       "    <tr>\n",
       "      <th>22</th>\n",
       "      <td>Jess Jonassen</td>\n",
       "      <td>AUS</td>\n",
       "      <td>307</td>\n",
       "    </tr>\n",
       "    <tr>\n",
       "      <th>23</th>\n",
       "      <td>Ashleigh Gardner</td>\n",
       "      <td>AUS</td>\n",
       "      <td>252</td>\n",
       "    </tr>\n",
       "    <tr>\n",
       "      <th>24</th>\n",
       "      <td>Dane van Niekerk</td>\n",
       "      <td>SA</td>\n",
       "      <td>243</td>\n",
       "    </tr>\n",
       "    <tr>\n",
       "      <th>25</th>\n",
       "      <td>Sophie Devine</td>\n",
       "      <td>NZ</td>\n",
       "      <td>242</td>\n",
       "    </tr>\n",
       "    <tr>\n",
       "      <th>26</th>\n",
       "      <td>Amelia Kerr</td>\n",
       "      <td>NZ</td>\n",
       "      <td>236</td>\n",
       "    </tr>\n",
       "  </tbody>\n",
       "</table>\n",
       "</div>"
      ],
      "text/plain": [
       "            Player Name Country Rating\n",
       "0          Lizelle Lee       SA    758\n",
       "1         Alyssa Healy      AUS    756\n",
       "2      Stafanie Taylor       WI    746\n",
       "3          Meg Lanning      AUS    723\n",
       "4    Amy Satterthwaite       NZ    715\n",
       "5      Smriti Mandhana      IND    710\n",
       "6          Mithali Raj      IND    709\n",
       "7       Natalie Sciver      ENG    685\n",
       "8      Laura Wolvaardt       SA    683\n",
       "9         Megan Schutt      AUS    762\n",
       "10      Marizanne Kapp       SA    747\n",
       "11      Shabnim Ismail       SA    717\n",
       "12      Jhulan Goswami      IND    681\n",
       "13     Katherine Brunt      ENG    655\n",
       "14        Poonam Yadav      IND    641\n",
       "15      Ayabonga Khaka       SA    638\n",
       "16        Ellyse Perry      AUS    616\n",
       "17       Shikha Pandey      IND    610\n",
       "18        Ellyse Perry      AUS    418\n",
       "19     Stafanie Taylor       WI    410\n",
       "20      Natalie Sciver      ENG    349\n",
       "21       Deepti Sharma      IND    343\n",
       "22       Jess Jonassen      AUS    307\n",
       "23    Ashleigh Gardner      AUS    252\n",
       "24    Dane van Niekerk       SA    243\n",
       "25       Sophie Devine       NZ    242\n",
       "26         Amelia Kerr       NZ    236"
      ]
     },
     "execution_count": 97,
     "metadata": {},
     "output_type": "execute_result"
    }
   ],
   "source": [
    "#dataframe of players execpt 1st ranker in bating bowling and allrounder\n",
    "women_players=pd.DataFrame({})\n",
    "women_players['Player Name']=player\n",
    "women_players['Country']=country\n",
    "women_players['Rating']=rating\n",
    "women_players"
   ]
  },
  {
   "cell_type": "code",
   "execution_count": 98,
   "metadata": {},
   "outputs": [
    {
     "data": {
      "text/html": [
       "<div>\n",
       "<style scoped>\n",
       "    .dataframe tbody tr th:only-of-type {\n",
       "        vertical-align: middle;\n",
       "    }\n",
       "\n",
       "    .dataframe tbody tr th {\n",
       "        vertical-align: top;\n",
       "    }\n",
       "\n",
       "    .dataframe thead th {\n",
       "        text-align: right;\n",
       "    }\n",
       "</style>\n",
       "<table border=\"1\" class=\"dataframe\">\n",
       "  <thead>\n",
       "    <tr style=\"text-align: right;\">\n",
       "      <th></th>\n",
       "      <th>Player Name</th>\n",
       "      <th>Country</th>\n",
       "      <th>Rating</th>\n",
       "    </tr>\n",
       "  </thead>\n",
       "  <tbody>\n",
       "    <tr>\n",
       "      <th>0</th>\n",
       "      <td>Tammy Beaumont</td>\n",
       "      <td>ENG 765</td>\n",
       "      <td>765</td>\n",
       "    </tr>\n",
       "    <tr>\n",
       "      <th>1</th>\n",
       "      <td>Jess Jonassen</td>\n",
       "      <td>AUS 808</td>\n",
       "      <td>808</td>\n",
       "    </tr>\n",
       "    <tr>\n",
       "      <th>2</th>\n",
       "      <td>Marizanne Kapp</td>\n",
       "      <td>SA 418</td>\n",
       "      <td>418</td>\n",
       "    </tr>\n",
       "    <tr>\n",
       "      <th>0</th>\n",
       "      <td>Lizelle Lee</td>\n",
       "      <td>SA</td>\n",
       "      <td>758</td>\n",
       "    </tr>\n",
       "    <tr>\n",
       "      <th>1</th>\n",
       "      <td>Alyssa Healy</td>\n",
       "      <td>AUS</td>\n",
       "      <td>756</td>\n",
       "    </tr>\n",
       "    <tr>\n",
       "      <th>2</th>\n",
       "      <td>Stafanie Taylor</td>\n",
       "      <td>WI</td>\n",
       "      <td>746</td>\n",
       "    </tr>\n",
       "    <tr>\n",
       "      <th>3</th>\n",
       "      <td>Meg Lanning</td>\n",
       "      <td>AUS</td>\n",
       "      <td>723</td>\n",
       "    </tr>\n",
       "    <tr>\n",
       "      <th>4</th>\n",
       "      <td>Amy Satterthwaite</td>\n",
       "      <td>NZ</td>\n",
       "      <td>715</td>\n",
       "    </tr>\n",
       "    <tr>\n",
       "      <th>5</th>\n",
       "      <td>Smriti Mandhana</td>\n",
       "      <td>IND</td>\n",
       "      <td>710</td>\n",
       "    </tr>\n",
       "    <tr>\n",
       "      <th>6</th>\n",
       "      <td>Mithali Raj</td>\n",
       "      <td>IND</td>\n",
       "      <td>709</td>\n",
       "    </tr>\n",
       "    <tr>\n",
       "      <th>7</th>\n",
       "      <td>Natalie Sciver</td>\n",
       "      <td>ENG</td>\n",
       "      <td>685</td>\n",
       "    </tr>\n",
       "    <tr>\n",
       "      <th>8</th>\n",
       "      <td>Laura Wolvaardt</td>\n",
       "      <td>SA</td>\n",
       "      <td>683</td>\n",
       "    </tr>\n",
       "    <tr>\n",
       "      <th>9</th>\n",
       "      <td>Megan Schutt</td>\n",
       "      <td>AUS</td>\n",
       "      <td>762</td>\n",
       "    </tr>\n",
       "    <tr>\n",
       "      <th>10</th>\n",
       "      <td>Marizanne Kapp</td>\n",
       "      <td>SA</td>\n",
       "      <td>747</td>\n",
       "    </tr>\n",
       "    <tr>\n",
       "      <th>11</th>\n",
       "      <td>Shabnim Ismail</td>\n",
       "      <td>SA</td>\n",
       "      <td>717</td>\n",
       "    </tr>\n",
       "    <tr>\n",
       "      <th>12</th>\n",
       "      <td>Jhulan Goswami</td>\n",
       "      <td>IND</td>\n",
       "      <td>681</td>\n",
       "    </tr>\n",
       "    <tr>\n",
       "      <th>13</th>\n",
       "      <td>Katherine Brunt</td>\n",
       "      <td>ENG</td>\n",
       "      <td>655</td>\n",
       "    </tr>\n",
       "    <tr>\n",
       "      <th>14</th>\n",
       "      <td>Poonam Yadav</td>\n",
       "      <td>IND</td>\n",
       "      <td>641</td>\n",
       "    </tr>\n",
       "    <tr>\n",
       "      <th>15</th>\n",
       "      <td>Ayabonga Khaka</td>\n",
       "      <td>SA</td>\n",
       "      <td>638</td>\n",
       "    </tr>\n",
       "    <tr>\n",
       "      <th>16</th>\n",
       "      <td>Ellyse Perry</td>\n",
       "      <td>AUS</td>\n",
       "      <td>616</td>\n",
       "    </tr>\n",
       "    <tr>\n",
       "      <th>17</th>\n",
       "      <td>Shikha Pandey</td>\n",
       "      <td>IND</td>\n",
       "      <td>610</td>\n",
       "    </tr>\n",
       "    <tr>\n",
       "      <th>18</th>\n",
       "      <td>Ellyse Perry</td>\n",
       "      <td>AUS</td>\n",
       "      <td>418</td>\n",
       "    </tr>\n",
       "    <tr>\n",
       "      <th>19</th>\n",
       "      <td>Stafanie Taylor</td>\n",
       "      <td>WI</td>\n",
       "      <td>410</td>\n",
       "    </tr>\n",
       "    <tr>\n",
       "      <th>20</th>\n",
       "      <td>Natalie Sciver</td>\n",
       "      <td>ENG</td>\n",
       "      <td>349</td>\n",
       "    </tr>\n",
       "    <tr>\n",
       "      <th>21</th>\n",
       "      <td>Deepti Sharma</td>\n",
       "      <td>IND</td>\n",
       "      <td>343</td>\n",
       "    </tr>\n",
       "    <tr>\n",
       "      <th>22</th>\n",
       "      <td>Jess Jonassen</td>\n",
       "      <td>AUS</td>\n",
       "      <td>307</td>\n",
       "    </tr>\n",
       "    <tr>\n",
       "      <th>23</th>\n",
       "      <td>Ashleigh Gardner</td>\n",
       "      <td>AUS</td>\n",
       "      <td>252</td>\n",
       "    </tr>\n",
       "    <tr>\n",
       "      <th>24</th>\n",
       "      <td>Dane van Niekerk</td>\n",
       "      <td>SA</td>\n",
       "      <td>243</td>\n",
       "    </tr>\n",
       "    <tr>\n",
       "      <th>25</th>\n",
       "      <td>Sophie Devine</td>\n",
       "      <td>NZ</td>\n",
       "      <td>242</td>\n",
       "    </tr>\n",
       "    <tr>\n",
       "      <th>26</th>\n",
       "      <td>Amelia Kerr</td>\n",
       "      <td>NZ</td>\n",
       "      <td>236</td>\n",
       "    </tr>\n",
       "  </tbody>\n",
       "</table>\n",
       "</div>"
      ],
      "text/plain": [
       "            Player Name     Country Rating\n",
       "0        Tammy Beaumont    ENG 765     765\n",
       "1         Jess Jonassen    AUS 808     808\n",
       "2        Marizanne Kapp     SA 418     418\n",
       "0          Lizelle Lee           SA    758\n",
       "1         Alyssa Healy          AUS    756\n",
       "2      Stafanie Taylor           WI    746\n",
       "3          Meg Lanning          AUS    723\n",
       "4    Amy Satterthwaite           NZ    715\n",
       "5      Smriti Mandhana          IND    710\n",
       "6          Mithali Raj          IND    709\n",
       "7       Natalie Sciver          ENG    685\n",
       "8      Laura Wolvaardt           SA    683\n",
       "9         Megan Schutt          AUS    762\n",
       "10      Marizanne Kapp           SA    747\n",
       "11      Shabnim Ismail           SA    717\n",
       "12      Jhulan Goswami          IND    681\n",
       "13     Katherine Brunt          ENG    655\n",
       "14        Poonam Yadav          IND    641\n",
       "15      Ayabonga Khaka           SA    638\n",
       "16        Ellyse Perry          AUS    616\n",
       "17       Shikha Pandey          IND    610\n",
       "18        Ellyse Perry          AUS    418\n",
       "19     Stafanie Taylor           WI    410\n",
       "20      Natalie Sciver          ENG    349\n",
       "21       Deepti Sharma          IND    343\n",
       "22       Jess Jonassen          AUS    307\n",
       "23    Ashleigh Gardner          AUS    252\n",
       "24    Dane van Niekerk           SA    243\n",
       "25       Sophie Devine           NZ    242\n",
       "26         Amelia Kerr           NZ    236"
      ]
     },
     "execution_count": 98,
     "metadata": {},
     "output_type": "execute_result"
    }
   ],
   "source": [
    "#dataframe of players with thire country and rratings\n",
    "player_country_rating = pd.concat([top_women_player, women_players], axis=0)\n",
    "player_country_rating"
   ]
  },
  {
   "cell_type": "code",
   "execution_count": 99,
   "metadata": {},
   "outputs": [
    {
     "data": {
      "text/html": [
       "<div>\n",
       "<style scoped>\n",
       "    .dataframe tbody tr th:only-of-type {\n",
       "        vertical-align: middle;\n",
       "    }\n",
       "\n",
       "    .dataframe tbody tr th {\n",
       "        vertical-align: top;\n",
       "    }\n",
       "\n",
       "    .dataframe thead th {\n",
       "        text-align: right;\n",
       "    }\n",
       "</style>\n",
       "<table border=\"1\" class=\"dataframe\">\n",
       "  <thead>\n",
       "    <tr style=\"text-align: right;\">\n",
       "      <th></th>\n",
       "      <th>Player Name</th>\n",
       "      <th>Country</th>\n",
       "      <th>Rating</th>\n",
       "    </tr>\n",
       "  </thead>\n",
       "  <tbody>\n",
       "    <tr>\n",
       "      <th>1</th>\n",
       "      <td>Jess Jonassen</td>\n",
       "      <td>AUS 808</td>\n",
       "      <td>808</td>\n",
       "    </tr>\n",
       "    <tr>\n",
       "      <th>0</th>\n",
       "      <td>Tammy Beaumont</td>\n",
       "      <td>ENG 765</td>\n",
       "      <td>765</td>\n",
       "    </tr>\n",
       "    <tr>\n",
       "      <th>9</th>\n",
       "      <td>Megan Schutt</td>\n",
       "      <td>AUS</td>\n",
       "      <td>762</td>\n",
       "    </tr>\n",
       "    <tr>\n",
       "      <th>0</th>\n",
       "      <td>Lizelle Lee</td>\n",
       "      <td>SA</td>\n",
       "      <td>758</td>\n",
       "    </tr>\n",
       "    <tr>\n",
       "      <th>1</th>\n",
       "      <td>Alyssa Healy</td>\n",
       "      <td>AUS</td>\n",
       "      <td>756</td>\n",
       "    </tr>\n",
       "    <tr>\n",
       "      <th>10</th>\n",
       "      <td>Marizanne Kapp</td>\n",
       "      <td>SA</td>\n",
       "      <td>747</td>\n",
       "    </tr>\n",
       "    <tr>\n",
       "      <th>2</th>\n",
       "      <td>Stafanie Taylor</td>\n",
       "      <td>WI</td>\n",
       "      <td>746</td>\n",
       "    </tr>\n",
       "    <tr>\n",
       "      <th>3</th>\n",
       "      <td>Meg Lanning</td>\n",
       "      <td>AUS</td>\n",
       "      <td>723</td>\n",
       "    </tr>\n",
       "    <tr>\n",
       "      <th>11</th>\n",
       "      <td>Shabnim Ismail</td>\n",
       "      <td>SA</td>\n",
       "      <td>717</td>\n",
       "    </tr>\n",
       "    <tr>\n",
       "      <th>4</th>\n",
       "      <td>Amy Satterthwaite</td>\n",
       "      <td>NZ</td>\n",
       "      <td>715</td>\n",
       "    </tr>\n",
       "    <tr>\n",
       "      <th>5</th>\n",
       "      <td>Smriti Mandhana</td>\n",
       "      <td>IND</td>\n",
       "      <td>710</td>\n",
       "    </tr>\n",
       "    <tr>\n",
       "      <th>6</th>\n",
       "      <td>Mithali Raj</td>\n",
       "      <td>IND</td>\n",
       "      <td>709</td>\n",
       "    </tr>\n",
       "    <tr>\n",
       "      <th>7</th>\n",
       "      <td>Natalie Sciver</td>\n",
       "      <td>ENG</td>\n",
       "      <td>685</td>\n",
       "    </tr>\n",
       "    <tr>\n",
       "      <th>8</th>\n",
       "      <td>Laura Wolvaardt</td>\n",
       "      <td>SA</td>\n",
       "      <td>683</td>\n",
       "    </tr>\n",
       "    <tr>\n",
       "      <th>12</th>\n",
       "      <td>Jhulan Goswami</td>\n",
       "      <td>IND</td>\n",
       "      <td>681</td>\n",
       "    </tr>\n",
       "    <tr>\n",
       "      <th>13</th>\n",
       "      <td>Katherine Brunt</td>\n",
       "      <td>ENG</td>\n",
       "      <td>655</td>\n",
       "    </tr>\n",
       "    <tr>\n",
       "      <th>14</th>\n",
       "      <td>Poonam Yadav</td>\n",
       "      <td>IND</td>\n",
       "      <td>641</td>\n",
       "    </tr>\n",
       "    <tr>\n",
       "      <th>15</th>\n",
       "      <td>Ayabonga Khaka</td>\n",
       "      <td>SA</td>\n",
       "      <td>638</td>\n",
       "    </tr>\n",
       "    <tr>\n",
       "      <th>16</th>\n",
       "      <td>Ellyse Perry</td>\n",
       "      <td>AUS</td>\n",
       "      <td>616</td>\n",
       "    </tr>\n",
       "    <tr>\n",
       "      <th>17</th>\n",
       "      <td>Shikha Pandey</td>\n",
       "      <td>IND</td>\n",
       "      <td>610</td>\n",
       "    </tr>\n",
       "    <tr>\n",
       "      <th>2</th>\n",
       "      <td>Marizanne Kapp</td>\n",
       "      <td>SA 418</td>\n",
       "      <td>418</td>\n",
       "    </tr>\n",
       "    <tr>\n",
       "      <th>18</th>\n",
       "      <td>Ellyse Perry</td>\n",
       "      <td>AUS</td>\n",
       "      <td>418</td>\n",
       "    </tr>\n",
       "    <tr>\n",
       "      <th>19</th>\n",
       "      <td>Stafanie Taylor</td>\n",
       "      <td>WI</td>\n",
       "      <td>410</td>\n",
       "    </tr>\n",
       "    <tr>\n",
       "      <th>20</th>\n",
       "      <td>Natalie Sciver</td>\n",
       "      <td>ENG</td>\n",
       "      <td>349</td>\n",
       "    </tr>\n",
       "    <tr>\n",
       "      <th>21</th>\n",
       "      <td>Deepti Sharma</td>\n",
       "      <td>IND</td>\n",
       "      <td>343</td>\n",
       "    </tr>\n",
       "    <tr>\n",
       "      <th>22</th>\n",
       "      <td>Jess Jonassen</td>\n",
       "      <td>AUS</td>\n",
       "      <td>307</td>\n",
       "    </tr>\n",
       "    <tr>\n",
       "      <th>23</th>\n",
       "      <td>Ashleigh Gardner</td>\n",
       "      <td>AUS</td>\n",
       "      <td>252</td>\n",
       "    </tr>\n",
       "    <tr>\n",
       "      <th>24</th>\n",
       "      <td>Dane van Niekerk</td>\n",
       "      <td>SA</td>\n",
       "      <td>243</td>\n",
       "    </tr>\n",
       "    <tr>\n",
       "      <th>25</th>\n",
       "      <td>Sophie Devine</td>\n",
       "      <td>NZ</td>\n",
       "      <td>242</td>\n",
       "    </tr>\n",
       "    <tr>\n",
       "      <th>26</th>\n",
       "      <td>Amelia Kerr</td>\n",
       "      <td>NZ</td>\n",
       "      <td>236</td>\n",
       "    </tr>\n",
       "  </tbody>\n",
       "</table>\n",
       "</div>"
      ],
      "text/plain": [
       "            Player Name     Country Rating\n",
       "1         Jess Jonassen    AUS 808     808\n",
       "0        Tammy Beaumont    ENG 765     765\n",
       "9         Megan Schutt          AUS    762\n",
       "0          Lizelle Lee           SA    758\n",
       "1         Alyssa Healy          AUS    756\n",
       "10      Marizanne Kapp           SA    747\n",
       "2      Stafanie Taylor           WI    746\n",
       "3          Meg Lanning          AUS    723\n",
       "11      Shabnim Ismail           SA    717\n",
       "4    Amy Satterthwaite           NZ    715\n",
       "5      Smriti Mandhana          IND    710\n",
       "6          Mithali Raj          IND    709\n",
       "7       Natalie Sciver          ENG    685\n",
       "8      Laura Wolvaardt           SA    683\n",
       "12      Jhulan Goswami          IND    681\n",
       "13     Katherine Brunt          ENG    655\n",
       "14        Poonam Yadav          IND    641\n",
       "15      Ayabonga Khaka           SA    638\n",
       "16        Ellyse Perry          AUS    616\n",
       "17       Shikha Pandey          IND    610\n",
       "2        Marizanne Kapp     SA 418     418\n",
       "18        Ellyse Perry          AUS    418\n",
       "19     Stafanie Taylor           WI    410\n",
       "20      Natalie Sciver          ENG    349\n",
       "21       Deepti Sharma          IND    343\n",
       "22       Jess Jonassen          AUS    307\n",
       "23    Ashleigh Gardner          AUS    252\n",
       "24    Dane van Niekerk           SA    243\n",
       "25       Sophie Devine           NZ    242\n",
       "26         Amelia Kerr           NZ    236"
      ]
     },
     "execution_count": 99,
     "metadata": {},
     "output_type": "execute_result"
    }
   ],
   "source": [
    "#shorting the dataframe by ratings\n",
    "top_women_players = player_country_rating.sort_values(by=['Rating'],ascending=False)\n",
    "top_women_players"
   ]
  },
  {
   "cell_type": "code",
   "execution_count": 100,
   "metadata": {},
   "outputs": [
    {
     "data": {
      "text/html": [
       "<div>\n",
       "<style scoped>\n",
       "    .dataframe tbody tr th:only-of-type {\n",
       "        vertical-align: middle;\n",
       "    }\n",
       "\n",
       "    .dataframe tbody tr th {\n",
       "        vertical-align: top;\n",
       "    }\n",
       "\n",
       "    .dataframe thead th {\n",
       "        text-align: right;\n",
       "    }\n",
       "</style>\n",
       "<table border=\"1\" class=\"dataframe\">\n",
       "  <thead>\n",
       "    <tr style=\"text-align: right;\">\n",
       "      <th></th>\n",
       "      <th>Player Name</th>\n",
       "      <th>Country</th>\n",
       "      <th>Rating</th>\n",
       "    </tr>\n",
       "  </thead>\n",
       "  <tbody>\n",
       "    <tr>\n",
       "      <th>0</th>\n",
       "      <td>Jess Jonassen</td>\n",
       "      <td>AUS 808</td>\n",
       "      <td>808</td>\n",
       "    </tr>\n",
       "    <tr>\n",
       "      <th>1</th>\n",
       "      <td>Tammy Beaumont</td>\n",
       "      <td>ENG 765</td>\n",
       "      <td>765</td>\n",
       "    </tr>\n",
       "    <tr>\n",
       "      <th>2</th>\n",
       "      <td>Megan Schutt</td>\n",
       "      <td>AUS</td>\n",
       "      <td>762</td>\n",
       "    </tr>\n",
       "    <tr>\n",
       "      <th>3</th>\n",
       "      <td>Lizelle Lee</td>\n",
       "      <td>SA</td>\n",
       "      <td>758</td>\n",
       "    </tr>\n",
       "    <tr>\n",
       "      <th>4</th>\n",
       "      <td>Alyssa Healy</td>\n",
       "      <td>AUS</td>\n",
       "      <td>756</td>\n",
       "    </tr>\n",
       "    <tr>\n",
       "      <th>5</th>\n",
       "      <td>Marizanne Kapp</td>\n",
       "      <td>SA</td>\n",
       "      <td>747</td>\n",
       "    </tr>\n",
       "    <tr>\n",
       "      <th>6</th>\n",
       "      <td>Stafanie Taylor</td>\n",
       "      <td>WI</td>\n",
       "      <td>746</td>\n",
       "    </tr>\n",
       "    <tr>\n",
       "      <th>7</th>\n",
       "      <td>Meg Lanning</td>\n",
       "      <td>AUS</td>\n",
       "      <td>723</td>\n",
       "    </tr>\n",
       "    <tr>\n",
       "      <th>8</th>\n",
       "      <td>Shabnim Ismail</td>\n",
       "      <td>SA</td>\n",
       "      <td>717</td>\n",
       "    </tr>\n",
       "    <tr>\n",
       "      <th>9</th>\n",
       "      <td>Amy Satterthwaite</td>\n",
       "      <td>NZ</td>\n",
       "      <td>715</td>\n",
       "    </tr>\n",
       "    <tr>\n",
       "      <th>10</th>\n",
       "      <td>Smriti Mandhana</td>\n",
       "      <td>IND</td>\n",
       "      <td>710</td>\n",
       "    </tr>\n",
       "    <tr>\n",
       "      <th>11</th>\n",
       "      <td>Mithali Raj</td>\n",
       "      <td>IND</td>\n",
       "      <td>709</td>\n",
       "    </tr>\n",
       "    <tr>\n",
       "      <th>12</th>\n",
       "      <td>Natalie Sciver</td>\n",
       "      <td>ENG</td>\n",
       "      <td>685</td>\n",
       "    </tr>\n",
       "    <tr>\n",
       "      <th>13</th>\n",
       "      <td>Laura Wolvaardt</td>\n",
       "      <td>SA</td>\n",
       "      <td>683</td>\n",
       "    </tr>\n",
       "    <tr>\n",
       "      <th>14</th>\n",
       "      <td>Jhulan Goswami</td>\n",
       "      <td>IND</td>\n",
       "      <td>681</td>\n",
       "    </tr>\n",
       "    <tr>\n",
       "      <th>15</th>\n",
       "      <td>Katherine Brunt</td>\n",
       "      <td>ENG</td>\n",
       "      <td>655</td>\n",
       "    </tr>\n",
       "    <tr>\n",
       "      <th>16</th>\n",
       "      <td>Poonam Yadav</td>\n",
       "      <td>IND</td>\n",
       "      <td>641</td>\n",
       "    </tr>\n",
       "    <tr>\n",
       "      <th>17</th>\n",
       "      <td>Ayabonga Khaka</td>\n",
       "      <td>SA</td>\n",
       "      <td>638</td>\n",
       "    </tr>\n",
       "    <tr>\n",
       "      <th>18</th>\n",
       "      <td>Ellyse Perry</td>\n",
       "      <td>AUS</td>\n",
       "      <td>616</td>\n",
       "    </tr>\n",
       "    <tr>\n",
       "      <th>19</th>\n",
       "      <td>Shikha Pandey</td>\n",
       "      <td>IND</td>\n",
       "      <td>610</td>\n",
       "    </tr>\n",
       "    <tr>\n",
       "      <th>20</th>\n",
       "      <td>Marizanne Kapp</td>\n",
       "      <td>SA 418</td>\n",
       "      <td>418</td>\n",
       "    </tr>\n",
       "    <tr>\n",
       "      <th>21</th>\n",
       "      <td>Ellyse Perry</td>\n",
       "      <td>AUS</td>\n",
       "      <td>418</td>\n",
       "    </tr>\n",
       "    <tr>\n",
       "      <th>22</th>\n",
       "      <td>Stafanie Taylor</td>\n",
       "      <td>WI</td>\n",
       "      <td>410</td>\n",
       "    </tr>\n",
       "    <tr>\n",
       "      <th>23</th>\n",
       "      <td>Natalie Sciver</td>\n",
       "      <td>ENG</td>\n",
       "      <td>349</td>\n",
       "    </tr>\n",
       "    <tr>\n",
       "      <th>24</th>\n",
       "      <td>Deepti Sharma</td>\n",
       "      <td>IND</td>\n",
       "      <td>343</td>\n",
       "    </tr>\n",
       "    <tr>\n",
       "      <th>25</th>\n",
       "      <td>Jess Jonassen</td>\n",
       "      <td>AUS</td>\n",
       "      <td>307</td>\n",
       "    </tr>\n",
       "    <tr>\n",
       "      <th>26</th>\n",
       "      <td>Ashleigh Gardner</td>\n",
       "      <td>AUS</td>\n",
       "      <td>252</td>\n",
       "    </tr>\n",
       "    <tr>\n",
       "      <th>27</th>\n",
       "      <td>Dane van Niekerk</td>\n",
       "      <td>SA</td>\n",
       "      <td>243</td>\n",
       "    </tr>\n",
       "    <tr>\n",
       "      <th>28</th>\n",
       "      <td>Sophie Devine</td>\n",
       "      <td>NZ</td>\n",
       "      <td>242</td>\n",
       "    </tr>\n",
       "    <tr>\n",
       "      <th>29</th>\n",
       "      <td>Amelia Kerr</td>\n",
       "      <td>NZ</td>\n",
       "      <td>236</td>\n",
       "    </tr>\n",
       "  </tbody>\n",
       "</table>\n",
       "</div>"
      ],
      "text/plain": [
       "            Player Name     Country Rating\n",
       "0         Jess Jonassen    AUS 808     808\n",
       "1        Tammy Beaumont    ENG 765     765\n",
       "2         Megan Schutt          AUS    762\n",
       "3          Lizelle Lee           SA    758\n",
       "4         Alyssa Healy          AUS    756\n",
       "5       Marizanne Kapp           SA    747\n",
       "6      Stafanie Taylor           WI    746\n",
       "7          Meg Lanning          AUS    723\n",
       "8       Shabnim Ismail           SA    717\n",
       "9    Amy Satterthwaite           NZ    715\n",
       "10     Smriti Mandhana          IND    710\n",
       "11         Mithali Raj          IND    709\n",
       "12      Natalie Sciver          ENG    685\n",
       "13     Laura Wolvaardt           SA    683\n",
       "14      Jhulan Goswami          IND    681\n",
       "15     Katherine Brunt          ENG    655\n",
       "16        Poonam Yadav          IND    641\n",
       "17      Ayabonga Khaka           SA    638\n",
       "18        Ellyse Perry          AUS    616\n",
       "19       Shikha Pandey          IND    610\n",
       "20       Marizanne Kapp     SA 418     418\n",
       "21        Ellyse Perry          AUS    418\n",
       "22     Stafanie Taylor           WI    410\n",
       "23      Natalie Sciver          ENG    349\n",
       "24       Deepti Sharma          IND    343\n",
       "25       Jess Jonassen          AUS    307\n",
       "26    Ashleigh Gardner          AUS    252\n",
       "27    Dane van Niekerk           SA    243\n",
       "28       Sophie Devine           NZ    242\n",
       "29         Amelia Kerr           NZ    236"
      ]
     },
     "execution_count": 100,
     "metadata": {},
     "output_type": "execute_result"
    }
   ],
   "source": [
    "#now dropting the index\n",
    "top_women_players.reset_index(drop=True, inplace=True)\n",
    "top_women_players"
   ]
  },
  {
   "cell_type": "code",
   "execution_count": 101,
   "metadata": {},
   "outputs": [
    {
     "data": {
      "text/html": [
       "<div>\n",
       "<style scoped>\n",
       "    .dataframe tbody tr th:only-of-type {\n",
       "        vertical-align: middle;\n",
       "    }\n",
       "\n",
       "    .dataframe tbody tr th {\n",
       "        vertical-align: top;\n",
       "    }\n",
       "\n",
       "    .dataframe thead th {\n",
       "        text-align: right;\n",
       "    }\n",
       "</style>\n",
       "<table border=\"1\" class=\"dataframe\">\n",
       "  <thead>\n",
       "    <tr style=\"text-align: right;\">\n",
       "      <th></th>\n",
       "      <th>Player Name</th>\n",
       "      <th>Country</th>\n",
       "      <th>Rating</th>\n",
       "    </tr>\n",
       "  </thead>\n",
       "  <tbody>\n",
       "    <tr>\n",
       "      <th>0</th>\n",
       "      <td>Jess Jonassen</td>\n",
       "      <td>AUS 808</td>\n",
       "      <td>808</td>\n",
       "    </tr>\n",
       "    <tr>\n",
       "      <th>1</th>\n",
       "      <td>Tammy Beaumont</td>\n",
       "      <td>ENG 765</td>\n",
       "      <td>765</td>\n",
       "    </tr>\n",
       "    <tr>\n",
       "      <th>2</th>\n",
       "      <td>Megan Schutt</td>\n",
       "      <td>AUS</td>\n",
       "      <td>762</td>\n",
       "    </tr>\n",
       "    <tr>\n",
       "      <th>3</th>\n",
       "      <td>Lizelle Lee</td>\n",
       "      <td>SA</td>\n",
       "      <td>758</td>\n",
       "    </tr>\n",
       "    <tr>\n",
       "      <th>4</th>\n",
       "      <td>Alyssa Healy</td>\n",
       "      <td>AUS</td>\n",
       "      <td>756</td>\n",
       "    </tr>\n",
       "    <tr>\n",
       "      <th>5</th>\n",
       "      <td>Marizanne Kapp</td>\n",
       "      <td>SA</td>\n",
       "      <td>747</td>\n",
       "    </tr>\n",
       "    <tr>\n",
       "      <th>6</th>\n",
       "      <td>Stafanie Taylor</td>\n",
       "      <td>WI</td>\n",
       "      <td>746</td>\n",
       "    </tr>\n",
       "    <tr>\n",
       "      <th>7</th>\n",
       "      <td>Meg Lanning</td>\n",
       "      <td>AUS</td>\n",
       "      <td>723</td>\n",
       "    </tr>\n",
       "    <tr>\n",
       "      <th>8</th>\n",
       "      <td>Shabnim Ismail</td>\n",
       "      <td>SA</td>\n",
       "      <td>717</td>\n",
       "    </tr>\n",
       "    <tr>\n",
       "      <th>9</th>\n",
       "      <td>Amy Satterthwaite</td>\n",
       "      <td>NZ</td>\n",
       "      <td>715</td>\n",
       "    </tr>\n",
       "  </tbody>\n",
       "</table>\n",
       "</div>"
      ],
      "text/plain": [
       "           Player Name     Country Rating\n",
       "0        Jess Jonassen    AUS 808     808\n",
       "1       Tammy Beaumont    ENG 765     765\n",
       "2        Megan Schutt          AUS    762\n",
       "3         Lizelle Lee           SA    758\n",
       "4        Alyssa Healy          AUS    756\n",
       "5      Marizanne Kapp           SA    747\n",
       "6     Stafanie Taylor           WI    746\n",
       "7         Meg Lanning          AUS    723\n",
       "8      Shabnim Ismail           SA    717\n",
       "9   Amy Satterthwaite           NZ    715"
      ]
     },
     "execution_count": 101,
     "metadata": {},
     "output_type": "execute_result"
    }
   ],
   "source": [
    "#top 10 women player list as per their rating\n",
    "top10_women_players=top_women_players[:10]\n",
    "\n",
    "top10_women_players"
   ]
  },
  {
   "cell_type": "markdown",
   "metadata": {},
   "source": [
    "# (iii) Top 10 women’s ODI all-rounder along with the records of their team and rating."
   ]
  },
  {
   "cell_type": "code",
   "execution_count": 102,
   "metadata": {},
   "outputs": [
    {
     "data": {
      "text/plain": [
       "[' Ellyse Perry ',\n",
       " ' Stafanie Taylor ',\n",
       " ' Natalie Sciver ',\n",
       " ' Deepti Sharma ',\n",
       " ' Jess Jonassen ',\n",
       " ' Ashleigh Gardner ',\n",
       " ' Dane van Niekerk ',\n",
       " ' Sophie Devine ',\n",
       " ' Amelia Kerr ']"
      ]
     },
     "execution_count": 102,
     "metadata": {},
     "output_type": "execute_result"
    }
   ],
   "source": [
    "#allround players list from 02nd to 10th \n",
    "allround_player_02_10=player[-9:]\n",
    "allround_player_02_10"
   ]
  },
  {
   "cell_type": "code",
   "execution_count": 103,
   "metadata": {},
   "outputs": [
    {
     "data": {
      "text/plain": [
       "['AUS', 'WI', 'ENG', 'IND', 'AUS', 'AUS', 'SA', 'NZ', 'NZ']"
      ]
     },
     "execution_count": 103,
     "metadata": {},
     "output_type": "execute_result"
    }
   ],
   "source": [
    "#allround players country list from 02nd to 10th\n",
    "allround_player_country_02_10=country[-9:]\n",
    "allround_player_country_02_10"
   ]
  },
  {
   "cell_type": "code",
   "execution_count": 104,
   "metadata": {},
   "outputs": [
    {
     "data": {
      "text/plain": [
       "['418', '410', '349', '343', '307', '252', '243', '242', '236']"
      ]
     },
     "execution_count": 104,
     "metadata": {},
     "output_type": "execute_result"
    }
   ],
   "source": [
    "#allround players ratings list from 02nd to 10th\n",
    "allround_player_rating_02_10=rating[-9:]\n",
    "allround_player_rating_02_10"
   ]
  },
  {
   "cell_type": "code",
   "execution_count": 105,
   "metadata": {},
   "outputs": [
    {
     "data": {
      "text/plain": [
       "['Tammy Beaumont', 'Jess Jonassen', 'Marizanne Kapp']"
      ]
     },
     "execution_count": 105,
     "metadata": {},
     "output_type": "execute_result"
    }
   ],
   "source": [
    "top_players"
   ]
  },
  {
   "cell_type": "code",
   "execution_count": 106,
   "metadata": {},
   "outputs": [
    {
     "data": {
      "text/plain": [
       "['Marizanne Kapp']"
      ]
     },
     "execution_count": 106,
     "metadata": {},
     "output_type": "execute_result"
    }
   ],
   "source": [
    "# top allround women player name\n",
    "top_allround_player=top_players[-1:]\n",
    "top_allround_player"
   ]
  },
  {
   "cell_type": "code",
   "execution_count": 107,
   "metadata": {},
   "outputs": [
    {
     "data": {
      "text/plain": [
       "['418']"
      ]
     },
     "execution_count": 107,
     "metadata": {},
     "output_type": "execute_result"
    }
   ],
   "source": [
    "# top allround women player rating\n",
    "top_allround_player_ratings=top_players_ratings[-1:]\n",
    "top_allround_player_ratings"
   ]
  },
  {
   "cell_type": "code",
   "execution_count": 108,
   "metadata": {},
   "outputs": [
    {
     "data": {
      "text/plain": [
       "['  SA 418 ']"
      ]
     },
     "execution_count": 108,
     "metadata": {},
     "output_type": "execute_result"
    }
   ],
   "source": [
    "# top allround women player country\n",
    "top_allround_player_country=top_players_country[-1:]\n",
    "top_allround_player_country"
   ]
  },
  {
   "cell_type": "code",
   "execution_count": 109,
   "metadata": {},
   "outputs": [
    {
     "data": {
      "text/plain": [
       "['Marizanne Kapp',\n",
       " ' Ellyse Perry ',\n",
       " ' Stafanie Taylor ',\n",
       " ' Natalie Sciver ',\n",
       " ' Deepti Sharma ',\n",
       " ' Jess Jonassen ',\n",
       " ' Ashleigh Gardner ',\n",
       " ' Dane van Niekerk ',\n",
       " ' Sophie Devine ',\n",
       " ' Amelia Kerr ']"
      ]
     },
     "execution_count": 109,
     "metadata": {},
     "output_type": "execute_result"
    }
   ],
   "source": [
    "#top 10 allround player name\n",
    "top10_allround_player=top_allround_player + allround_player_02_10\n",
    "top10_allround_player"
   ]
  },
  {
   "cell_type": "code",
   "execution_count": 110,
   "metadata": {},
   "outputs": [
    {
     "data": {
      "text/plain": [
       "['  SA 418 ', 'AUS', 'WI', 'ENG', 'IND', 'AUS', 'AUS', 'SA', 'NZ', 'NZ']"
      ]
     },
     "execution_count": 110,
     "metadata": {},
     "output_type": "execute_result"
    }
   ],
   "source": [
    "# top 10 allround women player country\n",
    "top10_allround_player_country= top_allround_player_country + allround_player_country_02_10\n",
    "top10_allround_player_country"
   ]
  },
  {
   "cell_type": "code",
   "execution_count": 111,
   "metadata": {},
   "outputs": [
    {
     "data": {
      "text/plain": [
       "['418', '418', '410', '349', '343', '307', '252', '243', '242', '236']"
      ]
     },
     "execution_count": 111,
     "metadata": {},
     "output_type": "execute_result"
    }
   ],
   "source": [
    "# top 10 allround women player rating\n",
    "top10_allround_player_rating= top_allround_player_ratings+ allround_player_rating_02_10\n",
    "top10_allround_player_rating"
   ]
  },
  {
   "cell_type": "code",
   "execution_count": 112,
   "metadata": {},
   "outputs": [
    {
     "data": {
      "text/html": [
       "<div>\n",
       "<style scoped>\n",
       "    .dataframe tbody tr th:only-of-type {\n",
       "        vertical-align: middle;\n",
       "    }\n",
       "\n",
       "    .dataframe tbody tr th {\n",
       "        vertical-align: top;\n",
       "    }\n",
       "\n",
       "    .dataframe thead th {\n",
       "        text-align: right;\n",
       "    }\n",
       "</style>\n",
       "<table border=\"1\" class=\"dataframe\">\n",
       "  <thead>\n",
       "    <tr style=\"text-align: right;\">\n",
       "      <th></th>\n",
       "      <th>Player Name</th>\n",
       "      <th>Country</th>\n",
       "      <th>Rating</th>\n",
       "    </tr>\n",
       "  </thead>\n",
       "  <tbody>\n",
       "    <tr>\n",
       "      <th>0</th>\n",
       "      <td>Marizanne Kapp</td>\n",
       "      <td>SA 418</td>\n",
       "      <td>418</td>\n",
       "    </tr>\n",
       "    <tr>\n",
       "      <th>1</th>\n",
       "      <td>Ellyse Perry</td>\n",
       "      <td>AUS</td>\n",
       "      <td>418</td>\n",
       "    </tr>\n",
       "    <tr>\n",
       "      <th>2</th>\n",
       "      <td>Stafanie Taylor</td>\n",
       "      <td>WI</td>\n",
       "      <td>410</td>\n",
       "    </tr>\n",
       "    <tr>\n",
       "      <th>3</th>\n",
       "      <td>Natalie Sciver</td>\n",
       "      <td>ENG</td>\n",
       "      <td>349</td>\n",
       "    </tr>\n",
       "    <tr>\n",
       "      <th>4</th>\n",
       "      <td>Deepti Sharma</td>\n",
       "      <td>IND</td>\n",
       "      <td>343</td>\n",
       "    </tr>\n",
       "    <tr>\n",
       "      <th>5</th>\n",
       "      <td>Jess Jonassen</td>\n",
       "      <td>AUS</td>\n",
       "      <td>307</td>\n",
       "    </tr>\n",
       "    <tr>\n",
       "      <th>6</th>\n",
       "      <td>Ashleigh Gardner</td>\n",
       "      <td>AUS</td>\n",
       "      <td>252</td>\n",
       "    </tr>\n",
       "    <tr>\n",
       "      <th>7</th>\n",
       "      <td>Dane van Niekerk</td>\n",
       "      <td>SA</td>\n",
       "      <td>243</td>\n",
       "    </tr>\n",
       "    <tr>\n",
       "      <th>8</th>\n",
       "      <td>Sophie Devine</td>\n",
       "      <td>NZ</td>\n",
       "      <td>242</td>\n",
       "    </tr>\n",
       "    <tr>\n",
       "      <th>9</th>\n",
       "      <td>Amelia Kerr</td>\n",
       "      <td>NZ</td>\n",
       "      <td>236</td>\n",
       "    </tr>\n",
       "  </tbody>\n",
       "</table>\n",
       "</div>"
      ],
      "text/plain": [
       "          Player Name    Country Rating\n",
       "0      Marizanne Kapp    SA 418     418\n",
       "1       Ellyse Perry         AUS    418\n",
       "2    Stafanie Taylor          WI    410\n",
       "3     Natalie Sciver         ENG    349\n",
       "4      Deepti Sharma         IND    343\n",
       "5      Jess Jonassen         AUS    307\n",
       "6   Ashleigh Gardner         AUS    252\n",
       "7   Dane van Niekerk          SA    243\n",
       "8      Sophie Devine          NZ    242\n",
       "9        Amelia Kerr          NZ    236"
      ]
     },
     "execution_count": 112,
     "metadata": {},
     "output_type": "execute_result"
    }
   ],
   "source": [
    "#creating top 10 allround players dataframe with their country name and rating\n",
    "women_allrounder_players=pd.DataFrame({})\n",
    "women_allrounder_players['Player Name']=top10_allround_player\n",
    "women_allrounder_players['Country']=top10_allround_player_country\n",
    "women_allrounder_players['Rating']=top10_allround_player_rating\n",
    "women_allrounder_players"
   ]
  },
  {
   "cell_type": "markdown",
   "metadata": {},
   "source": [
    "# 7. Write a python program to scrape details of all the mobile phones under Rs. 20,000 listed on Amazon.in. The scraped data should include Product Name, Price, Image URL and Average Rating."
   ]
  },
  {
   "cell_type": "code",
   "execution_count": 113,
   "metadata": {},
   "outputs": [
    {
     "data": {
      "text/plain": [
       "<Response [200]>"
      ]
     },
     "execution_count": 113,
     "metadata": {},
     "output_type": "execute_result"
    }
   ],
   "source": [
    "# #checking site response for scraping\n",
    "page=requests.get('https://www.amazon.in/s?k=mobile+under+20000&bbn=12805340031&rh=p_36%3A-2000000&dc&qid=1623241122&rnid=1318483031&ref=sr_nr_p_n_availability_2')\n",
    "page"
   ]
  },
  {
   "cell_type": "markdown",
   "metadata": {},
   "source": [
    "tried several times but most of the time geting response 503\n",
    "\n",
    "still try to creat dataframe"
   ]
  },
  {
   "cell_type": "code",
   "execution_count": 114,
   "metadata": {},
   "outputs": [],
   "source": [
    "soup=BeautifulSoup(page.content, 'html.parser')"
   ]
  },
  {
   "cell_type": "code",
   "execution_count": null,
   "metadata": {},
   "outputs": [],
   "source": [
    "mobile=soup.find_all('span', class_=\"a-size-medium a-color-base a-text-normal\")\n",
    "mobile"
   ]
  },
  {
   "cell_type": "code",
   "execution_count": null,
   "metadata": {},
   "outputs": [],
   "source": [
    "mobile_name=[] #empty list\n",
    "for i in mobile:\n",
    "    mobile_name.append(i.text.replace('\\n',\"\"))\n",
    "mobile_name"
   ]
  },
  {
   "cell_type": "code",
   "execution_count": null,
   "metadata": {},
   "outputs": [],
   "source": [
    "url_tags=soup.find_all('li', class_=\"a-normal\")\n",
    "urls=[] #empty list\n",
    "for i in url_tags:\n",
    "    for j in i.find_all(\"a\"):\n",
    "            urls.append(j['href'])\n",
    "urls"
   ]
  },
  {
   "cell_type": "code",
   "execution_count": 125,
   "metadata": {},
   "outputs": [],
   "source": [
    "#empty list\n",
    "for url in urls:\n",
    "    mobile1=requests.get('https://www.amazon.in/'+url)\n",
    "    soup1=BeautifulSoup(mobile1.content,'html.parser')\n",
    "    name=soup1.find_all('a',class_=\"a-link-normal a-text-normal\") #scrape boosk name\n",
    "\n",
    "moblie_name1=[]  #empty list\n",
    "for i in name:\n",
    "    mobile_name1.append(i.text.replace('\\n',\"\"))\n",
    "\n"
   ]
  },
  {
   "cell_type": "code",
   "execution_count": null,
   "metadata": {},
   "outputs": [],
   "source": [
    "mobile_name1"
   ]
  },
  {
   "cell_type": "code",
   "execution_count": null,
   "metadata": {},
   "outputs": [],
   "source": [
    "mobile_amazon=mobile_name + mobile_name1"
   ]
  },
  {
   "cell_type": "code",
   "execution_count": null,
   "metadata": {},
   "outputs": [],
   "source": [
    "price1=soup.find_all('span', class_=\"a-price-whole\")\n",
    "\n",
    "mobile_price1=[] #empty list\n",
    "for i in price1:\n",
    "    mobile_price1.append(i.text.replace('\\n',\"\"))\n",
    "mobile_price1"
   ]
  },
  {
   "cell_type": "code",
   "execution_count": null,
   "metadata": {},
   "outputs": [],
   "source": [
    "price2=soup1.find_all('span',class_=\"a-price-whole\")\n",
    "\n",
    "mobile_price2=[] #empty list\n",
    "for i in price2:\n",
    "    mobile_price2.append(i.text.replace('\\n',\"\"))\n",
    "mobile_price2"
   ]
  },
  {
   "cell_type": "code",
   "execution_count": null,
   "metadata": {},
   "outputs": [],
   "source": [
    "mobile_price= mobile_price1 +mobile_price2\n"
   ]
  },
  {
   "cell_type": "code",
   "execution_count": null,
   "metadata": {},
   "outputs": [],
   "source": [
    "rating1=soup.find_all('span', class_=\"a-popover-trigger a-declarative\")\n",
    "\n",
    "mobile_rating1=[] #empty list\n",
    "for i in rating1:\n",
    "    mobile_rating1.append(i.text.replace('\\n',\"\"))\n",
    "mobile_rating1"
   ]
  },
  {
   "cell_type": "code",
   "execution_count": null,
   "metadata": {},
   "outputs": [],
   "source": [
    "rating2=soup1.find_all('span',class_=\"a-popover-trigger a-declarative\")\n",
    "\n",
    "mobile_rating2=[] #empty list\n",
    "for i in rating2:\n",
    "    mobile_rating2.append(i.text.replace('\\n',\"\"))\n",
    "mobile_rating2"
   ]
  },
  {
   "cell_type": "code",
   "execution_count": null,
   "metadata": {},
   "outputs": [],
   "source": [
    "mobile_rating= mobile_rating1 + mobile_rating2"
   ]
  },
  {
   "cell_type": "code",
   "execution_count": null,
   "metadata": {},
   "outputs": [],
   "source": [
    "url_img1=soup.find_all('img', class_=\"s-image\")\n",
    "imgs1=[] #empty list\n",
    "for i in url_img1:\n",
    "    for j in i.find_all(\"img\"):\n",
    "            imgs1.append(j['src'])\n",
    "imgs1"
   ]
  },
  {
   "cell_type": "code",
   "execution_count": null,
   "metadata": {},
   "outputs": [],
   "source": [
    "url_img2=soup1.find_all('img', class_=\"s-image\")\n",
    "imgs2=[] #empty list\n",
    "for i in url_img2:\n",
    "    for j in i.find_all(\"img\"):\n",
    "            imgs2.append(j['src'])\n",
    "imgs2"
   ]
  },
  {
   "cell_type": "code",
   "execution_count": null,
   "metadata": {},
   "outputs": [],
   "source": [
    "mobile_img=imgs1 + imgs2"
   ]
  },
  {
   "cell_type": "code",
   "execution_count": null,
   "metadata": {},
   "outputs": [],
   "source": [
    "print(len(mobile_amazon), len (mobile_price), len(mobile_rating), len(mobile_img))"
   ]
  },
  {
   "cell_type": "code",
   "execution_count": null,
   "metadata": {},
   "outputs": [],
   "source": [
    "#creating datafram to create a list of mobiles_amazon, mobiles_price, mobiles_rating and mobiles_img\n",
    "\n",
    "Mobiles_detail=pd.DataFrame({})\n",
    "Mobiles_detail['Mobile Name']=mobile_amazon\n",
    "Mobiles_detail['Mobile Price']=mobiles_price\n",
    "Mobiles_detail['Mobile Rating']=mobiles_rating\n",
    "Mobiles_detail['Image ']=mobiles_img\n"
   ]
  },
  {
   "cell_type": "code",
   "execution_count": null,
   "metadata": {},
   "outputs": [],
   "source": [
    "Mobiles_detail"
   ]
  },
  {
   "cell_type": "markdown",
   "metadata": {},
   "source": [
    "# 8.Write a python program to extract information about the local weather from the National Weather Service\n",
    "website of USA, https://www.weather.gov/ for the city, San Francisco. You need to extract data about 7 day\n",
    "extended forecast display for the city. The data should include period, short description, temperature and\n",
    "description. "
   ]
  },
  {
   "cell_type": "code",
   "execution_count": 128,
   "metadata": {},
   "outputs": [
    {
     "data": {
      "text/plain": [
       "<Response [200]>"
      ]
     },
     "execution_count": 128,
     "metadata": {},
     "output_type": "execute_result"
    }
   ],
   "source": [
    "page=requests.get('https://forecast.weather.gov/MapClick.php?w0=t&w1=td&w2=hi&w3=sfcwind&w4=sky&w5=pop&w6=rh&w7=rain&w8=thunder&AheadHour=96&FcstType=text&textField1=37.7771&textField2=-122.4196&site=all#.YLtP-tVKjIU')\n",
    "page\n"
   ]
  },
  {
   "cell_type": "code",
   "execution_count": 129,
   "metadata": {},
   "outputs": [],
   "source": [
    "soup=BeautifulSoup(page.content, 'html.parser')\n"
   ]
  },
  {
   "cell_type": "code",
   "execution_count": 130,
   "metadata": {},
   "outputs": [
    {
     "data": {
      "text/plain": [
       "['Today',\n",
       " 'Tonight',\n",
       " 'Friday',\n",
       " 'Friday Night',\n",
       " 'Saturday',\n",
       " 'Saturday Night',\n",
       " 'Sunday',\n",
       " 'Sunday Night',\n",
       " 'Monday',\n",
       " 'Monday Night',\n",
       " 'Tuesday',\n",
       " 'Tuesday Night',\n",
       " 'Wednesday']"
      ]
     },
     "execution_count": 130,
     "metadata": {},
     "output_type": "execute_result"
    }
   ],
   "source": [
    "#Creating a list of 7 day extended forecast by for loop\n",
    "period=soup.find_all('div',class_='col-sm-2 forecast-label') #scrape 7 day extended forecast period\n",
    "w_period=[] #empty list\n",
    "for i in period:\n",
    "    w_period.append(i.text.replace('\\n',\"\"))\n",
    "w_period"
   ]
  },
  {
   "cell_type": "code",
   "execution_count": 131,
   "metadata": {},
   "outputs": [
    {
     "data": {
      "text/plain": [
       "['Sunny thenSunny andBreezy',\n",
       " 'Partly Cloudyand Breezythen MostlyCloudy',\n",
       " 'DecreasingClouds',\n",
       " 'Partly Cloudy',\n",
       " 'Mostly Sunnythen Sunnyand Breezy',\n",
       " 'Partly Cloudyand Breezythen MostlyCloudy',\n",
       " 'Partly Sunny',\n",
       " 'Mostly Cloudy',\n",
       " 'Mostly Sunny']"
      ]
     },
     "execution_count": 131,
     "metadata": {},
     "output_type": "execute_result"
    }
   ],
   "source": [
    "#Creating a list of 7 day extended forecast short description by for loop\n",
    "sd=soup.find_all('p',class_='short-desc') #scrape 7 day extended forecast short description\n",
    "short_description=[] #empty list\n",
    "for i in sd:\n",
    "        short_description.append(i.text.replace('\\n',\"\"))\n",
    "short_description"
   ]
  },
  {
   "cell_type": "code",
   "execution_count": 132,
   "metadata": {},
   "outputs": [
    {
     "data": {
      "text/plain": [
       "['High: 63 °F', 'High: 65 °F', 'High: 69 °F', 'High: 68 °F', 'High: 69 °F']"
      ]
     },
     "execution_count": 132,
     "metadata": {},
     "output_type": "execute_result"
    }
   ],
   "source": [
    "#Creating a list of 7 day extended forecast high temperature by for loop\n",
    "temp_high=soup.find_all('p',class_='temp temp-high') #scrape 7 day extended forecast high temperature\n",
    "w_temp=[] #empty list\n",
    "for i in temp_high:\n",
    "    w_temp.append(i.text.replace('\\n',\"\"))\n",
    "w_temp"
   ]
  },
  {
   "cell_type": "code",
   "execution_count": 133,
   "metadata": {},
   "outputs": [
    {
     "data": {
      "text/plain": [
       "['Low: 51 °F', 'Low: 56 °F', 'Low: 57 °F', 'Low: 57 °F']"
      ]
     },
     "execution_count": 133,
     "metadata": {},
     "output_type": "execute_result"
    }
   ],
   "source": [
    "#Creating a list of 7 day extended forecast low temperature by for loop\n",
    "temp_low=soup.find_all('p',class_='temp temp-low') #scrape 7 day extended forecast low temperature\n",
    "w_temp=[] #empty list\n",
    "for i in temp_low:\n",
    "    w_temp.append(i.text.replace('\\n',\"\"))\n",
    "w_temp"
   ]
  },
  {
   "cell_type": "code",
   "execution_count": 134,
   "metadata": {},
   "outputs": [
    {
     "data": {
      "text/plain": [
       "['Partly sunny, then gradually becoming sunny, with a high near 63. Breezy, with a west wind 9 to 14 mph increasing to 19 to 24 mph in the afternoon. Winds could gust as high as 31 mph. ',\n",
       " 'Partly cloudy, with a low around 51. Breezy, with a west wind 15 to 22 mph, with gusts as high as 29 mph. ',\n",
       " 'Mostly cloudy, then gradually becoming sunny, with a high near 65. West wind 9 to 18 mph, with gusts as high as 24 mph. ',\n",
       " 'Partly cloudy, with a low around 56. West wind 15 to 20 mph decreasing to 9 to 14 mph after midnight. Winds could gust as high as 25 mph. ',\n",
       " 'Mostly sunny, with a high near 69. Breezy, with a west wind 7 to 12 mph increasing to 17 to 22 mph in the afternoon. Winds could gust as high as 29 mph. ',\n",
       " 'Mostly cloudy, with a low around 57. Breezy. ',\n",
       " 'Partly sunny, with a high near 68.',\n",
       " 'Mostly cloudy, with a low around 57.',\n",
       " 'Mostly sunny, with a high near 69.',\n",
       " 'Partly cloudy, with a low around 54.',\n",
       " 'Sunny, with a high near 70.',\n",
       " 'Mostly clear, with a low around 54.',\n",
       " 'Sunny, with a high near 74.']"
      ]
     },
     "execution_count": 134,
     "metadata": {},
     "output_type": "execute_result"
    }
   ],
   "source": [
    "#Creating a list of 7 day extended forecast description by for loop\n",
    "des=soup.find_all('div',class_='col-sm-10 forecast-text') #scrape 7 day extended forecast description\n",
    "w_des=[] #empty list\n",
    "for i in des:\n",
    "    w_des.append(i.text.replace('\\n',\"\"))\n",
    "w_des"
   ]
  },
  {
   "cell_type": "code",
   "execution_count": 135,
   "metadata": {},
   "outputs": [
    {
     "name": "stdout",
     "output_type": "stream",
     "text": [
      "13 9 5 4 13\n"
     ]
    }
   ],
   "source": [
    "print(len(period),len(sd),len(temp_high),len(temp_low),len(des))"
   ]
  },
  {
   "cell_type": "markdown",
   "metadata": {},
   "source": [
    "As here lenght of columns are not equal but i tried to resolved but it did not, so i create a table of same length columns"
   ]
  },
  {
   "cell_type": "code",
   "execution_count": 136,
   "metadata": {},
   "outputs": [],
   "source": [
    "Weather_detail=pd.DataFrame({})\n",
    "Weather_detail['Period']=period\n",
    "\n",
    "Weather_detail['Description ']=des\n"
   ]
  },
  {
   "cell_type": "code",
   "execution_count": 137,
   "metadata": {},
   "outputs": [
    {
     "data": {
      "text/html": [
       "<div>\n",
       "<style scoped>\n",
       "    .dataframe tbody tr th:only-of-type {\n",
       "        vertical-align: middle;\n",
       "    }\n",
       "\n",
       "    .dataframe tbody tr th {\n",
       "        vertical-align: top;\n",
       "    }\n",
       "\n",
       "    .dataframe thead th {\n",
       "        text-align: right;\n",
       "    }\n",
       "</style>\n",
       "<table border=\"1\" class=\"dataframe\">\n",
       "  <thead>\n",
       "    <tr style=\"text-align: right;\">\n",
       "      <th></th>\n",
       "      <th>Period</th>\n",
       "      <th>Description</th>\n",
       "    </tr>\n",
       "  </thead>\n",
       "  <tbody>\n",
       "    <tr>\n",
       "      <th>0</th>\n",
       "      <td>[[Today]]</td>\n",
       "      <td>[Partly sunny, then gradually becoming sunny, ...</td>\n",
       "    </tr>\n",
       "    <tr>\n",
       "      <th>1</th>\n",
       "      <td>[[Tonight]]</td>\n",
       "      <td>[Partly cloudy, with a low around 51. Breezy, ...</td>\n",
       "    </tr>\n",
       "    <tr>\n",
       "      <th>2</th>\n",
       "      <td>[[Friday]]</td>\n",
       "      <td>[Mostly cloudy, then gradually becoming sunny,...</td>\n",
       "    </tr>\n",
       "    <tr>\n",
       "      <th>3</th>\n",
       "      <td>[[Friday Night]]</td>\n",
       "      <td>[Partly cloudy, with a low around 56. West win...</td>\n",
       "    </tr>\n",
       "    <tr>\n",
       "      <th>4</th>\n",
       "      <td>[[Saturday]]</td>\n",
       "      <td>[Mostly sunny, with a high near 69. Breezy, wi...</td>\n",
       "    </tr>\n",
       "    <tr>\n",
       "      <th>5</th>\n",
       "      <td>[[Saturday Night]]</td>\n",
       "      <td>[Mostly cloudy, with a low around 57. Breezy. ]</td>\n",
       "    </tr>\n",
       "    <tr>\n",
       "      <th>6</th>\n",
       "      <td>[[Sunday]]</td>\n",
       "      <td>[Partly sunny, with a high near 68.]</td>\n",
       "    </tr>\n",
       "    <tr>\n",
       "      <th>7</th>\n",
       "      <td>[[Sunday Night]]</td>\n",
       "      <td>[Mostly cloudy, with a low around 57.]</td>\n",
       "    </tr>\n",
       "    <tr>\n",
       "      <th>8</th>\n",
       "      <td>[[Monday]]</td>\n",
       "      <td>[Mostly sunny, with a high near 69.]</td>\n",
       "    </tr>\n",
       "    <tr>\n",
       "      <th>9</th>\n",
       "      <td>[[Monday Night]]</td>\n",
       "      <td>[Partly cloudy, with a low around 54.]</td>\n",
       "    </tr>\n",
       "    <tr>\n",
       "      <th>10</th>\n",
       "      <td>[[Tuesday]]</td>\n",
       "      <td>[Sunny, with a high near 70.]</td>\n",
       "    </tr>\n",
       "    <tr>\n",
       "      <th>11</th>\n",
       "      <td>[[Tuesday Night]]</td>\n",
       "      <td>[Mostly clear, with a low around 54.]</td>\n",
       "    </tr>\n",
       "    <tr>\n",
       "      <th>12</th>\n",
       "      <td>[[Wednesday]]</td>\n",
       "      <td>[Sunny, with a high near 74.]</td>\n",
       "    </tr>\n",
       "  </tbody>\n",
       "</table>\n",
       "</div>"
      ],
      "text/plain": [
       "                Period                                       Description \n",
       "0            [[Today]]  [Partly sunny, then gradually becoming sunny, ...\n",
       "1          [[Tonight]]  [Partly cloudy, with a low around 51. Breezy, ...\n",
       "2           [[Friday]]  [Mostly cloudy, then gradually becoming sunny,...\n",
       "3     [[Friday Night]]  [Partly cloudy, with a low around 56. West win...\n",
       "4         [[Saturday]]  [Mostly sunny, with a high near 69. Breezy, wi...\n",
       "5   [[Saturday Night]]    [Mostly cloudy, with a low around 57. Breezy. ]\n",
       "6           [[Sunday]]               [Partly sunny, with a high near 68.]\n",
       "7     [[Sunday Night]]             [Mostly cloudy, with a low around 57.]\n",
       "8           [[Monday]]               [Mostly sunny, with a high near 69.]\n",
       "9     [[Monday Night]]             [Partly cloudy, with a low around 54.]\n",
       "10         [[Tuesday]]                      [Sunny, with a high near 70.]\n",
       "11   [[Tuesday Night]]              [Mostly clear, with a low around 54.]\n",
       "12       [[Wednesday]]                      [Sunny, with a high near 74.]"
      ]
     },
     "execution_count": 137,
     "metadata": {},
     "output_type": "execute_result"
    }
   ],
   "source": [
    "Weather_detail"
   ]
  },
  {
   "cell_type": "markdown",
   "metadata": {},
   "source": [
    "# 9.Write a python program to scrape fresher job listings from ‘https://internshala.com/’. It should include job title,\n",
    "company name, CTC, and apply date."
   ]
  },
  {
   "cell_type": "code",
   "execution_count": 138,
   "metadata": {},
   "outputs": [
    {
     "data": {
      "text/plain": [
       "<Response [200]>"
      ]
     },
     "execution_count": 138,
     "metadata": {},
     "output_type": "execute_result"
    }
   ],
   "source": [
    "#checked the site response for scraping\n",
    "page=requests.get(\"https://internshala.com/fresher-jobs/\")\n",
    "page"
   ]
  },
  {
   "cell_type": "markdown",
   "metadata": {},
   "source": [
    "we get response [200] so we can scrap"
   ]
  },
  {
   "cell_type": "code",
   "execution_count": 139,
   "metadata": {},
   "outputs": [],
   "source": [
    "soup=BeautifulSoup(page.content, \"html.parser\")"
   ]
  },
  {
   "cell_type": "code",
   "execution_count": 140,
   "metadata": {},
   "outputs": [
    {
     "data": {
      "text/plain": [
       "['Junior MERN STack Developer ',\n",
       " 'Education Innovation Manager ',\n",
       " 'General Management Associate ',\n",
       " 'Content & E-commerce Management Trainee ',\n",
       " 'Software Engineer ',\n",
       " 'Sales Support & Operations Executive ',\n",
       " 'Backend Developer ',\n",
       " 'Accountant ',\n",
       " 'Business Development (Sales) Associate ',\n",
       " 'Corporate Sales Associate ',\n",
       " 'Sales Executive - Mobile/Electronics ',\n",
       " 'Reactjs Developer ',\n",
       " 'Software Engineer ',\n",
       " 'PHP & LARAVEL DEVELOPER ',\n",
       " 'Backend Developer (Ruby On Rails) ',\n",
       " 'Customer Service Specialist ',\n",
       " 'Graphic Designer ',\n",
       " 'Digital Marketing Specialist ',\n",
       " 'Junior Corporate Sales Executive ',\n",
       " 'Backend Developer ',\n",
       " 'Junior Operations Executive ',\n",
       " 'Internal Audit Associate ',\n",
       " 'Business Marketing Manager ',\n",
       " 'React Native Developer ',\n",
       " 'Research And Communications Associate ',\n",
       " 'Data Scientist ',\n",
       " 'Data Science Django Developer ',\n",
       " 'Corporate Sales Associate ',\n",
       " 'Full Stack Developer ',\n",
       " 'Full Stack Developer (MERN) ',\n",
       " 'Business Development Executive ',\n",
       " 'Sales Development Representative ',\n",
       " 'Graphic Designer ',\n",
       " 'Operations Executive ',\n",
       " 'Business Development Executive ',\n",
       " 'Admission Counselor (Sales) ',\n",
       " 'Sales And Business Development Analyst ',\n",
       " 'Growth Hacking Digital Marketer ',\n",
       " 'Junior Node.js Developer ',\n",
       " 'Junior Digital Marketing Executive ']"
      ]
     },
     "execution_count": 140,
     "metadata": {},
     "output_type": "execute_result"
    }
   ],
   "source": [
    "#Creating a list of fresher job by for loop\n",
    "job_title=soup.find_all(\"div\",class_=\"heading_4_5 profile\") \n",
    "title=[] #empty list\n",
    "for i in job_title:\n",
    "    title.append(i.text.replace(\"\\n\",\"\"))\n",
    "title"
   ]
  },
  {
   "cell_type": "code",
   "execution_count": 141,
   "metadata": {},
   "outputs": [
    {
     "data": {
      "text/plain": [
       "['                        DeepThought Edutech Ventures Private Limited                    ',\n",
       " '                        DeepThought Edutech Ventures Private Limited                    ',\n",
       " '                        Redwood Algorithms                    ',\n",
       " '                        Blooprint Ecom Consulting                    ',\n",
       " '                        QuikieApps                    ',\n",
       " '                        SysCloud Technologies Private Limited                    ',\n",
       " '                        Medcords Healthcare Solution Private Limited                    ',\n",
       " '                        Bagga Infrastructure Limited                    ',\n",
       " '                        Exploring Infinities Edtech Private Limited                    ',\n",
       " '                        Best Roadways Limited                    ',\n",
       " '                        iShopAtoZ                    ',\n",
       " '                        The Tech Bridge                    ',\n",
       " '                        SalaryBox                    ',\n",
       " '                        Nyx Wolves                    ',\n",
       " '                        Wollfish Labs Private Limited                    ',\n",
       " '                        Wono Inc                    ',\n",
       " '                        Wono Inc                    ',\n",
       " '                        Wono Inc                    ',\n",
       " '                        Wyntem                    ',\n",
       " '                        HomeJam                    ',\n",
       " '                        NCTI LLP                    ',\n",
       " '                        Global Group                    ',\n",
       " '                        MentorBoxx                    ',\n",
       " '                        Runners Planet                    ',\n",
       " '                        Institute For Governance, Policies & Politics                    ',\n",
       " '                        ProtonAutoML                    ',\n",
       " '                        Markytics                    ',\n",
       " '                        MiM-Essay                    ',\n",
       " '                        Wondermail                    ',\n",
       " '                        Project Tinker                    ',\n",
       " '                        Kaizen Academy                    ',\n",
       " '                        Amigobulls                    ',\n",
       " '                        Underground Movement LLP                    ',\n",
       " '                        Alphacore Technologies Private Limited                    ',\n",
       " '                        Ruhcom Enterprises Private Limited                    ',\n",
       " '                        Sky Education Group                    ',\n",
       " \"                        Mo's F&B Group                    \",\n",
       " '                        Sleep Love                    ',\n",
       " '                        Askadmissions.ai                    ',\n",
       " '                        Krivy                    ']"
      ]
     },
     "execution_count": 141,
     "metadata": {},
     "output_type": "execute_result"
    }
   ],
   "source": [
    "#Creating a list of fresher job ctc by for loop\n",
    "comp_name=soup.find_all(\"a\",class_=\"link_display_like_text\") \n",
    "comp=[] #empty list\n",
    "for i in comp_name:\n",
    "    comp.append(i.text.replace(\"\\n\",\"\"))\n",
    "comp"
   ]
  },
  {
   "cell_type": "code",
   "execution_count": 142,
   "metadata": {},
   "outputs": [
    {
     "data": {
      "text/plain": [
       "['                                Start date                            Starts\\xa0Immediately                        ',\n",
       " 'CTC  3 - 5 LPA                                                    ',\n",
       " \"Apply By10 Jul' 21\",\n",
       " '                                Start date                            Starts\\xa0Immediately                        ',\n",
       " 'CTC  3 - 5 LPA                                                    ',\n",
       " \"Apply By10 Jul' 21\",\n",
       " '                                Start date                            Starts\\xa0Immediately                        ',\n",
       " 'CTC  4 - 5 LPA                                                    ',\n",
       " \"Apply By10 Jul' 21\",\n",
       " '                                Start date                            Starts\\xa0Immediately                        ',\n",
       " 'CTC  3 LPA                                                    ',\n",
       " \"Apply By9 Jul' 21\",\n",
       " '                                Start date                            Starts\\xa0Immediately                        ',\n",
       " 'CTC  3 - 4 LPA                                                    ',\n",
       " \"Apply By9 Jul' 21\",\n",
       " '                                Start date                            Starts\\xa0Immediately                        ',\n",
       " 'CTC  3 - 3.01 LPA                                                    ',\n",
       " \"Apply By9 Jul' 21\",\n",
       " '                                Start date                            Starts\\xa0Immediately                        ',\n",
       " 'CTC  3 - 7 LPA                                                    ',\n",
       " \"Apply By9 Jul' 21\",\n",
       " '                                Start date                            Starts\\xa0Immediately                        ',\n",
       " 'CTC  3 - 3.25 LPA                                                    ',\n",
       " \"Apply By8 Jul' 21\",\n",
       " '                                Start date                            Starts\\xa0Immediately                        ',\n",
       " 'CTC  3 - 4 LPA                                                    ',\n",
       " \"Apply By8 Jul' 21\",\n",
       " '                                Start date                            Starts\\xa0Immediately                        ',\n",
       " 'CTC  3 LPA                                                    ',\n",
       " \"Apply By7 Jul' 21\",\n",
       " '                                Start date                            Starts\\xa0Immediately                        ',\n",
       " 'CTC  3 - 6 LPA                                                    ',\n",
       " \"Apply By7 Jul' 21\",\n",
       " '                                Start date                            Starts\\xa0Immediately                        ',\n",
       " 'CTC  3 LPA                                                    ',\n",
       " \"Apply By7 Jul' 21\",\n",
       " '                                Start date                            Starts\\xa0Immediately                        ',\n",
       " 'CTC  5 - 15 LPA                                                    ',\n",
       " \"Apply By7 Jul' 21\",\n",
       " '                                Start date                            Starts\\xa0Immediately                        ',\n",
       " 'CTC  3 - 3.05 LPA                                                    ',\n",
       " \"Apply By4 Jul' 21\",\n",
       " '                                Start date                            Starts\\xa0Immediately                        ',\n",
       " 'CTC  6 - 8 LPA                                                    ',\n",
       " \"Apply By4 Jul' 21\",\n",
       " '                                Start date                            Starts\\xa0Immediately                        ',\n",
       " 'CTC  5.2 - 6.4 LPA                                                    ',\n",
       " \"Apply By3 Jul' 21\",\n",
       " '                                Start date                            Starts\\xa0Immediately                        ',\n",
       " 'CTC  5 - 6.5 LPA                                                    ',\n",
       " \"Apply By3 Jul' 21\",\n",
       " '                                Start date                            Starts\\xa0Immediately                        ',\n",
       " 'CTC  5 - 6.5 LPA                                                    ',\n",
       " \"Apply By3 Jul' 21\",\n",
       " '                                Start date                            Starts\\xa0Immediately                        ',\n",
       " 'CTC  3 - 3.5 LPA                                                    ',\n",
       " \"Apply By3 Jul' 21\",\n",
       " '                                Start date                            Starts\\xa0Immediately                        ',\n",
       " 'CTC  7 - 8.5 LPA                                                    ',\n",
       " \"Apply By3 Jul' 21\",\n",
       " '                                Start date                            Starts\\xa0Immediately                        ',\n",
       " 'CTC  3 - 3.6 LPA                                                    ',\n",
       " \"Apply By3 Jul' 21\",\n",
       " '                                Start date                            Starts\\xa0Immediately                        ',\n",
       " 'CTC  4.8 - 6 LPA                                                    ',\n",
       " \"Apply By3 Jul' 21\",\n",
       " '                                Start date                            Starts\\xa0Immediately                        ',\n",
       " 'CTC  4 - 8.5 LPA                                                    ',\n",
       " \"Apply By3 Jul' 21\",\n",
       " '                                Start date                            Starts\\xa0Immediately                        ',\n",
       " 'CTC  6.62 - 7.95 LPA                                                    ',\n",
       " \"Apply By3 Jul' 21\",\n",
       " '                                Start date                            Starts\\xa0Immediately                        ',\n",
       " 'CTC  3 - 4.5 LPA                                                    ',\n",
       " \"Apply By3 Jul' 21\",\n",
       " '                                Start date                            Starts\\xa0Immediately                        ',\n",
       " 'CTC  3 - 3.5 LPA                                                    ',\n",
       " \"Apply By2 Jul' 21\",\n",
       " '                                Start date                            Starts\\xa0Immediately                        ',\n",
       " 'CTC  3 - 4.5 LPA                                                    ',\n",
       " \"Apply By2 Jul' 21\",\n",
       " '                                Start date                            Starts\\xa0Immediately                        ',\n",
       " 'CTC  5 - 6.5 LPA                                                    ',\n",
       " \"Apply By2 Jul' 21\",\n",
       " '                                Start date                            Starts\\xa0Immediately                        ',\n",
       " 'CTC  4 - 7 LPA                                                    ',\n",
       " \"Apply By1 Jul' 21\",\n",
       " '                                Start date                            Starts\\xa0Immediately                        ',\n",
       " 'CTC  4 - 7.2 LPA                                                    ',\n",
       " \"Apply By3 Jul' 21\",\n",
       " '                                Start date                            Starts\\xa0Immediately                        ',\n",
       " 'CTC  4.5 - 6 LPA                                                    ',\n",
       " \"Apply By1 Jul' 21\",\n",
       " '                                Start date                            Starts\\xa0Immediately                        ',\n",
       " 'CTC  5.5 - 6.5 LPA                                                    ',\n",
       " \"Apply By1 Jul' 21\",\n",
       " '                                Start date                            Starts\\xa0Immediately                        ',\n",
       " 'CTC  3 - 5 LPA                                                    ',\n",
       " \"Apply By1 Jul' 21\",\n",
       " '                                Start date                            Starts\\xa0Immediately                        ',\n",
       " 'CTC  3 - 3.5 LPA                                                    ',\n",
       " \"Apply By1 Jul' 21\",\n",
       " '                                Start date                            Starts\\xa0Immediately                        ',\n",
       " 'CTC  3 LPA                                                    ',\n",
       " \"Apply By1 Jul' 21\",\n",
       " '                                Start date                            Starts\\xa0Immediately                        ',\n",
       " 'CTC  3 LPA                                                    ',\n",
       " \"Apply By30 Jun' 21\",\n",
       " '                                Start date                            Starts\\xa0Immediately                        ',\n",
       " 'CTC  3 - 3.1 LPA                                                    ',\n",
       " \"Apply By30 Jun' 21\",\n",
       " '                                Start date                            Starts\\xa0Immediately                        ',\n",
       " 'CTC  3 - 3.5 LPA                                                    ',\n",
       " \"Apply By3 Jul' 21\",\n",
       " '                                Start date                            Starts\\xa0Immediately                        ',\n",
       " 'CTC  3 - 4 LPA                                                    ',\n",
       " \"Apply By30 Jun' 21\",\n",
       " '                                Start date                            Starts\\xa0Immediately                        ',\n",
       " 'CTC  3 LPA                                                    ',\n",
       " \"Apply By30 Jun' 21\"]"
      ]
     },
     "execution_count": 142,
     "metadata": {},
     "output_type": "execute_result"
    }
   ],
   "source": [
    "#Creating a list of fresher job ctc by for loop\n",
    "job_ctc=soup.find_all(\"div\",class_=\"other_detail_item\") \n",
    "ctc=[] #empty list\n",
    "for i in job_ctc:\n",
    "    ctc.append(i.text.replace(\"\\n\",\"\"))\n",
    "ctc"
   ]
  },
  {
   "cell_type": "code",
   "execution_count": 143,
   "metadata": {},
   "outputs": [
    {
     "name": "stdout",
     "output_type": "stream",
     "text": [
      "CTC & apply date:  ['CTC  3 - 5 LPA                                                    ', \"Apply By10 Jul' 21\", 'CTC  3 - 5 LPA                                                    ', \"Apply By10 Jul' 21\", 'CTC  4 - 5 LPA                                                    ', \"Apply By10 Jul' 21\", 'CTC  3 LPA                                                    ', \"Apply By9 Jul' 21\", 'CTC  3 - 4 LPA                                                    ', \"Apply By9 Jul' 21\", 'CTC  3 - 3.01 LPA                                                    ', \"Apply By9 Jul' 21\", 'CTC  3 - 7 LPA                                                    ', \"Apply By9 Jul' 21\", 'CTC  3 - 3.25 LPA                                                    ', \"Apply By8 Jul' 21\", 'CTC  3 - 4 LPA                                                    ', \"Apply By8 Jul' 21\", 'CTC  3 LPA                                                    ', \"Apply By7 Jul' 21\", 'CTC  3 - 6 LPA                                                    ', \"Apply By7 Jul' 21\", 'CTC  3 LPA                                                    ', \"Apply By7 Jul' 21\", 'CTC  5 - 15 LPA                                                    ', \"Apply By7 Jul' 21\", 'CTC  3 - 3.05 LPA                                                    ', \"Apply By4 Jul' 21\", 'CTC  6 - 8 LPA                                                    ', \"Apply By4 Jul' 21\", 'CTC  5.2 - 6.4 LPA                                                    ', \"Apply By3 Jul' 21\", 'CTC  5 - 6.5 LPA                                                    ', \"Apply By3 Jul' 21\", 'CTC  5 - 6.5 LPA                                                    ', \"Apply By3 Jul' 21\", 'CTC  3 - 3.5 LPA                                                    ', \"Apply By3 Jul' 21\", 'CTC  7 - 8.5 LPA                                                    ', \"Apply By3 Jul' 21\", 'CTC  3 - 3.6 LPA                                                    ', \"Apply By3 Jul' 21\", 'CTC  4.8 - 6 LPA                                                    ', \"Apply By3 Jul' 21\", 'CTC  4 - 8.5 LPA                                                    ', \"Apply By3 Jul' 21\", 'CTC  6.62 - 7.95 LPA                                                    ', \"Apply By3 Jul' 21\", 'CTC  3 - 4.5 LPA                                                    ', \"Apply By3 Jul' 21\", 'CTC  3 - 3.5 LPA                                                    ', \"Apply By2 Jul' 21\", 'CTC  3 - 4.5 LPA                                                    ', \"Apply By2 Jul' 21\", 'CTC  5 - 6.5 LPA                                                    ', \"Apply By2 Jul' 21\", 'CTC  4 - 7 LPA                                                    ', \"Apply By1 Jul' 21\", 'CTC  4 - 7.2 LPA                                                    ', \"Apply By3 Jul' 21\", 'CTC  4.5 - 6 LPA                                                    ', \"Apply By1 Jul' 21\", 'CTC  5.5 - 6.5 LPA                                                    ', \"Apply By1 Jul' 21\", 'CTC  3 - 5 LPA                                                    ', \"Apply By1 Jul' 21\", 'CTC  3 - 3.5 LPA                                                    ', \"Apply By1 Jul' 21\", 'CTC  3 LPA                                                    ', \"Apply By1 Jul' 21\", 'CTC  3 LPA                                                    ', \"Apply By30 Jun' 21\", 'CTC  3 - 3.1 LPA                                                    ', \"Apply By30 Jun' 21\", 'CTC  3 - 3.5 LPA                                                    ', \"Apply By3 Jul' 21\", 'CTC  3 - 4 LPA                                                    ', \"Apply By30 Jun' 21\", 'CTC  3 LPA                                                    ', \"Apply By30 Jun' 21\"]\n"
     ]
    }
   ],
   "source": [
    "CTC_apply = []\n",
    "Starts_xa0Immediately =[] \n",
    "\n",
    "for i in range(0, len(ctc)):\n",
    "    if i % 3:\n",
    "        CTC_apply.append(ctc[i])\n",
    "    else :\n",
    "        Starts_xa0Immediately.append(ctc[i])\n",
    "        \n",
    "print(\"CTC & apply date: \", CTC_apply)"
   ]
  },
  {
   "cell_type": "code",
   "execution_count": 144,
   "metadata": {},
   "outputs": [
    {
     "name": "stdout",
     "output_type": "stream",
     "text": [
      "CTC: ['CTC  3 - 5 LPA                                                    ', 'CTC  3 - 5 LPA                                                    ', 'CTC  4 - 5 LPA                                                    ', 'CTC  3 LPA                                                    ', 'CTC  3 - 4 LPA                                                    ', 'CTC  3 - 3.01 LPA                                                    ', 'CTC  3 - 7 LPA                                                    ', 'CTC  3 - 3.25 LPA                                                    ', 'CTC  3 - 4 LPA                                                    ', 'CTC  3 LPA                                                    ', 'CTC  3 - 6 LPA                                                    ', 'CTC  3 LPA                                                    ', 'CTC  5 - 15 LPA                                                    ', 'CTC  3 - 3.05 LPA                                                    ', 'CTC  6 - 8 LPA                                                    ', 'CTC  5.2 - 6.4 LPA                                                    ', 'CTC  5 - 6.5 LPA                                                    ', 'CTC  5 - 6.5 LPA                                                    ', 'CTC  3 - 3.5 LPA                                                    ', 'CTC  7 - 8.5 LPA                                                    ', 'CTC  3 - 3.6 LPA                                                    ', 'CTC  4.8 - 6 LPA                                                    ', 'CTC  4 - 8.5 LPA                                                    ', 'CTC  6.62 - 7.95 LPA                                                    ', 'CTC  3 - 4.5 LPA                                                    ', 'CTC  3 - 3.5 LPA                                                    ', 'CTC  3 - 4.5 LPA                                                    ', 'CTC  5 - 6.5 LPA                                                    ', 'CTC  4 - 7 LPA                                                    ', 'CTC  4 - 7.2 LPA                                                    ', 'CTC  4.5 - 6 LPA                                                    ', 'CTC  5.5 - 6.5 LPA                                                    ', 'CTC  3 - 5 LPA                                                    ', 'CTC  3 - 3.5 LPA                                                    ', 'CTC  3 LPA                                                    ', 'CTC  3 LPA                                                    ', 'CTC  3 - 3.1 LPA                                                    ', 'CTC  3 - 3.5 LPA                                                    ', 'CTC  3 - 4 LPA                                                    ', 'CTC  3 LPA                                                    ']\n"
     ]
    }
   ],
   "source": [
    "CTC = []\n",
    "Apply =[] \n",
    "\n",
    "for i in range(0, len(CTC_apply)):\n",
    "    if i % 2:\n",
    "        Apply.append(CTC_apply[i])\n",
    "    else :\n",
    "        CTC.append(CTC_apply[i])\n",
    "        \n",
    "print(\"CTC:\", CTC)"
   ]
  },
  {
   "cell_type": "code",
   "execution_count": 145,
   "metadata": {},
   "outputs": [
    {
     "name": "stdout",
     "output_type": "stream",
     "text": [
      "40 40 40 40\n"
     ]
    }
   ],
   "source": [
    "print(len(job_title), len(comp_name), len(CTC), len(Apply))"
   ]
  },
  {
   "cell_type": "code",
   "execution_count": 146,
   "metadata": {},
   "outputs": [
    {
     "data": {
      "text/html": [
       "<div>\n",
       "<style scoped>\n",
       "    .dataframe tbody tr th:only-of-type {\n",
       "        vertical-align: middle;\n",
       "    }\n",
       "\n",
       "    .dataframe tbody tr th {\n",
       "        vertical-align: top;\n",
       "    }\n",
       "\n",
       "    .dataframe thead th {\n",
       "        text-align: right;\n",
       "    }\n",
       "</style>\n",
       "<table border=\"1\" class=\"dataframe\">\n",
       "  <thead>\n",
       "    <tr style=\"text-align: right;\">\n",
       "      <th></th>\n",
       "      <th>Title</th>\n",
       "      <th>Company</th>\n",
       "      <th>CTC</th>\n",
       "      <th>Apply</th>\n",
       "    </tr>\n",
       "  </thead>\n",
       "  <tbody>\n",
       "    <tr>\n",
       "      <th>0</th>\n",
       "      <td>[\\n, [Junior MERN STack Developer],  ]</td>\n",
       "      <td>[\\n                        DeepThought Edutech...</td>\n",
       "      <td>CTC  3 - 5 LPA                                ...</td>\n",
       "      <td>Apply By10 Jul' 21</td>\n",
       "    </tr>\n",
       "    <tr>\n",
       "      <th>1</th>\n",
       "      <td>[\\n, [Education Innovation Manager],  ]</td>\n",
       "      <td>[\\n                        DeepThought Edutech...</td>\n",
       "      <td>CTC  3 - 5 LPA                                ...</td>\n",
       "      <td>Apply By10 Jul' 21</td>\n",
       "    </tr>\n",
       "    <tr>\n",
       "      <th>2</th>\n",
       "      <td>[\\n, [General Management Associate],  ]</td>\n",
       "      <td>[\\n                        Redwood Algorithms ...</td>\n",
       "      <td>CTC  4 - 5 LPA                                ...</td>\n",
       "      <td>Apply By10 Jul' 21</td>\n",
       "    </tr>\n",
       "    <tr>\n",
       "      <th>3</th>\n",
       "      <td>[\\n, [Content &amp; E-commerce Management Trainee]...</td>\n",
       "      <td>[\\n                        Blooprint Ecom Cons...</td>\n",
       "      <td>CTC  3 LPA                                    ...</td>\n",
       "      <td>Apply By9 Jul' 21</td>\n",
       "    </tr>\n",
       "    <tr>\n",
       "      <th>4</th>\n",
       "      <td>[\\n, [Software Engineer],  ]</td>\n",
       "      <td>[\\n                        QuikieApps         ...</td>\n",
       "      <td>CTC  3 - 4 LPA                                ...</td>\n",
       "      <td>Apply By9 Jul' 21</td>\n",
       "    </tr>\n",
       "    <tr>\n",
       "      <th>5</th>\n",
       "      <td>[\\n, [Sales Support &amp; Operations Executive],  ]</td>\n",
       "      <td>[\\n                        SysCloud Technologi...</td>\n",
       "      <td>CTC  3 - 3.01 LPA                             ...</td>\n",
       "      <td>Apply By9 Jul' 21</td>\n",
       "    </tr>\n",
       "    <tr>\n",
       "      <th>6</th>\n",
       "      <td>[\\n, [Backend Developer],  ]</td>\n",
       "      <td>[\\n                        Medcords Healthcare...</td>\n",
       "      <td>CTC  3 - 7 LPA                                ...</td>\n",
       "      <td>Apply By9 Jul' 21</td>\n",
       "    </tr>\n",
       "    <tr>\n",
       "      <th>7</th>\n",
       "      <td>[\\n, [Accountant],  ]</td>\n",
       "      <td>[\\n                        Bagga Infrastructur...</td>\n",
       "      <td>CTC  3 - 3.25 LPA                             ...</td>\n",
       "      <td>Apply By8 Jul' 21</td>\n",
       "    </tr>\n",
       "    <tr>\n",
       "      <th>8</th>\n",
       "      <td>[\\n, [Business Development (Sales) Associate],  ]</td>\n",
       "      <td>[\\n                        Exploring Infinitie...</td>\n",
       "      <td>CTC  3 - 4 LPA                                ...</td>\n",
       "      <td>Apply By8 Jul' 21</td>\n",
       "    </tr>\n",
       "    <tr>\n",
       "      <th>9</th>\n",
       "      <td>[\\n, [Corporate Sales Associate],  ]</td>\n",
       "      <td>[\\n                        Best Roadways Limit...</td>\n",
       "      <td>CTC  3 LPA                                    ...</td>\n",
       "      <td>Apply By7 Jul' 21</td>\n",
       "    </tr>\n",
       "    <tr>\n",
       "      <th>10</th>\n",
       "      <td>[\\n, [Sales Executive - Mobile/Electronics],  ]</td>\n",
       "      <td>[\\n                        iShopAtoZ          ...</td>\n",
       "      <td>CTC  3 - 6 LPA                                ...</td>\n",
       "      <td>Apply By7 Jul' 21</td>\n",
       "    </tr>\n",
       "    <tr>\n",
       "      <th>11</th>\n",
       "      <td>[\\n, [Reactjs Developer],  ]</td>\n",
       "      <td>[\\n                        The Tech Bridge    ...</td>\n",
       "      <td>CTC  3 LPA                                    ...</td>\n",
       "      <td>Apply By7 Jul' 21</td>\n",
       "    </tr>\n",
       "    <tr>\n",
       "      <th>12</th>\n",
       "      <td>[\\n, [Software Engineer],  ]</td>\n",
       "      <td>[\\n                        SalaryBox          ...</td>\n",
       "      <td>CTC  5 - 15 LPA                               ...</td>\n",
       "      <td>Apply By7 Jul' 21</td>\n",
       "    </tr>\n",
       "    <tr>\n",
       "      <th>13</th>\n",
       "      <td>[\\n, [PHP &amp; LARAVEL DEVELOPER],  ]</td>\n",
       "      <td>[\\n                        Nyx Wolves         ...</td>\n",
       "      <td>CTC  3 - 3.05 LPA                             ...</td>\n",
       "      <td>Apply By4 Jul' 21</td>\n",
       "    </tr>\n",
       "    <tr>\n",
       "      <th>14</th>\n",
       "      <td>[\\n, [Backend Developer (Ruby On Rails)],  ]</td>\n",
       "      <td>[\\n                        Wollfish Labs Priva...</td>\n",
       "      <td>CTC  6 - 8 LPA                                ...</td>\n",
       "      <td>Apply By4 Jul' 21</td>\n",
       "    </tr>\n",
       "    <tr>\n",
       "      <th>15</th>\n",
       "      <td>[\\n, [Customer Service Specialist],  ]</td>\n",
       "      <td>[\\n                        Wono Inc           ...</td>\n",
       "      <td>CTC  5.2 - 6.4 LPA                            ...</td>\n",
       "      <td>Apply By3 Jul' 21</td>\n",
       "    </tr>\n",
       "    <tr>\n",
       "      <th>16</th>\n",
       "      <td>[\\n, [Graphic Designer],  ]</td>\n",
       "      <td>[\\n                        Wono Inc           ...</td>\n",
       "      <td>CTC  5 - 6.5 LPA                              ...</td>\n",
       "      <td>Apply By3 Jul' 21</td>\n",
       "    </tr>\n",
       "    <tr>\n",
       "      <th>17</th>\n",
       "      <td>[\\n, [Digital Marketing Specialist],  ]</td>\n",
       "      <td>[\\n                        Wono Inc           ...</td>\n",
       "      <td>CTC  5 - 6.5 LPA                              ...</td>\n",
       "      <td>Apply By3 Jul' 21</td>\n",
       "    </tr>\n",
       "    <tr>\n",
       "      <th>18</th>\n",
       "      <td>[\\n, [Junior Corporate Sales Executive],  ]</td>\n",
       "      <td>[\\n                        Wyntem             ...</td>\n",
       "      <td>CTC  3 - 3.5 LPA                              ...</td>\n",
       "      <td>Apply By3 Jul' 21</td>\n",
       "    </tr>\n",
       "    <tr>\n",
       "      <th>19</th>\n",
       "      <td>[\\n, [Backend Developer],  ]</td>\n",
       "      <td>[\\n                        HomeJam            ...</td>\n",
       "      <td>CTC  7 - 8.5 LPA                              ...</td>\n",
       "      <td>Apply By3 Jul' 21</td>\n",
       "    </tr>\n",
       "    <tr>\n",
       "      <th>20</th>\n",
       "      <td>[\\n, [Junior Operations Executive],  ]</td>\n",
       "      <td>[\\n                        NCTI LLP           ...</td>\n",
       "      <td>CTC  3 - 3.6 LPA                              ...</td>\n",
       "      <td>Apply By3 Jul' 21</td>\n",
       "    </tr>\n",
       "    <tr>\n",
       "      <th>21</th>\n",
       "      <td>[\\n, [Internal Audit Associate],  ]</td>\n",
       "      <td>[\\n                        Global Group       ...</td>\n",
       "      <td>CTC  4.8 - 6 LPA                              ...</td>\n",
       "      <td>Apply By3 Jul' 21</td>\n",
       "    </tr>\n",
       "    <tr>\n",
       "      <th>22</th>\n",
       "      <td>[\\n, [Business Marketing Manager],  ]</td>\n",
       "      <td>[\\n                        MentorBoxx         ...</td>\n",
       "      <td>CTC  4 - 8.5 LPA                              ...</td>\n",
       "      <td>Apply By3 Jul' 21</td>\n",
       "    </tr>\n",
       "    <tr>\n",
       "      <th>23</th>\n",
       "      <td>[\\n, [React Native Developer],  ]</td>\n",
       "      <td>[\\n                        Runners Planet     ...</td>\n",
       "      <td>CTC  6.62 - 7.95 LPA                          ...</td>\n",
       "      <td>Apply By3 Jul' 21</td>\n",
       "    </tr>\n",
       "    <tr>\n",
       "      <th>24</th>\n",
       "      <td>[\\n, [Research And Communications Associate],  ]</td>\n",
       "      <td>[\\n                        Institute For Gover...</td>\n",
       "      <td>CTC  3 - 4.5 LPA                              ...</td>\n",
       "      <td>Apply By3 Jul' 21</td>\n",
       "    </tr>\n",
       "    <tr>\n",
       "      <th>25</th>\n",
       "      <td>[\\n, [Data Scientist],  ]</td>\n",
       "      <td>[\\n                        ProtonAutoML       ...</td>\n",
       "      <td>CTC  3 - 3.5 LPA                              ...</td>\n",
       "      <td>Apply By2 Jul' 21</td>\n",
       "    </tr>\n",
       "    <tr>\n",
       "      <th>26</th>\n",
       "      <td>[\\n, [Data Science Django Developer],  ]</td>\n",
       "      <td>[\\n                        Markytics          ...</td>\n",
       "      <td>CTC  3 - 4.5 LPA                              ...</td>\n",
       "      <td>Apply By2 Jul' 21</td>\n",
       "    </tr>\n",
       "    <tr>\n",
       "      <th>27</th>\n",
       "      <td>[\\n, [Corporate Sales Associate],  ]</td>\n",
       "      <td>[\\n                        MiM-Essay          ...</td>\n",
       "      <td>CTC  5 - 6.5 LPA                              ...</td>\n",
       "      <td>Apply By2 Jul' 21</td>\n",
       "    </tr>\n",
       "    <tr>\n",
       "      <th>28</th>\n",
       "      <td>[\\n, [Full Stack Developer],  ]</td>\n",
       "      <td>[\\n                        Wondermail         ...</td>\n",
       "      <td>CTC  4 - 7 LPA                                ...</td>\n",
       "      <td>Apply By1 Jul' 21</td>\n",
       "    </tr>\n",
       "    <tr>\n",
       "      <th>29</th>\n",
       "      <td>[\\n, [Full Stack Developer (MERN)],  ]</td>\n",
       "      <td>[\\n                        Project Tinker     ...</td>\n",
       "      <td>CTC  4 - 7.2 LPA                              ...</td>\n",
       "      <td>Apply By3 Jul' 21</td>\n",
       "    </tr>\n",
       "    <tr>\n",
       "      <th>30</th>\n",
       "      <td>[\\n, [Business Development Executive],  ]</td>\n",
       "      <td>[\\n                        Kaizen Academy     ...</td>\n",
       "      <td>CTC  4.5 - 6 LPA                              ...</td>\n",
       "      <td>Apply By1 Jul' 21</td>\n",
       "    </tr>\n",
       "    <tr>\n",
       "      <th>31</th>\n",
       "      <td>[\\n, [Sales Development Representative],  ]</td>\n",
       "      <td>[\\n                        Amigobulls         ...</td>\n",
       "      <td>CTC  5.5 - 6.5 LPA                            ...</td>\n",
       "      <td>Apply By1 Jul' 21</td>\n",
       "    </tr>\n",
       "    <tr>\n",
       "      <th>32</th>\n",
       "      <td>[\\n, [Graphic Designer],  ]</td>\n",
       "      <td>[\\n                        Underground Movemen...</td>\n",
       "      <td>CTC  3 - 5 LPA                                ...</td>\n",
       "      <td>Apply By1 Jul' 21</td>\n",
       "    </tr>\n",
       "    <tr>\n",
       "      <th>33</th>\n",
       "      <td>[\\n, [Operations Executive],  ]</td>\n",
       "      <td>[\\n                        Alphacore Technolog...</td>\n",
       "      <td>CTC  3 - 3.5 LPA                              ...</td>\n",
       "      <td>Apply By1 Jul' 21</td>\n",
       "    </tr>\n",
       "    <tr>\n",
       "      <th>34</th>\n",
       "      <td>[\\n, [Business Development Executive],  ]</td>\n",
       "      <td>[\\n                        Ruhcom Enterprises ...</td>\n",
       "      <td>CTC  3 LPA                                    ...</td>\n",
       "      <td>Apply By1 Jul' 21</td>\n",
       "    </tr>\n",
       "    <tr>\n",
       "      <th>35</th>\n",
       "      <td>[\\n, [Admission Counselor (Sales)],  ]</td>\n",
       "      <td>[\\n                        Sky Education Group...</td>\n",
       "      <td>CTC  3 LPA                                    ...</td>\n",
       "      <td>Apply By30 Jun' 21</td>\n",
       "    </tr>\n",
       "    <tr>\n",
       "      <th>36</th>\n",
       "      <td>[\\n, [Sales And Business Development Analyst],  ]</td>\n",
       "      <td>[\\n                        Mo's F&amp;B Group     ...</td>\n",
       "      <td>CTC  3 - 3.1 LPA                              ...</td>\n",
       "      <td>Apply By30 Jun' 21</td>\n",
       "    </tr>\n",
       "    <tr>\n",
       "      <th>37</th>\n",
       "      <td>[\\n, [Growth Hacking Digital Marketer],  ]</td>\n",
       "      <td>[\\n                        Sleep Love         ...</td>\n",
       "      <td>CTC  3 - 3.5 LPA                              ...</td>\n",
       "      <td>Apply By3 Jul' 21</td>\n",
       "    </tr>\n",
       "    <tr>\n",
       "      <th>38</th>\n",
       "      <td>[\\n, [Junior Node.js Developer],  ]</td>\n",
       "      <td>[\\n                        Askadmissions.ai   ...</td>\n",
       "      <td>CTC  3 - 4 LPA                                ...</td>\n",
       "      <td>Apply By30 Jun' 21</td>\n",
       "    </tr>\n",
       "    <tr>\n",
       "      <th>39</th>\n",
       "      <td>[\\n, [Junior Digital Marketing Executive],  ]</td>\n",
       "      <td>[\\n                        Krivy              ...</td>\n",
       "      <td>CTC  3 LPA                                    ...</td>\n",
       "      <td>Apply By30 Jun' 21</td>\n",
       "    </tr>\n",
       "  </tbody>\n",
       "</table>\n",
       "</div>"
      ],
      "text/plain": [
       "                                                Title  \\\n",
       "0              [\\n, [Junior MERN STack Developer],  ]   \n",
       "1             [\\n, [Education Innovation Manager],  ]   \n",
       "2             [\\n, [General Management Associate],  ]   \n",
       "3   [\\n, [Content & E-commerce Management Trainee]...   \n",
       "4                        [\\n, [Software Engineer],  ]   \n",
       "5     [\\n, [Sales Support & Operations Executive],  ]   \n",
       "6                        [\\n, [Backend Developer],  ]   \n",
       "7                               [\\n, [Accountant],  ]   \n",
       "8   [\\n, [Business Development (Sales) Associate],  ]   \n",
       "9                [\\n, [Corporate Sales Associate],  ]   \n",
       "10    [\\n, [Sales Executive - Mobile/Electronics],  ]   \n",
       "11                       [\\n, [Reactjs Developer],  ]   \n",
       "12                       [\\n, [Software Engineer],  ]   \n",
       "13                 [\\n, [PHP & LARAVEL DEVELOPER],  ]   \n",
       "14       [\\n, [Backend Developer (Ruby On Rails)],  ]   \n",
       "15             [\\n, [Customer Service Specialist],  ]   \n",
       "16                        [\\n, [Graphic Designer],  ]   \n",
       "17            [\\n, [Digital Marketing Specialist],  ]   \n",
       "18        [\\n, [Junior Corporate Sales Executive],  ]   \n",
       "19                       [\\n, [Backend Developer],  ]   \n",
       "20             [\\n, [Junior Operations Executive],  ]   \n",
       "21                [\\n, [Internal Audit Associate],  ]   \n",
       "22              [\\n, [Business Marketing Manager],  ]   \n",
       "23                  [\\n, [React Native Developer],  ]   \n",
       "24   [\\n, [Research And Communications Associate],  ]   \n",
       "25                          [\\n, [Data Scientist],  ]   \n",
       "26           [\\n, [Data Science Django Developer],  ]   \n",
       "27               [\\n, [Corporate Sales Associate],  ]   \n",
       "28                    [\\n, [Full Stack Developer],  ]   \n",
       "29             [\\n, [Full Stack Developer (MERN)],  ]   \n",
       "30          [\\n, [Business Development Executive],  ]   \n",
       "31        [\\n, [Sales Development Representative],  ]   \n",
       "32                        [\\n, [Graphic Designer],  ]   \n",
       "33                    [\\n, [Operations Executive],  ]   \n",
       "34          [\\n, [Business Development Executive],  ]   \n",
       "35             [\\n, [Admission Counselor (Sales)],  ]   \n",
       "36  [\\n, [Sales And Business Development Analyst],  ]   \n",
       "37         [\\n, [Growth Hacking Digital Marketer],  ]   \n",
       "38                [\\n, [Junior Node.js Developer],  ]   \n",
       "39      [\\n, [Junior Digital Marketing Executive],  ]   \n",
       "\n",
       "                                              Company  \\\n",
       "0   [\\n                        DeepThought Edutech...   \n",
       "1   [\\n                        DeepThought Edutech...   \n",
       "2   [\\n                        Redwood Algorithms ...   \n",
       "3   [\\n                        Blooprint Ecom Cons...   \n",
       "4   [\\n                        QuikieApps         ...   \n",
       "5   [\\n                        SysCloud Technologi...   \n",
       "6   [\\n                        Medcords Healthcare...   \n",
       "7   [\\n                        Bagga Infrastructur...   \n",
       "8   [\\n                        Exploring Infinitie...   \n",
       "9   [\\n                        Best Roadways Limit...   \n",
       "10  [\\n                        iShopAtoZ          ...   \n",
       "11  [\\n                        The Tech Bridge    ...   \n",
       "12  [\\n                        SalaryBox          ...   \n",
       "13  [\\n                        Nyx Wolves         ...   \n",
       "14  [\\n                        Wollfish Labs Priva...   \n",
       "15  [\\n                        Wono Inc           ...   \n",
       "16  [\\n                        Wono Inc           ...   \n",
       "17  [\\n                        Wono Inc           ...   \n",
       "18  [\\n                        Wyntem             ...   \n",
       "19  [\\n                        HomeJam            ...   \n",
       "20  [\\n                        NCTI LLP           ...   \n",
       "21  [\\n                        Global Group       ...   \n",
       "22  [\\n                        MentorBoxx         ...   \n",
       "23  [\\n                        Runners Planet     ...   \n",
       "24  [\\n                        Institute For Gover...   \n",
       "25  [\\n                        ProtonAutoML       ...   \n",
       "26  [\\n                        Markytics          ...   \n",
       "27  [\\n                        MiM-Essay          ...   \n",
       "28  [\\n                        Wondermail         ...   \n",
       "29  [\\n                        Project Tinker     ...   \n",
       "30  [\\n                        Kaizen Academy     ...   \n",
       "31  [\\n                        Amigobulls         ...   \n",
       "32  [\\n                        Underground Movemen...   \n",
       "33  [\\n                        Alphacore Technolog...   \n",
       "34  [\\n                        Ruhcom Enterprises ...   \n",
       "35  [\\n                        Sky Education Group...   \n",
       "36  [\\n                        Mo's F&B Group     ...   \n",
       "37  [\\n                        Sleep Love         ...   \n",
       "38  [\\n                        Askadmissions.ai   ...   \n",
       "39  [\\n                        Krivy              ...   \n",
       "\n",
       "                                                  CTC               Apply  \n",
       "0   CTC  3 - 5 LPA                                ...  Apply By10 Jul' 21  \n",
       "1   CTC  3 - 5 LPA                                ...  Apply By10 Jul' 21  \n",
       "2   CTC  4 - 5 LPA                                ...  Apply By10 Jul' 21  \n",
       "3   CTC  3 LPA                                    ...   Apply By9 Jul' 21  \n",
       "4   CTC  3 - 4 LPA                                ...   Apply By9 Jul' 21  \n",
       "5   CTC  3 - 3.01 LPA                             ...   Apply By9 Jul' 21  \n",
       "6   CTC  3 - 7 LPA                                ...   Apply By9 Jul' 21  \n",
       "7   CTC  3 - 3.25 LPA                             ...   Apply By8 Jul' 21  \n",
       "8   CTC  3 - 4 LPA                                ...   Apply By8 Jul' 21  \n",
       "9   CTC  3 LPA                                    ...   Apply By7 Jul' 21  \n",
       "10  CTC  3 - 6 LPA                                ...   Apply By7 Jul' 21  \n",
       "11  CTC  3 LPA                                    ...   Apply By7 Jul' 21  \n",
       "12  CTC  5 - 15 LPA                               ...   Apply By7 Jul' 21  \n",
       "13  CTC  3 - 3.05 LPA                             ...   Apply By4 Jul' 21  \n",
       "14  CTC  6 - 8 LPA                                ...   Apply By4 Jul' 21  \n",
       "15  CTC  5.2 - 6.4 LPA                            ...   Apply By3 Jul' 21  \n",
       "16  CTC  5 - 6.5 LPA                              ...   Apply By3 Jul' 21  \n",
       "17  CTC  5 - 6.5 LPA                              ...   Apply By3 Jul' 21  \n",
       "18  CTC  3 - 3.5 LPA                              ...   Apply By3 Jul' 21  \n",
       "19  CTC  7 - 8.5 LPA                              ...   Apply By3 Jul' 21  \n",
       "20  CTC  3 - 3.6 LPA                              ...   Apply By3 Jul' 21  \n",
       "21  CTC  4.8 - 6 LPA                              ...   Apply By3 Jul' 21  \n",
       "22  CTC  4 - 8.5 LPA                              ...   Apply By3 Jul' 21  \n",
       "23  CTC  6.62 - 7.95 LPA                          ...   Apply By3 Jul' 21  \n",
       "24  CTC  3 - 4.5 LPA                              ...   Apply By3 Jul' 21  \n",
       "25  CTC  3 - 3.5 LPA                              ...   Apply By2 Jul' 21  \n",
       "26  CTC  3 - 4.5 LPA                              ...   Apply By2 Jul' 21  \n",
       "27  CTC  5 - 6.5 LPA                              ...   Apply By2 Jul' 21  \n",
       "28  CTC  4 - 7 LPA                                ...   Apply By1 Jul' 21  \n",
       "29  CTC  4 - 7.2 LPA                              ...   Apply By3 Jul' 21  \n",
       "30  CTC  4.5 - 6 LPA                              ...   Apply By1 Jul' 21  \n",
       "31  CTC  5.5 - 6.5 LPA                            ...   Apply By1 Jul' 21  \n",
       "32  CTC  3 - 5 LPA                                ...   Apply By1 Jul' 21  \n",
       "33  CTC  3 - 3.5 LPA                              ...   Apply By1 Jul' 21  \n",
       "34  CTC  3 LPA                                    ...   Apply By1 Jul' 21  \n",
       "35  CTC  3 LPA                                    ...  Apply By30 Jun' 21  \n",
       "36  CTC  3 - 3.1 LPA                              ...  Apply By30 Jun' 21  \n",
       "37  CTC  3 - 3.5 LPA                              ...   Apply By3 Jul' 21  \n",
       "38  CTC  3 - 4 LPA                                ...  Apply By30 Jun' 21  \n",
       "39  CTC  3 LPA                                    ...  Apply By30 Jun' 21  "
      ]
     },
     "execution_count": 146,
     "metadata": {},
     "output_type": "execute_result"
    }
   ],
   "source": [
    "# Creating datafrme with includes job title, company name, CTC and apply date.\n",
    "Job_list=pd.DataFrame({})\n",
    "Job_list[\"Title\"]=job_title\n",
    "Job_list[\"Company\"]=comp_name\n",
    "Job_list[\"CTC\"]= CTC\n",
    "Job_list[\"Apply\"]=Apply\n",
    "\n",
    "Job_list"
   ]
  },
  {
   "cell_type": "code",
   "execution_count": null,
   "metadata": {},
   "outputs": [],
   "source": []
  },
  {
   "cell_type": "code",
   "execution_count": null,
   "metadata": {},
   "outputs": [],
   "source": []
  },
  {
   "cell_type": "code",
   "execution_count": null,
   "metadata": {},
   "outputs": [],
   "source": []
  },
  {
   "cell_type": "code",
   "execution_count": null,
   "metadata": {},
   "outputs": [],
   "source": []
  },
  {
   "cell_type": "code",
   "execution_count": null,
   "metadata": {},
   "outputs": [],
   "source": []
  },
  {
   "cell_type": "code",
   "execution_count": null,
   "metadata": {},
   "outputs": [],
   "source": []
  },
  {
   "cell_type": "code",
   "execution_count": null,
   "metadata": {},
   "outputs": [],
   "source": []
  },
  {
   "cell_type": "code",
   "execution_count": null,
   "metadata": {},
   "outputs": [],
   "source": []
  },
  {
   "cell_type": "code",
   "execution_count": null,
   "metadata": {},
   "outputs": [],
   "source": []
  },
  {
   "cell_type": "code",
   "execution_count": null,
   "metadata": {},
   "outputs": [],
   "source": []
  },
  {
   "cell_type": "code",
   "execution_count": null,
   "metadata": {},
   "outputs": [],
   "source": []
  },
  {
   "cell_type": "code",
   "execution_count": null,
   "metadata": {},
   "outputs": [],
   "source": []
  }
 ],
 "metadata": {
  "kernelspec": {
   "display_name": "Python 3",
   "language": "python",
   "name": "python3"
  },
  "language_info": {
   "codemirror_mode": {
    "name": "ipython",
    "version": 3
   },
   "file_extension": ".py",
   "mimetype": "text/x-python",
   "name": "python",
   "nbconvert_exporter": "python",
   "pygments_lexer": "ipython3",
   "version": "3.8.5"
  }
 },
 "nbformat": 4,
 "nbformat_minor": 4
}
