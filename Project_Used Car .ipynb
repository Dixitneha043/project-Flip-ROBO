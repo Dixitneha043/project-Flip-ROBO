{
 "cells": [
  {
   "cell_type": "markdown",
   "metadata": {},
   "source": [
    "# About Project- Used Car PRice Predication"
   ]
  },
  {
   "cell_type": "markdown",
   "metadata": {},
   "source": [
    "With the covid 19 impact in the market, we have seen lot of changes in the car market. Now some cars are in demand hence making them costly and some are not in demand hence cheaper. One of our clients works with small traders, who sell used cars. With the change in market due to covid 19 impact, our client is facing problems with their previous car price valuation machine learning models. So, they are looking for new machine learning models from new data. We have to make car price valuation model. This project contains two phase"
   ]
  },
  {
   "cell_type": "markdown",
   "metadata": {},
   "source": [
    "1. Data Collection Phase- \n",
    "\n",
    "You need to scrape the data of used cars from websites (Olx, cardekho, Cars24 etc.) We need web scraping for this. We fetched data for different locations.Generally, these columns are Brand, model, variant, manufacturing year, driven kilometers, fuel, number of owners, location and at last target variable Price of the car. This data is to give you a hint about important variables in used car model. We made changes in scrapped daaset as per our requirement. it completely depends on the website from which you are fetching the data.\n",
    "Try to include all types of cars in your data for example- SUV, Sedans, Coupe, minivan, Hatchback.\n",
    "\n",
    "2. Model Building Phase - \n",
    "\n",
    "After collecting the data, We need to build a machine learning model. Before model building do all data pre-processing steps. Try different models with different hyper parameters and select the best model.\n",
    "Follow the complete life cycle of data science. Include all the steps like.\n",
    "1. Data Cleaning\n",
    "2. Exploratory Data Analysis\n",
    "3. Data Pre-processing\n",
    "4. Model Building\n",
    "5. Model Evaluation\n",
    "6. Selecting the best model"
   ]
  },
  {
   "cell_type": "code",
   "execution_count": 44,
   "metadata": {},
   "outputs": [],
   "source": [
    "import numpy as np\n",
    "import pandas as pd\n",
    "import seaborn as sns\n",
    "import matplotlib.pyplot as plt\n",
    "import sklearn\n",
    "from sklearn.preprocessing import LabelEncoder\n",
    "from sklearn.model_selection import train_test_split\n",
    "from sklearn.ensemble import ExtraTreesRegressor\n",
    "import matplotlib.pyplot as plt\n",
    "from sklearn.ensemble import RandomForestRegressor\n",
    "from sklearn.model_selection import RandomizedSearchCV\n",
    "from sklearn import metrics\n",
    "import joblib\n",
    "import pickle\n",
    "import warnings\n",
    "warnings.filterwarnings(\"ignore\")"
   ]
  },
  {
   "cell_type": "code",
   "execution_count": null,
   "metadata": {},
   "outputs": [],
   "source": []
  },
  {
   "cell_type": "markdown",
   "metadata": {},
   "source": [
    "# EDA"
   ]
  },
  {
   "cell_type": "markdown",
   "metadata": {},
   "source": [
    "Loading Dataset"
   ]
  },
  {
   "cell_type": "code",
   "execution_count": 2,
   "metadata": {},
   "outputs": [
    {
     "data": {
      "text/html": [
       "<div>\n",
       "<style scoped>\n",
       "    .dataframe tbody tr th:only-of-type {\n",
       "        vertical-align: middle;\n",
       "    }\n",
       "\n",
       "    .dataframe tbody tr th {\n",
       "        vertical-align: top;\n",
       "    }\n",
       "\n",
       "    .dataframe thead th {\n",
       "        text-align: right;\n",
       "    }\n",
       "</style>\n",
       "<table border=\"1\" class=\"dataframe\">\n",
       "  <thead>\n",
       "    <tr style=\"text-align: right;\">\n",
       "      <th></th>\n",
       "      <th>Unnamed: 0</th>\n",
       "      <th>Car Name</th>\n",
       "      <th>Making Year</th>\n",
       "      <th>Registration year</th>\n",
       "      <th>Fule</th>\n",
       "      <th>km_driven</th>\n",
       "      <th>Engine_Displacement</th>\n",
       "      <th>No_Of_Owner</th>\n",
       "      <th>RTO</th>\n",
       "      <th>Transmission</th>\n",
       "      <th>Insurance_Type</th>\n",
       "      <th>Current_Price</th>\n",
       "      <th>Avg_market_price</th>\n",
       "      <th>New_Car_Road_Price</th>\n",
       "      <th>Mileage</th>\n",
       "      <th>Seats</th>\n",
       "      <th>Color</th>\n",
       "      <th>Engine</th>\n",
       "      <th>Max_Power</th>\n",
       "      <th>Torque</th>\n",
       "    </tr>\n",
       "  </thead>\n",
       "  <tbody>\n",
       "    <tr>\n",
       "      <th>0</th>\n",
       "      <td>0</td>\n",
       "      <td>2019 Mahindra XUV500</td>\n",
       "      <td>2019</td>\n",
       "      <td>Mar-19</td>\n",
       "      <td>Diesel</td>\n",
       "      <td>59803</td>\n",
       "      <td>2179 cc</td>\n",
       "      <td>1st Owner</td>\n",
       "      <td>DL12</td>\n",
       "      <td>Manual</td>\n",
       "      <td>Third Party insurance</td>\n",
       "      <td>1186000</td>\n",
       "      <td>1245300</td>\n",
       "      <td>1699700</td>\n",
       "      <td>15.1 kmpl</td>\n",
       "      <td>12345671</td>\n",
       "      <td>Other</td>\n",
       "      <td>2179 CC</td>\n",
       "      <td>152.87bhp</td>\n",
       "      <td>360Nm</td>\n",
       "    </tr>\n",
       "    <tr>\n",
       "      <th>1</th>\n",
       "      <td>1</td>\n",
       "      <td>2016 Maruti Alto K10</td>\n",
       "      <td>2016</td>\n",
       "      <td>Mar-16</td>\n",
       "      <td>CNG</td>\n",
       "      <td>59902</td>\n",
       "      <td>998 cc</td>\n",
       "      <td>1st Owner</td>\n",
       "      <td>UP16</td>\n",
       "      <td>Manual</td>\n",
       "      <td>Third Party insurance</td>\n",
       "      <td>280000</td>\n",
       "      <td>294000</td>\n",
       "      <td>497476</td>\n",
       "      <td>32.26 kmpl</td>\n",
       "      <td>4</td>\n",
       "      <td>Grey</td>\n",
       "      <td>998 CC</td>\n",
       "      <td>58.3bhp</td>\n",
       "      <td>78Nm</td>\n",
       "    </tr>\n",
       "    <tr>\n",
       "      <th>2</th>\n",
       "      <td>2</td>\n",
       "      <td>2017 Maruti Eeco</td>\n",
       "      <td>2017</td>\n",
       "      <td>Feb-17</td>\n",
       "      <td>CNG</td>\n",
       "      <td>47479</td>\n",
       "      <td>1196 cc</td>\n",
       "      <td>1st Owner</td>\n",
       "      <td>DL4C</td>\n",
       "      <td>Manual</td>\n",
       "      <td>Third Party insurance</td>\n",
       "      <td>338500</td>\n",
       "      <td>355425</td>\n",
       "      <td>544727</td>\n",
       "      <td>21.94 km/kg</td>\n",
       "      <td>5</td>\n",
       "      <td>Other</td>\n",
       "      <td>1196 CC</td>\n",
       "      <td>61.7bhp</td>\n",
       "      <td>85Nm</td>\n",
       "    </tr>\n",
       "    <tr>\n",
       "      <th>3</th>\n",
       "      <td>3</td>\n",
       "      <td>2018 Maruti Baleno</td>\n",
       "      <td>2018</td>\n",
       "      <td>Nov-18</td>\n",
       "      <td>Petrol</td>\n",
       "      <td>43228</td>\n",
       "      <td>1197 cc</td>\n",
       "      <td>1st Owner</td>\n",
       "      <td>UP16</td>\n",
       "      <td>Manual</td>\n",
       "      <td>Third Party insurance</td>\n",
       "      <td>600500</td>\n",
       "      <td>630525</td>\n",
       "      <td>840597</td>\n",
       "      <td>21.01 kmpl</td>\n",
       "      <td>R16</td>\n",
       "      <td>5</td>\n",
       "      <td>1197 CC</td>\n",
       "      <td>81.80bhp</td>\n",
       "      <td>113Nm</td>\n",
       "    </tr>\n",
       "    <tr>\n",
       "      <th>4</th>\n",
       "      <td>4</td>\n",
       "      <td>2015 Maruti Swift</td>\n",
       "      <td>2015</td>\n",
       "      <td>Feb-15</td>\n",
       "      <td>Diesel</td>\n",
       "      <td>43951</td>\n",
       "      <td>1248 cc</td>\n",
       "      <td>1st Owner</td>\n",
       "      <td>DL5C</td>\n",
       "      <td>Manual</td>\n",
       "      <td>Third Party insurance</td>\n",
       "      <td>430500</td>\n",
       "      <td>452025</td>\n",
       "      <td>798110</td>\n",
       "      <td>28.4 kmpl</td>\n",
       "      <td>5</td>\n",
       "      <td>Other</td>\n",
       "      <td>1248 CC</td>\n",
       "      <td>74bhp</td>\n",
       "      <td>190Nm</td>\n",
       "    </tr>\n",
       "  </tbody>\n",
       "</table>\n",
       "</div>"
      ],
      "text/plain": [
       "   Unnamed: 0              Car Name  Making Year Registration year    Fule  \\\n",
       "0           0  2019 Mahindra XUV500         2019            Mar-19  Diesel   \n",
       "1           1  2016 Maruti Alto K10         2016            Mar-16     CNG   \n",
       "2           2      2017 Maruti Eeco         2017            Feb-17     CNG   \n",
       "3           3    2018 Maruti Baleno         2018            Nov-18  Petrol   \n",
       "4           4     2015 Maruti Swift         2015            Feb-15  Diesel   \n",
       "\n",
       "  km_driven Engine_Displacement No_Of_Owner   RTO Transmission  \\\n",
       "0     59803             2179 cc   1st Owner  DL12       Manual   \n",
       "1     59902              998 cc   1st Owner  UP16       Manual   \n",
       "2     47479             1196 cc   1st Owner  DL4C       Manual   \n",
       "3     43228             1197 cc   1st Owner  UP16       Manual   \n",
       "4     43951             1248 cc   1st Owner  DL5C       Manual   \n",
       "\n",
       "          Insurance_Type  Current_Price  Avg_market_price  New_Car_Road_Price  \\\n",
       "0  Third Party insurance        1186000           1245300             1699700   \n",
       "1  Third Party insurance         280000            294000              497476   \n",
       "2  Third Party insurance         338500            355425              544727   \n",
       "3  Third Party insurance         600500            630525              840597   \n",
       "4  Third Party insurance         430500            452025              798110   \n",
       "\n",
       "       Mileage     Seats  Color   Engine  Max_Power Torque  \n",
       "0    15.1 kmpl  12345671  Other  2179 CC  152.87bhp  360Nm  \n",
       "1   32.26 kmpl         4   Grey   998 CC    58.3bhp   78Nm  \n",
       "2  21.94 km/kg         5  Other  1196 CC    61.7bhp   85Nm  \n",
       "3   21.01 kmpl       R16      5  1197 CC   81.80bhp  113Nm  \n",
       "4    28.4 kmpl         5  Other  1248 CC      74bhp  190Nm  "
      ]
     },
     "execution_count": 2,
     "metadata": {},
     "output_type": "execute_result"
    }
   ],
   "source": [
    "#uploading dataset\n",
    "df=pd.read_csv(\"Used_Cars_Data.csv\")\n",
    "df.head()"
   ]
  },
  {
   "cell_type": "code",
   "execution_count": 3,
   "metadata": {},
   "outputs": [
    {
     "data": {
      "text/plain": [
       "(935, 20)"
      ]
     },
     "execution_count": 3,
     "metadata": {},
     "output_type": "execute_result"
    }
   ],
   "source": [
    "df.shape"
   ]
  },
  {
   "cell_type": "markdown",
   "metadata": {},
   "source": [
    "In this dataset 935 columns and 20 rows"
   ]
  },
  {
   "cell_type": "code",
   "execution_count": 4,
   "metadata": {},
   "outputs": [
    {
     "data": {
      "text/plain": [
       "Unnamed: 0             0\n",
       "Car Name               0\n",
       "Making Year            0\n",
       "Registration year      0\n",
       "Fule                   0\n",
       "km_driven              0\n",
       "Engine_Displacement    0\n",
       "No_Of_Owner            0\n",
       "RTO                    0\n",
       "Transmission           0\n",
       "Insurance_Type         0\n",
       "Current_Price          0\n",
       "Avg_market_price       0\n",
       "New_Car_Road_Price     0\n",
       "Mileage                0\n",
       "Seats                  0\n",
       "Color                  5\n",
       "Engine                 0\n",
       "Max_Power              0\n",
       "Torque                 0\n",
       "dtype: int64"
      ]
     },
     "execution_count": 4,
     "metadata": {},
     "output_type": "execute_result"
    }
   ],
   "source": [
    "##check missing values\n",
    "df.isnull().sum()"
   ]
  },
  {
   "cell_type": "code",
   "execution_count": 5,
   "metadata": {},
   "outputs": [
    {
     "name": "stdout",
     "output_type": "stream",
     "text": [
      "<class 'pandas.core.frame.DataFrame'>\n",
      "RangeIndex: 935 entries, 0 to 934\n",
      "Data columns (total 20 columns):\n",
      " #   Column               Non-Null Count  Dtype \n",
      "---  ------               --------------  ----- \n",
      " 0   Unnamed: 0           935 non-null    int64 \n",
      " 1   Car Name             935 non-null    object\n",
      " 2   Making Year          935 non-null    int64 \n",
      " 3   Registration year    935 non-null    object\n",
      " 4   Fule                 935 non-null    object\n",
      " 5   km_driven            935 non-null    object\n",
      " 6   Engine_Displacement  935 non-null    object\n",
      " 7   No_Of_Owner          935 non-null    object\n",
      " 8   RTO                  935 non-null    object\n",
      " 9   Transmission         935 non-null    object\n",
      " 10  Insurance_Type       935 non-null    object\n",
      " 11  Current_Price        935 non-null    int64 \n",
      " 12  Avg_market_price     935 non-null    int64 \n",
      " 13  New_Car_Road_Price   935 non-null    int64 \n",
      " 14  Mileage              935 non-null    object\n",
      " 15  Seats                935 non-null    object\n",
      " 16  Color                930 non-null    object\n",
      " 17  Engine               935 non-null    object\n",
      " 18  Max_Power            935 non-null    object\n",
      " 19  Torque               935 non-null    object\n",
      "dtypes: int64(5), object(15)\n",
      "memory usage: 146.2+ KB\n",
      "None\n"
     ]
    }
   ],
   "source": [
    "print(df.info())"
   ]
  },
  {
   "cell_type": "markdown",
   "metadata": {},
   "source": [
    "# Data Cleanining"
   ]
  },
  {
   "cell_type": "markdown",
   "metadata": {},
   "source": [
    "We will drop some columns which are not going to useto predict the used car price."
   ]
  },
  {
   "cell_type": "code",
   "execution_count": 6,
   "metadata": {},
   "outputs": [],
   "source": [
    "#We can drop Umnamed Column because there is no use of it.\n",
    "df.drop(['Unnamed: 0'],axis=1,inplace=True)"
   ]
  },
  {
   "cell_type": "code",
   "execution_count": 7,
   "metadata": {},
   "outputs": [],
   "source": [
    "# year and registration year bothare same, So we can drop redistration year column.\n",
    "df.drop(['Registration year'],axis=1,inplace=True)"
   ]
  },
  {
   "cell_type": "code",
   "execution_count": 8,
   "metadata": {},
   "outputs": [],
   "source": [
    "#Engine Displacement and Engine, both are showing same result so we can drop one of them.\n",
    "df.drop(['Engine_Displacement'],axis=1,inplace=True)"
   ]
  },
  {
   "cell_type": "code",
   "execution_count": 9,
   "metadata": {},
   "outputs": [],
   "source": [
    "#We can dropRTO column, as there isno use of this column to predict the price.\n",
    "df.drop(['RTO'],axis=1,inplace=True)"
   ]
  },
  {
   "cell_type": "code",
   "execution_count": null,
   "metadata": {},
   "outputs": [],
   "source": []
  },
  {
   "cell_type": "markdown",
   "metadata": {},
   "source": [
    "Mileage and Engine columns have string values so we will remove it."
   ]
  },
  {
   "cell_type": "code",
   "execution_count": 10,
   "metadata": {},
   "outputs": [],
   "source": [
    "Mil=df[\"Mileage\"].str.split(\" \", expand = True)\n",
    "df[\"Mileage\"] = pd.to_numeric(Mil[0], errors = 'coerce')\n",
    "df[\"Mileage\"].fillna(df[\"Mileage\"].astype(\"float64\").mean(), inplace = True)\n",
    "\n",
    "Eng=df[\"Engine\"].str.split(\" \", expand = True)\n",
    "df[\"Engine\"] = pd.to_numeric(Eng[0], errors = 'coerce')\n",
    "df[\"Engine\"].fillna(df[\"Engine\"].astype(\"float64\").mean(), inplace = True)"
   ]
  },
  {
   "cell_type": "code",
   "execution_count": 11,
   "metadata": {},
   "outputs": [
    {
     "data": {
      "text/html": [
       "<div>\n",
       "<style scoped>\n",
       "    .dataframe tbody tr th:only-of-type {\n",
       "        vertical-align: middle;\n",
       "    }\n",
       "\n",
       "    .dataframe tbody tr th {\n",
       "        vertical-align: top;\n",
       "    }\n",
       "\n",
       "    .dataframe thead th {\n",
       "        text-align: right;\n",
       "    }\n",
       "</style>\n",
       "<table border=\"1\" class=\"dataframe\">\n",
       "  <thead>\n",
       "    <tr style=\"text-align: right;\">\n",
       "      <th></th>\n",
       "      <th>Car Name</th>\n",
       "      <th>Making Year</th>\n",
       "      <th>Fule</th>\n",
       "      <th>km_driven</th>\n",
       "      <th>No_Of_Owner</th>\n",
       "      <th>Transmission</th>\n",
       "      <th>Insurance_Type</th>\n",
       "      <th>Current_Price</th>\n",
       "      <th>Avg_market_price</th>\n",
       "      <th>New_Car_Road_Price</th>\n",
       "      <th>Mileage</th>\n",
       "      <th>Seats</th>\n",
       "      <th>Color</th>\n",
       "      <th>Engine</th>\n",
       "      <th>Max_Power</th>\n",
       "      <th>Torque</th>\n",
       "    </tr>\n",
       "  </thead>\n",
       "  <tbody>\n",
       "    <tr>\n",
       "      <th>0</th>\n",
       "      <td>2019 Mahindra XUV500</td>\n",
       "      <td>2019</td>\n",
       "      <td>Diesel</td>\n",
       "      <td>59803</td>\n",
       "      <td>1st Owner</td>\n",
       "      <td>Manual</td>\n",
       "      <td>Third Party insurance</td>\n",
       "      <td>1186000</td>\n",
       "      <td>1245300</td>\n",
       "      <td>1699700</td>\n",
       "      <td>15.10</td>\n",
       "      <td>12345671</td>\n",
       "      <td>Other</td>\n",
       "      <td>2179</td>\n",
       "      <td>152.87bhp</td>\n",
       "      <td>360Nm</td>\n",
       "    </tr>\n",
       "    <tr>\n",
       "      <th>1</th>\n",
       "      <td>2016 Maruti Alto K10</td>\n",
       "      <td>2016</td>\n",
       "      <td>CNG</td>\n",
       "      <td>59902</td>\n",
       "      <td>1st Owner</td>\n",
       "      <td>Manual</td>\n",
       "      <td>Third Party insurance</td>\n",
       "      <td>280000</td>\n",
       "      <td>294000</td>\n",
       "      <td>497476</td>\n",
       "      <td>32.26</td>\n",
       "      <td>4</td>\n",
       "      <td>Grey</td>\n",
       "      <td>998</td>\n",
       "      <td>58.3bhp</td>\n",
       "      <td>78Nm</td>\n",
       "    </tr>\n",
       "    <tr>\n",
       "      <th>2</th>\n",
       "      <td>2017 Maruti Eeco</td>\n",
       "      <td>2017</td>\n",
       "      <td>CNG</td>\n",
       "      <td>47479</td>\n",
       "      <td>1st Owner</td>\n",
       "      <td>Manual</td>\n",
       "      <td>Third Party insurance</td>\n",
       "      <td>338500</td>\n",
       "      <td>355425</td>\n",
       "      <td>544727</td>\n",
       "      <td>21.94</td>\n",
       "      <td>5</td>\n",
       "      <td>Other</td>\n",
       "      <td>1196</td>\n",
       "      <td>61.7bhp</td>\n",
       "      <td>85Nm</td>\n",
       "    </tr>\n",
       "    <tr>\n",
       "      <th>3</th>\n",
       "      <td>2018 Maruti Baleno</td>\n",
       "      <td>2018</td>\n",
       "      <td>Petrol</td>\n",
       "      <td>43228</td>\n",
       "      <td>1st Owner</td>\n",
       "      <td>Manual</td>\n",
       "      <td>Third Party insurance</td>\n",
       "      <td>600500</td>\n",
       "      <td>630525</td>\n",
       "      <td>840597</td>\n",
       "      <td>21.01</td>\n",
       "      <td>R16</td>\n",
       "      <td>5</td>\n",
       "      <td>1197</td>\n",
       "      <td>81.80bhp</td>\n",
       "      <td>113Nm</td>\n",
       "    </tr>\n",
       "    <tr>\n",
       "      <th>4</th>\n",
       "      <td>2015 Maruti Swift</td>\n",
       "      <td>2015</td>\n",
       "      <td>Diesel</td>\n",
       "      <td>43951</td>\n",
       "      <td>1st Owner</td>\n",
       "      <td>Manual</td>\n",
       "      <td>Third Party insurance</td>\n",
       "      <td>430500</td>\n",
       "      <td>452025</td>\n",
       "      <td>798110</td>\n",
       "      <td>28.40</td>\n",
       "      <td>5</td>\n",
       "      <td>Other</td>\n",
       "      <td>1248</td>\n",
       "      <td>74bhp</td>\n",
       "      <td>190Nm</td>\n",
       "    </tr>\n",
       "  </tbody>\n",
       "</table>\n",
       "</div>"
      ],
      "text/plain": [
       "               Car Name  Making Year    Fule km_driven No_Of_Owner  \\\n",
       "0  2019 Mahindra XUV500         2019  Diesel     59803   1st Owner   \n",
       "1  2016 Maruti Alto K10         2016     CNG     59902   1st Owner   \n",
       "2      2017 Maruti Eeco         2017     CNG     47479   1st Owner   \n",
       "3    2018 Maruti Baleno         2018  Petrol     43228   1st Owner   \n",
       "4     2015 Maruti Swift         2015  Diesel     43951   1st Owner   \n",
       "\n",
       "  Transmission         Insurance_Type  Current_Price  Avg_market_price  \\\n",
       "0       Manual  Third Party insurance        1186000           1245300   \n",
       "1       Manual  Third Party insurance         280000            294000   \n",
       "2       Manual  Third Party insurance         338500            355425   \n",
       "3       Manual  Third Party insurance         600500            630525   \n",
       "4       Manual  Third Party insurance         430500            452025   \n",
       "\n",
       "   New_Car_Road_Price  Mileage     Seats  Color  Engine  Max_Power Torque  \n",
       "0             1699700    15.10  12345671  Other    2179  152.87bhp  360Nm  \n",
       "1              497476    32.26         4   Grey     998    58.3bhp   78Nm  \n",
       "2              544727    21.94         5  Other    1196    61.7bhp   85Nm  \n",
       "3              840597    21.01       R16      5    1197   81.80bhp  113Nm  \n",
       "4              798110    28.40         5  Other    1248      74bhp  190Nm  "
      ]
     },
     "execution_count": 11,
     "metadata": {},
     "output_type": "execute_result"
    }
   ],
   "source": [
    "df.head()"
   ]
  },
  {
   "cell_type": "markdown",
   "metadata": {},
   "source": [
    "lets make a final dataset with the required columns which are usefull for the price prediction."
   ]
  },
  {
   "cell_type": "code",
   "execution_count": 12,
   "metadata": {},
   "outputs": [],
   "source": [
    "final_dataset=df[['Making Year','Current_Price','Avg_market_price',\"New_Car_Road_Price\",'Fule','Transmission','No_Of_Owner']]"
   ]
  },
  {
   "cell_type": "code",
   "execution_count": 13,
   "metadata": {},
   "outputs": [
    {
     "data": {
      "text/html": [
       "<div>\n",
       "<style scoped>\n",
       "    .dataframe tbody tr th:only-of-type {\n",
       "        vertical-align: middle;\n",
       "    }\n",
       "\n",
       "    .dataframe tbody tr th {\n",
       "        vertical-align: top;\n",
       "    }\n",
       "\n",
       "    .dataframe thead th {\n",
       "        text-align: right;\n",
       "    }\n",
       "</style>\n",
       "<table border=\"1\" class=\"dataframe\">\n",
       "  <thead>\n",
       "    <tr style=\"text-align: right;\">\n",
       "      <th></th>\n",
       "      <th>Making Year</th>\n",
       "      <th>Current_Price</th>\n",
       "      <th>Avg_market_price</th>\n",
       "      <th>New_Car_Road_Price</th>\n",
       "      <th>Fule</th>\n",
       "      <th>Transmission</th>\n",
       "      <th>No_Of_Owner</th>\n",
       "    </tr>\n",
       "  </thead>\n",
       "  <tbody>\n",
       "    <tr>\n",
       "      <th>0</th>\n",
       "      <td>2019</td>\n",
       "      <td>1186000</td>\n",
       "      <td>1245300</td>\n",
       "      <td>1699700</td>\n",
       "      <td>Diesel</td>\n",
       "      <td>Manual</td>\n",
       "      <td>1st Owner</td>\n",
       "    </tr>\n",
       "    <tr>\n",
       "      <th>1</th>\n",
       "      <td>2016</td>\n",
       "      <td>280000</td>\n",
       "      <td>294000</td>\n",
       "      <td>497476</td>\n",
       "      <td>CNG</td>\n",
       "      <td>Manual</td>\n",
       "      <td>1st Owner</td>\n",
       "    </tr>\n",
       "    <tr>\n",
       "      <th>2</th>\n",
       "      <td>2017</td>\n",
       "      <td>338500</td>\n",
       "      <td>355425</td>\n",
       "      <td>544727</td>\n",
       "      <td>CNG</td>\n",
       "      <td>Manual</td>\n",
       "      <td>1st Owner</td>\n",
       "    </tr>\n",
       "    <tr>\n",
       "      <th>3</th>\n",
       "      <td>2018</td>\n",
       "      <td>600500</td>\n",
       "      <td>630525</td>\n",
       "      <td>840597</td>\n",
       "      <td>Petrol</td>\n",
       "      <td>Manual</td>\n",
       "      <td>1st Owner</td>\n",
       "    </tr>\n",
       "    <tr>\n",
       "      <th>4</th>\n",
       "      <td>2015</td>\n",
       "      <td>430500</td>\n",
       "      <td>452025</td>\n",
       "      <td>798110</td>\n",
       "      <td>Diesel</td>\n",
       "      <td>Manual</td>\n",
       "      <td>1st Owner</td>\n",
       "    </tr>\n",
       "  </tbody>\n",
       "</table>\n",
       "</div>"
      ],
      "text/plain": [
       "   Making Year  Current_Price  Avg_market_price  New_Car_Road_Price    Fule  \\\n",
       "0         2019        1186000           1245300             1699700  Diesel   \n",
       "1         2016         280000            294000              497476     CNG   \n",
       "2         2017         338500            355425              544727     CNG   \n",
       "3         2018         600500            630525              840597  Petrol   \n",
       "4         2015         430500            452025              798110  Diesel   \n",
       "\n",
       "  Transmission No_Of_Owner  \n",
       "0       Manual   1st Owner  \n",
       "1       Manual   1st Owner  \n",
       "2       Manual   1st Owner  \n",
       "3       Manual   1st Owner  \n",
       "4       Manual   1st Owner  "
      ]
     },
     "execution_count": 13,
     "metadata": {},
     "output_type": "execute_result"
    }
   ],
   "source": [
    "final_dataset.head()"
   ]
  },
  {
   "cell_type": "markdown",
   "metadata": {},
   "source": [
    "final Dataset has some string values,lets check it and convert into numbericals values with help of LabelEncolder.\n",
    "\n"
   ]
  },
  {
   "cell_type": "markdown",
   "metadata": {},
   "source": [
    "# Pre-Processing"
   ]
  },
  {
   "cell_type": "code",
   "execution_count": 14,
   "metadata": {},
   "outputs": [
    {
     "name": "stdout",
     "output_type": "stream",
     "text": [
      "['1st Owner' '2nd Owner' '3rd Owner']\n",
      "['Diesel' 'CNG' 'Petrol' 'LPG']\n",
      "['Manual' 'Automatic']\n"
     ]
    }
   ],
   "source": [
    "print(df['No_Of_Owner'].unique())\n",
    "print(df['Fule'].unique())\n",
    "print(df['Transmission'].unique())"
   ]
  },
  {
   "cell_type": "code",
   "execution_count": 15,
   "metadata": {},
   "outputs": [
    {
     "name": "stdout",
     "output_type": "stream",
     "text": [
      "1st Owner    794\n",
      "2nd Owner    140\n",
      "3rd Owner      1\n",
      "Name: No_Of_Owner, dtype: int64\n",
      "Petrol    572\n",
      "Diesel    345\n",
      "CNG        17\n",
      "LPG         1\n",
      "Name: Fule, dtype: int64\n",
      "Manual       794\n",
      "Automatic    141\n",
      "Name: Transmission, dtype: int64\n"
     ]
    }
   ],
   "source": [
    "print(df['No_Of_Owner'].value_counts())\n",
    "print(df['Fule'].value_counts())\n",
    "print(df['Transmission'].value_counts())"
   ]
  },
  {
   "cell_type": "code",
   "execution_count": 16,
   "metadata": {},
   "outputs": [],
   "source": [
    "#Encoding \"No of Owner\"column values into Numerical numbers\n",
    "\n",
    "import sklearn\n",
    "from sklearn.preprocessing import LabelEncoder\n",
    "\n",
    "le=LabelEncoder()\n",
    "final_dataset.replace({'1st Owner':1,'2nd Owner':2,'3rd Owner':3},inplace=True)\n",
    "final_dataset.replace({'Petrol':1,'Diesel':2,'CNG':3,'LPG':4},inplace=True)\n",
    "final_dataset.replace({'Manual':1,'Automatic':2},inplace=True)"
   ]
  },
  {
   "cell_type": "code",
   "execution_count": 17,
   "metadata": {},
   "outputs": [
    {
     "name": "stdout",
     "output_type": "stream",
     "text": [
      "1st Owner    794\n",
      "2nd Owner    140\n",
      "3rd Owner      1\n",
      "Name: No_Of_Owner, dtype: int64\n",
      "Petrol    572\n",
      "Diesel    345\n",
      "CNG        17\n",
      "LPG         1\n",
      "Name: Fule, dtype: int64\n",
      "Manual       794\n",
      "Automatic    141\n",
      "Name: Transmission, dtype: int64\n"
     ]
    }
   ],
   "source": [
    "print(df['No_Of_Owner'].value_counts())\n",
    "print(df['Fule'].value_counts())\n",
    "print(df['Transmission'].value_counts())"
   ]
  },
  {
   "cell_type": "markdown",
   "metadata": {},
   "source": [
    "# Statistical Apporch"
   ]
  },
  {
   "cell_type": "code",
   "execution_count": 18,
   "metadata": {},
   "outputs": [
    {
     "data": {
      "text/html": [
       "<div>\n",
       "<style scoped>\n",
       "    .dataframe tbody tr th:only-of-type {\n",
       "        vertical-align: middle;\n",
       "    }\n",
       "\n",
       "    .dataframe tbody tr th {\n",
       "        vertical-align: top;\n",
       "    }\n",
       "\n",
       "    .dataframe thead th {\n",
       "        text-align: right;\n",
       "    }\n",
       "</style>\n",
       "<table border=\"1\" class=\"dataframe\">\n",
       "  <thead>\n",
       "    <tr style=\"text-align: right;\">\n",
       "      <th></th>\n",
       "      <th>Making Year</th>\n",
       "      <th>Current_Price</th>\n",
       "      <th>Avg_market_price</th>\n",
       "      <th>New_Car_Road_Price</th>\n",
       "      <th>Fule</th>\n",
       "      <th>Transmission</th>\n",
       "      <th>No_Of_Owner</th>\n",
       "    </tr>\n",
       "  </thead>\n",
       "  <tbody>\n",
       "    <tr>\n",
       "      <th>0</th>\n",
       "      <td>2019</td>\n",
       "      <td>1186000</td>\n",
       "      <td>1245300</td>\n",
       "      <td>1699700</td>\n",
       "      <td>2</td>\n",
       "      <td>1</td>\n",
       "      <td>1</td>\n",
       "    </tr>\n",
       "    <tr>\n",
       "      <th>1</th>\n",
       "      <td>2016</td>\n",
       "      <td>280000</td>\n",
       "      <td>294000</td>\n",
       "      <td>497476</td>\n",
       "      <td>3</td>\n",
       "      <td>1</td>\n",
       "      <td>1</td>\n",
       "    </tr>\n",
       "    <tr>\n",
       "      <th>2</th>\n",
       "      <td>2017</td>\n",
       "      <td>338500</td>\n",
       "      <td>355425</td>\n",
       "      <td>544727</td>\n",
       "      <td>3</td>\n",
       "      <td>1</td>\n",
       "      <td>1</td>\n",
       "    </tr>\n",
       "    <tr>\n",
       "      <th>3</th>\n",
       "      <td>2018</td>\n",
       "      <td>600500</td>\n",
       "      <td>630525</td>\n",
       "      <td>840597</td>\n",
       "      <td>1</td>\n",
       "      <td>1</td>\n",
       "      <td>1</td>\n",
       "    </tr>\n",
       "    <tr>\n",
       "      <th>4</th>\n",
       "      <td>2015</td>\n",
       "      <td>430500</td>\n",
       "      <td>452025</td>\n",
       "      <td>798110</td>\n",
       "      <td>2</td>\n",
       "      <td>1</td>\n",
       "      <td>1</td>\n",
       "    </tr>\n",
       "  </tbody>\n",
       "</table>\n",
       "</div>"
      ],
      "text/plain": [
       "   Making Year  Current_Price  Avg_market_price  New_Car_Road_Price  Fule  \\\n",
       "0         2019        1186000           1245300             1699700     2   \n",
       "1         2016         280000            294000              497476     3   \n",
       "2         2017         338500            355425              544727     3   \n",
       "3         2018         600500            630525              840597     1   \n",
       "4         2015         430500            452025              798110     2   \n",
       "\n",
       "   Transmission  No_Of_Owner  \n",
       "0             1            1  \n",
       "1             1            1  \n",
       "2             1            1  \n",
       "3             1            1  \n",
       "4             1            1  "
      ]
     },
     "execution_count": 18,
     "metadata": {},
     "output_type": "execute_result"
    }
   ],
   "source": [
    "final_dataset.head()"
   ]
  },
  {
   "cell_type": "code",
   "execution_count": 19,
   "metadata": {},
   "outputs": [
    {
     "data": {
      "text/html": [
       "<div>\n",
       "<style scoped>\n",
       "    .dataframe tbody tr th:only-of-type {\n",
       "        vertical-align: middle;\n",
       "    }\n",
       "\n",
       "    .dataframe tbody tr th {\n",
       "        vertical-align: top;\n",
       "    }\n",
       "\n",
       "    .dataframe thead th {\n",
       "        text-align: right;\n",
       "    }\n",
       "</style>\n",
       "<table border=\"1\" class=\"dataframe\">\n",
       "  <thead>\n",
       "    <tr style=\"text-align: right;\">\n",
       "      <th></th>\n",
       "      <th>Making Year</th>\n",
       "      <th>Current_Price</th>\n",
       "      <th>Avg_market_price</th>\n",
       "      <th>New_Car_Road_Price</th>\n",
       "      <th>Fule</th>\n",
       "      <th>Transmission</th>\n",
       "      <th>No_Of_Owner</th>\n",
       "    </tr>\n",
       "  </thead>\n",
       "  <tbody>\n",
       "    <tr>\n",
       "      <th>count</th>\n",
       "      <td>935.000000</td>\n",
       "      <td>9.350000e+02</td>\n",
       "      <td>9.350000e+02</td>\n",
       "      <td>9.350000e+02</td>\n",
       "      <td>935.000000</td>\n",
       "      <td>935.000000</td>\n",
       "      <td>935.000000</td>\n",
       "    </tr>\n",
       "    <tr>\n",
       "      <th>mean</th>\n",
       "      <td>2015.834225</td>\n",
       "      <td>4.763454e+05</td>\n",
       "      <td>5.001627e+05</td>\n",
       "      <td>7.985405e+05</td>\n",
       "      <td>1.408556</td>\n",
       "      <td>1.150802</td>\n",
       "      <td>1.151872</td>\n",
       "    </tr>\n",
       "    <tr>\n",
       "      <th>std</th>\n",
       "      <td>2.367089</td>\n",
       "      <td>1.843924e+05</td>\n",
       "      <td>1.936120e+05</td>\n",
       "      <td>3.348315e+05</td>\n",
       "      <td>0.533595</td>\n",
       "      <td>0.358047</td>\n",
       "      <td>0.362058</td>\n",
       "    </tr>\n",
       "    <tr>\n",
       "      <th>min</th>\n",
       "      <td>2008.000000</td>\n",
       "      <td>1.060000e+05</td>\n",
       "      <td>1.113000e+05</td>\n",
       "      <td>3.209150e+05</td>\n",
       "      <td>1.000000</td>\n",
       "      <td>1.000000</td>\n",
       "      <td>1.000000</td>\n",
       "    </tr>\n",
       "    <tr>\n",
       "      <th>25%</th>\n",
       "      <td>2014.000000</td>\n",
       "      <td>3.367500e+05</td>\n",
       "      <td>3.535875e+05</td>\n",
       "      <td>5.671135e+05</td>\n",
       "      <td>1.000000</td>\n",
       "      <td>1.000000</td>\n",
       "      <td>1.000000</td>\n",
       "    </tr>\n",
       "    <tr>\n",
       "      <th>50%</th>\n",
       "      <td>2016.000000</td>\n",
       "      <td>4.620000e+05</td>\n",
       "      <td>4.851000e+05</td>\n",
       "      <td>7.479350e+05</td>\n",
       "      <td>1.000000</td>\n",
       "      <td>1.000000</td>\n",
       "      <td>1.000000</td>\n",
       "    </tr>\n",
       "    <tr>\n",
       "      <th>75%</th>\n",
       "      <td>2018.000000</td>\n",
       "      <td>5.750000e+05</td>\n",
       "      <td>6.037500e+05</td>\n",
       "      <td>9.424970e+05</td>\n",
       "      <td>2.000000</td>\n",
       "      <td>1.000000</td>\n",
       "      <td>1.000000</td>\n",
       "    </tr>\n",
       "    <tr>\n",
       "      <th>max</th>\n",
       "      <td>2021.000000</td>\n",
       "      <td>1.474500e+06</td>\n",
       "      <td>1.548225e+06</td>\n",
       "      <td>3.768743e+06</td>\n",
       "      <td>4.000000</td>\n",
       "      <td>2.000000</td>\n",
       "      <td>3.000000</td>\n",
       "    </tr>\n",
       "  </tbody>\n",
       "</table>\n",
       "</div>"
      ],
      "text/plain": [
       "       Making Year  Current_Price  Avg_market_price  New_Car_Road_Price  \\\n",
       "count   935.000000   9.350000e+02      9.350000e+02        9.350000e+02   \n",
       "mean   2015.834225   4.763454e+05      5.001627e+05        7.985405e+05   \n",
       "std       2.367089   1.843924e+05      1.936120e+05        3.348315e+05   \n",
       "min    2008.000000   1.060000e+05      1.113000e+05        3.209150e+05   \n",
       "25%    2014.000000   3.367500e+05      3.535875e+05        5.671135e+05   \n",
       "50%    2016.000000   4.620000e+05      4.851000e+05        7.479350e+05   \n",
       "75%    2018.000000   5.750000e+05      6.037500e+05        9.424970e+05   \n",
       "max    2021.000000   1.474500e+06      1.548225e+06        3.768743e+06   \n",
       "\n",
       "             Fule  Transmission  No_Of_Owner  \n",
       "count  935.000000    935.000000   935.000000  \n",
       "mean     1.408556      1.150802     1.151872  \n",
       "std      0.533595      0.358047     0.362058  \n",
       "min      1.000000      1.000000     1.000000  \n",
       "25%      1.000000      1.000000     1.000000  \n",
       "50%      1.000000      1.000000     1.000000  \n",
       "75%      2.000000      1.000000     1.000000  \n",
       "max      4.000000      2.000000     3.000000  "
      ]
     },
     "execution_count": 19,
     "metadata": {},
     "output_type": "execute_result"
    }
   ],
   "source": [
    "final_dataset.describe()"
   ]
  },
  {
   "cell_type": "code",
   "execution_count": 20,
   "metadata": {},
   "outputs": [
    {
     "data": {
      "text/plain": [
       "<seaborn.axisgrid.PairGrid at 0x63ac034c70>"
      ]
     },
     "execution_count": 20,
     "metadata": {},
     "output_type": "execute_result"
    },
    {
     "data": {
      "image/png": "[encoded data removed]",
      "text/plain": [
       "<Figure size 1260x1260 with 56 Axes>"
      ]
     },
     "metadata": {
      "needs_background": "light"
     },
     "output_type": "display_data"
    }
   ],
   "source": [
    "sns.pairplot(final_dataset)"
   ]
  },
  {
   "cell_type": "code",
   "execution_count": 21,
   "metadata": {},
   "outputs": [
    {
     "data": {
      "image/png": "[encoded data removed]",
      "text/plain": [
       "<Figure size 1440x1440 with 2 Axes>"
      ]
     },
     "metadata": {
      "needs_background": "light"
     },
     "output_type": "display_data"
    }
   ],
   "source": [
    "import seaborn as sns\n",
    "#get correlations of each features in dataset\n",
    "corrmat = df.corr()\n",
    "top_corr_features = corrmat.index\n",
    "plt.figure(figsize=(20,20))\n",
    "#plot heat map\n",
    "g=sns.heatmap(df[top_corr_features].corr(),annot=True,cmap=\"RdYlGn\")"
   ]
  },
  {
   "cell_type": "code",
   "execution_count": 22,
   "metadata": {},
   "outputs": [
    {
     "data": {
      "text/html": [
       "<div>\n",
       "<style scoped>\n",
       "    .dataframe tbody tr th:only-of-type {\n",
       "        vertical-align: middle;\n",
       "    }\n",
       "\n",
       "    .dataframe tbody tr th {\n",
       "        vertical-align: top;\n",
       "    }\n",
       "\n",
       "    .dataframe thead th {\n",
       "        text-align: right;\n",
       "    }\n",
       "</style>\n",
       "<table border=\"1\" class=\"dataframe\">\n",
       "  <thead>\n",
       "    <tr style=\"text-align: right;\">\n",
       "      <th></th>\n",
       "      <th>Making Year</th>\n",
       "      <th>Current_Price</th>\n",
       "      <th>Avg_market_price</th>\n",
       "      <th>New_Car_Road_Price</th>\n",
       "      <th>Fule</th>\n",
       "      <th>Transmission</th>\n",
       "      <th>No_Of_Owner</th>\n",
       "    </tr>\n",
       "  </thead>\n",
       "  <tbody>\n",
       "    <tr>\n",
       "      <th>Making Year</th>\n",
       "      <td>1.000000</td>\n",
       "      <td>0.566239</td>\n",
       "      <td>0.566239</td>\n",
       "      <td>-0.003198</td>\n",
       "      <td>-0.108225</td>\n",
       "      <td>0.086376</td>\n",
       "      <td>-0.226695</td>\n",
       "    </tr>\n",
       "    <tr>\n",
       "      <th>Current_Price</th>\n",
       "      <td>0.566239</td>\n",
       "      <td>1.000000</td>\n",
       "      <td>1.000000</td>\n",
       "      <td>0.637495</td>\n",
       "      <td>0.118840</td>\n",
       "      <td>0.204110</td>\n",
       "      <td>-0.154903</td>\n",
       "    </tr>\n",
       "    <tr>\n",
       "      <th>Avg_market_price</th>\n",
       "      <td>0.566239</td>\n",
       "      <td>1.000000</td>\n",
       "      <td>1.000000</td>\n",
       "      <td>0.637495</td>\n",
       "      <td>0.118840</td>\n",
       "      <td>0.204110</td>\n",
       "      <td>-0.154903</td>\n",
       "    </tr>\n",
       "    <tr>\n",
       "      <th>New_Car_Road_Price</th>\n",
       "      <td>-0.003198</td>\n",
       "      <td>0.637495</td>\n",
       "      <td>0.637495</td>\n",
       "      <td>1.000000</td>\n",
       "      <td>0.355286</td>\n",
       "      <td>0.195108</td>\n",
       "      <td>0.047115</td>\n",
       "    </tr>\n",
       "    <tr>\n",
       "      <th>Fule</th>\n",
       "      <td>-0.108225</td>\n",
       "      <td>0.118840</td>\n",
       "      <td>0.118840</td>\n",
       "      <td>0.355286</td>\n",
       "      <td>1.000000</td>\n",
       "      <td>-0.109875</td>\n",
       "      <td>-0.033335</td>\n",
       "    </tr>\n",
       "    <tr>\n",
       "      <th>Transmission</th>\n",
       "      <td>0.086376</td>\n",
       "      <td>0.204110</td>\n",
       "      <td>0.204110</td>\n",
       "      <td>0.195108</td>\n",
       "      <td>-0.109875</td>\n",
       "      <td>1.000000</td>\n",
       "      <td>0.021359</td>\n",
       "    </tr>\n",
       "    <tr>\n",
       "      <th>No_Of_Owner</th>\n",
       "      <td>-0.226695</td>\n",
       "      <td>-0.154903</td>\n",
       "      <td>-0.154903</td>\n",
       "      <td>0.047115</td>\n",
       "      <td>-0.033335</td>\n",
       "      <td>0.021359</td>\n",
       "      <td>1.000000</td>\n",
       "    </tr>\n",
       "  </tbody>\n",
       "</table>\n",
       "</div>"
      ],
      "text/plain": [
       "                    Making Year  Current_Price  Avg_market_price  \\\n",
       "Making Year            1.000000       0.566239          0.566239   \n",
       "Current_Price          0.566239       1.000000          1.000000   \n",
       "Avg_market_price       0.566239       1.000000          1.000000   \n",
       "New_Car_Road_Price    -0.003198       0.637495          0.637495   \n",
       "Fule                  -0.108225       0.118840          0.118840   \n",
       "Transmission           0.086376       0.204110          0.204110   \n",
       "No_Of_Owner           -0.226695      -0.154903         -0.154903   \n",
       "\n",
       "                    New_Car_Road_Price      Fule  Transmission  No_Of_Owner  \n",
       "Making Year                  -0.003198 -0.108225      0.086376    -0.226695  \n",
       "Current_Price                 0.637495  0.118840      0.204110    -0.154903  \n",
       "Avg_market_price              0.637495  0.118840      0.204110    -0.154903  \n",
       "New_Car_Road_Price            1.000000  0.355286      0.195108     0.047115  \n",
       "Fule                          0.355286  1.000000     -0.109875    -0.033335  \n",
       "Transmission                  0.195108 -0.109875      1.000000     0.021359  \n",
       "No_Of_Owner                   0.047115 -0.033335      0.021359     1.000000  "
      ]
     },
     "execution_count": 22,
     "metadata": {},
     "output_type": "execute_result"
    }
   ],
   "source": [
    "final_dataset_corr=final_dataset.corr()\n",
    "final_dataset_corr"
   ]
  },
  {
   "cell_type": "markdown",
   "metadata": {},
   "source": [
    "# Model Run Train_ Test_ Split"
   ]
  },
  {
   "cell_type": "code",
   "execution_count": 23,
   "metadata": {},
   "outputs": [],
   "source": [
    "from sklearn.model_selection import train_test_split"
   ]
  },
  {
   "cell_type": "code",
   "execution_count": 24,
   "metadata": {},
   "outputs": [
    {
     "name": "stdout",
     "output_type": "stream",
     "text": [
      "Index(['Making Year', 'Current_Price', 'Avg_market_price',\n",
      "       'New_Car_Road_Price', 'Fule', 'Transmission', 'No_Of_Owner'],\n",
      "      dtype='object')\n"
     ]
    }
   ],
   "source": [
    "print(final_dataset.columns)"
   ]
  },
  {
   "cell_type": "code",
   "execution_count": 25,
   "metadata": {},
   "outputs": [],
   "source": [
    "x_train=final_dataset[['Making Year', 'Avg_market_price',\n",
    "       'New_Car_Road_Price', 'Fule', 'Transmission', 'No_Of_Owner']]\n",
    "y_train=final_dataset[['Current_Price']]"
   ]
  },
  {
   "cell_type": "code",
   "execution_count": 26,
   "metadata": {},
   "outputs": [
    {
     "name": "stdout",
     "output_type": "stream",
     "text": [
      "(729, 6)\n",
      "(206, 6)\n",
      "(729, 1)\n",
      "(206, 1)\n"
     ]
    }
   ],
   "source": [
    "x_train,x_test,y_train,y_test=train_test_split(x_train,y_train,test_size=0.22,random_state=45)\n",
    "print(x_train.shape)\n",
    "print(x_test.shape)\n",
    "print(y_train.shape)\n",
    "print(y_test.shape)"
   ]
  },
  {
   "cell_type": "markdown",
   "metadata": {},
   "source": [
    "we are sending 22% of data for testing"
   ]
  },
  {
   "cell_type": "code",
   "execution_count": 27,
   "metadata": {},
   "outputs": [
    {
     "data": {
      "text/html": [
       "<div>\n",
       "<style scoped>\n",
       "    .dataframe tbody tr th:only-of-type {\n",
       "        vertical-align: middle;\n",
       "    }\n",
       "\n",
       "    .dataframe tbody tr th {\n",
       "        vertical-align: top;\n",
       "    }\n",
       "\n",
       "    .dataframe thead th {\n",
       "        text-align: right;\n",
       "    }\n",
       "</style>\n",
       "<table border=\"1\" class=\"dataframe\">\n",
       "  <thead>\n",
       "    <tr style=\"text-align: right;\">\n",
       "      <th></th>\n",
       "      <th>Current_Price</th>\n",
       "    </tr>\n",
       "  </thead>\n",
       "  <tbody>\n",
       "    <tr>\n",
       "      <th>815</th>\n",
       "      <td>770000</td>\n",
       "    </tr>\n",
       "    <tr>\n",
       "      <th>23</th>\n",
       "      <td>427870</td>\n",
       "    </tr>\n",
       "    <tr>\n",
       "      <th>600</th>\n",
       "      <td>370000</td>\n",
       "    </tr>\n",
       "    <tr>\n",
       "      <th>550</th>\n",
       "      <td>329000</td>\n",
       "    </tr>\n",
       "    <tr>\n",
       "      <th>737</th>\n",
       "      <td>250000</td>\n",
       "    </tr>\n",
       "    <tr>\n",
       "      <th>...</th>\n",
       "      <td>...</td>\n",
       "    </tr>\n",
       "    <tr>\n",
       "      <th>607</th>\n",
       "      <td>906000</td>\n",
       "    </tr>\n",
       "    <tr>\n",
       "      <th>544</th>\n",
       "      <td>264000</td>\n",
       "    </tr>\n",
       "    <tr>\n",
       "      <th>892</th>\n",
       "      <td>549000</td>\n",
       "    </tr>\n",
       "    <tr>\n",
       "      <th>643</th>\n",
       "      <td>565500</td>\n",
       "    </tr>\n",
       "    <tr>\n",
       "      <th>414</th>\n",
       "      <td>467826</td>\n",
       "    </tr>\n",
       "  </tbody>\n",
       "</table>\n",
       "<p>729 rows × 1 columns</p>\n",
       "</div>"
      ],
      "text/plain": [
       "     Current_Price\n",
       "815         770000\n",
       "23          427870\n",
       "600         370000\n",
       "550         329000\n",
       "737         250000\n",
       "..             ...\n",
       "607         906000\n",
       "544         264000\n",
       "892         549000\n",
       "643         565500\n",
       "414         467826\n",
       "\n",
       "[729 rows x 1 columns]"
      ]
     },
     "execution_count": 27,
     "metadata": {},
     "output_type": "execute_result"
    }
   ],
   "source": [
    "y_train"
   ]
  },
  {
   "cell_type": "code",
   "execution_count": 28,
   "metadata": {},
   "outputs": [
    {
     "data": {
      "text/html": [
       "<div>\n",
       "<style scoped>\n",
       "    .dataframe tbody tr th:only-of-type {\n",
       "        vertical-align: middle;\n",
       "    }\n",
       "\n",
       "    .dataframe tbody tr th {\n",
       "        vertical-align: top;\n",
       "    }\n",
       "\n",
       "    .dataframe thead th {\n",
       "        text-align: right;\n",
       "    }\n",
       "</style>\n",
       "<table border=\"1\" class=\"dataframe\">\n",
       "  <thead>\n",
       "    <tr style=\"text-align: right;\">\n",
       "      <th></th>\n",
       "      <th>Making Year</th>\n",
       "      <th>Avg_market_price</th>\n",
       "      <th>New_Car_Road_Price</th>\n",
       "      <th>Fule</th>\n",
       "      <th>Transmission</th>\n",
       "      <th>No_Of_Owner</th>\n",
       "    </tr>\n",
       "  </thead>\n",
       "  <tbody>\n",
       "    <tr>\n",
       "      <th>815</th>\n",
       "      <td>2017</td>\n",
       "      <td>808500</td>\n",
       "      <td>1145594</td>\n",
       "      <td>1</td>\n",
       "      <td>1</td>\n",
       "      <td>1</td>\n",
       "    </tr>\n",
       "    <tr>\n",
       "      <th>23</th>\n",
       "      <td>2015</td>\n",
       "      <td>449264</td>\n",
       "      <td>618849</td>\n",
       "      <td>1</td>\n",
       "      <td>1</td>\n",
       "      <td>1</td>\n",
       "    </tr>\n",
       "    <tr>\n",
       "      <th>600</th>\n",
       "      <td>2013</td>\n",
       "      <td>388500</td>\n",
       "      <td>959243</td>\n",
       "      <td>2</td>\n",
       "      <td>1</td>\n",
       "      <td>1</td>\n",
       "    </tr>\n",
       "    <tr>\n",
       "      <th>550</th>\n",
       "      <td>2017</td>\n",
       "      <td>345450</td>\n",
       "      <td>479009</td>\n",
       "      <td>1</td>\n",
       "      <td>2</td>\n",
       "      <td>2</td>\n",
       "    </tr>\n",
       "    <tr>\n",
       "      <th>737</th>\n",
       "      <td>2016</td>\n",
       "      <td>262500</td>\n",
       "      <td>359781</td>\n",
       "      <td>1</td>\n",
       "      <td>1</td>\n",
       "      <td>2</td>\n",
       "    </tr>\n",
       "    <tr>\n",
       "      <th>...</th>\n",
       "      <td>...</td>\n",
       "      <td>...</td>\n",
       "      <td>...</td>\n",
       "      <td>...</td>\n",
       "      <td>...</td>\n",
       "      <td>...</td>\n",
       "    </tr>\n",
       "    <tr>\n",
       "      <th>607</th>\n",
       "      <td>2018</td>\n",
       "      <td>951300</td>\n",
       "      <td>1061702</td>\n",
       "      <td>2</td>\n",
       "      <td>2</td>\n",
       "      <td>1</td>\n",
       "    </tr>\n",
       "    <tr>\n",
       "      <th>544</th>\n",
       "      <td>2015</td>\n",
       "      <td>277200</td>\n",
       "      <td>419592</td>\n",
       "      <td>1</td>\n",
       "      <td>1</td>\n",
       "      <td>1</td>\n",
       "    </tr>\n",
       "    <tr>\n",
       "      <th>892</th>\n",
       "      <td>2016</td>\n",
       "      <td>576450</td>\n",
       "      <td>721292</td>\n",
       "      <td>1</td>\n",
       "      <td>1</td>\n",
       "      <td>1</td>\n",
       "    </tr>\n",
       "    <tr>\n",
       "      <th>643</th>\n",
       "      <td>2019</td>\n",
       "      <td>593775</td>\n",
       "      <td>607690</td>\n",
       "      <td>1</td>\n",
       "      <td>1</td>\n",
       "      <td>1</td>\n",
       "    </tr>\n",
       "    <tr>\n",
       "      <th>414</th>\n",
       "      <td>2018</td>\n",
       "      <td>491217</td>\n",
       "      <td>642326</td>\n",
       "      <td>1</td>\n",
       "      <td>2</td>\n",
       "      <td>1</td>\n",
       "    </tr>\n",
       "  </tbody>\n",
       "</table>\n",
       "<p>729 rows × 6 columns</p>\n",
       "</div>"
      ],
      "text/plain": [
       "     Making Year  Avg_market_price  New_Car_Road_Price  Fule  Transmission  \\\n",
       "815         2017            808500             1145594     1             1   \n",
       "23          2015            449264              618849     1             1   \n",
       "600         2013            388500              959243     2             1   \n",
       "550         2017            345450              479009     1             2   \n",
       "737         2016            262500              359781     1             1   \n",
       "..           ...               ...                 ...   ...           ...   \n",
       "607         2018            951300             1061702     2             2   \n",
       "544         2015            277200              419592     1             1   \n",
       "892         2016            576450              721292     1             1   \n",
       "643         2019            593775              607690     1             1   \n",
       "414         2018            491217              642326     1             2   \n",
       "\n",
       "     No_Of_Owner  \n",
       "815            1  \n",
       "23             1  \n",
       "600            1  \n",
       "550            2  \n",
       "737            2  \n",
       "..           ...  \n",
       "607            1  \n",
       "544            1  \n",
       "892            1  \n",
       "643            1  \n",
       "414            1  \n",
       "\n",
       "[729 rows x 6 columns]"
      ]
     },
     "execution_count": 28,
     "metadata": {},
     "output_type": "execute_result"
    }
   ],
   "source": [
    "x_train"
   ]
  },
  {
   "cell_type": "code",
   "execution_count": 29,
   "metadata": {},
   "outputs": [
    {
     "data": {
      "text/plain": [
       "ExtraTreesRegressor()"
      ]
     },
     "execution_count": 29,
     "metadata": {},
     "output_type": "execute_result"
    }
   ],
   "source": [
    "### Feature Importance\n",
    "\n",
    "from sklearn.ensemble import ExtraTreesRegressor\n",
    "import matplotlib.pyplot as plt\n",
    "model = ExtraTreesRegressor()\n",
    "model.fit(x_train,y_train)"
   ]
  },
  {
   "cell_type": "code",
   "execution_count": 30,
   "metadata": {},
   "outputs": [
    {
     "name": "stdout",
     "output_type": "stream",
     "text": [
      "[5.10687326e-02 8.73967987e-01 7.12073302e-02 1.00717537e-03\n",
      " 2.61826506e-03 1.30509856e-04]\n"
     ]
    }
   ],
   "source": [
    "print(model.feature_importances_)"
   ]
  },
  {
   "cell_type": "code",
   "execution_count": 31,
   "metadata": {},
   "outputs": [
    {
     "data": {
      "image/png": "[encoded data removed]",
      "text/plain": [
       "<Figure size 432x288 with 1 Axes>"
      ]
     },
     "metadata": {
      "needs_background": "light"
     },
     "output_type": "display_data"
    }
   ],
   "source": [
    "#plot graph of feature importances for better visualization\n",
    "feat_importances = pd.Series(model.feature_importances_, index=x_train.columns)\n",
    "feat_importances.nlargest(5).plot(kind='barh')\n",
    "plt.show()"
   ]
  },
  {
   "cell_type": "code",
   "execution_count": 32,
   "metadata": {},
   "outputs": [],
   "source": [
    "from sklearn.ensemble import RandomForestRegressor\n",
    "from sklearn.model_selection import RandomizedSearchCV\n",
    "rf=RandomForestRegressor()"
   ]
  },
  {
   "cell_type": "code",
   "execution_count": 33,
   "metadata": {},
   "outputs": [
    {
     "name": "stdout",
     "output_type": "stream",
     "text": [
      "[100, 200, 300, 400, 500, 600, 700, 800, 900, 1000, 1100, 1200]\n"
     ]
    }
   ],
   "source": [
    "n_estimators = [int(x) for x in np.linspace(start = 100, stop = 1200, num = 12)]\n",
    "print(n_estimators)"
   ]
  },
  {
   "cell_type": "code",
   "execution_count": 34,
   "metadata": {},
   "outputs": [],
   "source": [
    "#Randomized Search CV\n",
    "\n",
    "# Number of trees in random forest\n",
    "n_estimators = [int(x) for x in np.linspace(start = 100, stop = 1200, num = 12)]\n",
    "# Number of features to consider at every split\n",
    "max_features = ['auto', 'sqrt']\n",
    "# Maximum number of levels in tree\n",
    "max_depth = [int(x) for x in np.linspace(5, 30, num = 6)]\n",
    "# max_depth.append(None)\n",
    "# Minimum number of samples required to split a node\n",
    "min_samples_split = [2, 5, 10, 15, 100]\n",
    "# Minimum number of samples required at each leaf node\n",
    "min_samples_leaf = [1, 2, 5, 10]"
   ]
  },
  {
   "cell_type": "code",
   "execution_count": 35,
   "metadata": {},
   "outputs": [
    {
     "name": "stdout",
     "output_type": "stream",
     "text": [
      "{'n_estimators': [100, 200, 300, 400, 500, 600, 700, 800, 900, 1000, 1100, 1200], 'max_features': ['auto', 'sqrt'], 'max_depth': [5, 10, 15, 20, 25, 30], 'min_samples_split': [2, 5, 10, 15, 100], 'min_samples_leaf': [1, 2, 5, 10]}\n"
     ]
    }
   ],
   "source": [
    "# Create the random grid\n",
    "random_grid = {'n_estimators': n_estimators,\n",
    "               'max_features': max_features,\n",
    "               'max_depth': max_depth,\n",
    "               'min_samples_split': min_samples_split,\n",
    "               'min_samples_leaf': min_samples_leaf}\n",
    "\n",
    "print(random_grid)"
   ]
  },
  {
   "cell_type": "code",
   "execution_count": 36,
   "metadata": {},
   "outputs": [],
   "source": [
    "# Random search of parameters, using 3 fold cross validation, \n",
    "# search across 100 different combinations\n",
    "rf_random = RandomizedSearchCV(estimator = rf, param_distributions = random_grid,scoring='neg_mean_squared_error', n_iter = 10, cv = 5, verbose=2, random_state=42, n_jobs = 1)"
   ]
  },
  {
   "cell_type": "code",
   "execution_count": 37,
   "metadata": {},
   "outputs": [
    {
     "name": "stdout",
     "output_type": "stream",
     "text": [
      "Fitting 5 folds for each of 10 candidates, totalling 50 fits\n",
      "[CV] END max_depth=10, max_features=sqrt, min_samples_leaf=5, min_samples_split=5, n_estimators=900; total time=   2.0s\n",
      "[CV] END max_depth=10, max_features=sqrt, min_samples_leaf=5, min_samples_split=5, n_estimators=900; total time=   1.8s\n",
      "[CV] END max_depth=10, max_features=sqrt, min_samples_leaf=5, min_samples_split=5, n_estimators=900; total time=   2.0s\n",
      "[CV] END max_depth=10, max_features=sqrt, min_samples_leaf=5, min_samples_split=5, n_estimators=900; total time=   1.9s\n",
      "[CV] END max_depth=10, max_features=sqrt, min_samples_leaf=5, min_samples_split=5, n_estimators=900; total time=   1.8s\n",
      "[CV] END max_depth=15, max_features=sqrt, min_samples_leaf=2, min_samples_split=10, n_estimators=1100; total time=   2.2s\n",
      "[CV] END max_depth=15, max_features=sqrt, min_samples_leaf=2, min_samples_split=10, n_estimators=1100; total time=   2.2s\n",
      "[CV] END max_depth=15, max_features=sqrt, min_samples_leaf=2, min_samples_split=10, n_estimators=1100; total time=   2.3s\n",
      "[CV] END max_depth=15, max_features=sqrt, min_samples_leaf=2, min_samples_split=10, n_estimators=1100; total time=   2.2s\n",
      "[CV] END max_depth=15, max_features=sqrt, min_samples_leaf=2, min_samples_split=10, n_estimators=1100; total time=   2.2s\n",
      "[CV] END max_depth=15, max_features=auto, min_samples_leaf=5, min_samples_split=100, n_estimators=300; total time=   0.6s\n",
      "[CV] END max_depth=15, max_features=auto, min_samples_leaf=5, min_samples_split=100, n_estimators=300; total time=   0.5s\n",
      "[CV] END max_depth=15, max_features=auto, min_samples_leaf=5, min_samples_split=100, n_estimators=300; total time=   0.5s\n",
      "[CV] END max_depth=15, max_features=auto, min_samples_leaf=5, min_samples_split=100, n_estimators=300; total time=   0.5s\n",
      "[CV] END max_depth=15, max_features=auto, min_samples_leaf=5, min_samples_split=100, n_estimators=300; total time=   0.5s\n",
      "[CV] END max_depth=15, max_features=auto, min_samples_leaf=5, min_samples_split=5, n_estimators=400; total time=   0.9s\n",
      "[CV] END max_depth=15, max_features=auto, min_samples_leaf=5, min_samples_split=5, n_estimators=400; total time=   1.0s\n",
      "[CV] END max_depth=15, max_features=auto, min_samples_leaf=5, min_samples_split=5, n_estimators=400; total time=   0.9s\n",
      "[CV] END max_depth=15, max_features=auto, min_samples_leaf=5, min_samples_split=5, n_estimators=400; total time=   0.9s\n",
      "[CV] END max_depth=15, max_features=auto, min_samples_leaf=5, min_samples_split=5, n_estimators=400; total time=   0.9s\n",
      "[CV] END max_depth=20, max_features=auto, min_samples_leaf=10, min_samples_split=5, n_estimators=700; total time=   1.6s\n",
      "[CV] END max_depth=20, max_features=auto, min_samples_leaf=10, min_samples_split=5, n_estimators=700; total time=   1.6s\n",
      "[CV] END max_depth=20, max_features=auto, min_samples_leaf=10, min_samples_split=5, n_estimators=700; total time=   1.6s\n",
      "[CV] END max_depth=20, max_features=auto, min_samples_leaf=10, min_samples_split=5, n_estimators=700; total time=   1.5s\n",
      "[CV] END max_depth=20, max_features=auto, min_samples_leaf=10, min_samples_split=5, n_estimators=700; total time=   1.6s\n",
      "[CV] END max_depth=25, max_features=sqrt, min_samples_leaf=1, min_samples_split=2, n_estimators=1000; total time=   2.4s\n",
      "[CV] END max_depth=25, max_features=sqrt, min_samples_leaf=1, min_samples_split=2, n_estimators=1000; total time=   2.6s\n",
      "[CV] END max_depth=25, max_features=sqrt, min_samples_leaf=1, min_samples_split=2, n_estimators=1000; total time=   2.5s\n",
      "[CV] END max_depth=25, max_features=sqrt, min_samples_leaf=1, min_samples_split=2, n_estimators=1000; total time=   2.6s\n",
      "[CV] END max_depth=25, max_features=sqrt, min_samples_leaf=1, min_samples_split=2, n_estimators=1000; total time=   2.5s\n",
      "[CV] END max_depth=5, max_features=sqrt, min_samples_leaf=10, min_samples_split=15, n_estimators=1100; total time=   2.1s\n",
      "[CV] END max_depth=5, max_features=sqrt, min_samples_leaf=10, min_samples_split=15, n_estimators=1100; total time=   2.1s\n",
      "[CV] END max_depth=5, max_features=sqrt, min_samples_leaf=10, min_samples_split=15, n_estimators=1100; total time=   2.2s\n",
      "[CV] END max_depth=5, max_features=sqrt, min_samples_leaf=10, min_samples_split=15, n_estimators=1100; total time=   2.1s\n",
      "[CV] END max_depth=5, max_features=sqrt, min_samples_leaf=10, min_samples_split=15, n_estimators=1100; total time=   2.1s\n",
      "[CV] END max_depth=15, max_features=sqrt, min_samples_leaf=1, min_samples_split=15, n_estimators=300; total time=   0.6s\n",
      "[CV] END max_depth=15, max_features=sqrt, min_samples_leaf=1, min_samples_split=15, n_estimators=300; total time=   0.6s\n",
      "[CV] END max_depth=15, max_features=sqrt, min_samples_leaf=1, min_samples_split=15, n_estimators=300; total time=   0.5s\n",
      "[CV] END max_depth=15, max_features=sqrt, min_samples_leaf=1, min_samples_split=15, n_estimators=300; total time=   0.5s\n",
      "[CV] END max_depth=15, max_features=sqrt, min_samples_leaf=1, min_samples_split=15, n_estimators=300; total time=   0.6s\n",
      "[CV] END max_depth=5, max_features=sqrt, min_samples_leaf=2, min_samples_split=10, n_estimators=700; total time=   1.5s\n",
      "[CV] END max_depth=5, max_features=sqrt, min_samples_leaf=2, min_samples_split=10, n_estimators=700; total time=   1.3s\n",
      "[CV] END max_depth=5, max_features=sqrt, min_samples_leaf=2, min_samples_split=10, n_estimators=700; total time=   1.3s\n",
      "[CV] END max_depth=5, max_features=sqrt, min_samples_leaf=2, min_samples_split=10, n_estimators=700; total time=   1.3s\n",
      "[CV] END max_depth=5, max_features=sqrt, min_samples_leaf=2, min_samples_split=10, n_estimators=700; total time=   1.3s\n",
      "[CV] END max_depth=20, max_features=auto, min_samples_leaf=1, min_samples_split=15, n_estimators=700; total time=   2.0s\n",
      "[CV] END max_depth=20, max_features=auto, min_samples_leaf=1, min_samples_split=15, n_estimators=700; total time=   1.7s\n",
      "[CV] END max_depth=20, max_features=auto, min_samples_leaf=1, min_samples_split=15, n_estimators=700; total time=   2.3s\n",
      "[CV] END max_depth=20, max_features=auto, min_samples_leaf=1, min_samples_split=15, n_estimators=700; total time=   1.9s\n",
      "[CV] END max_depth=20, max_features=auto, min_samples_leaf=1, min_samples_split=15, n_estimators=700; total time=   1.8s\n"
     ]
    },
    {
     "data": {
      "text/plain": [
       "RandomizedSearchCV(cv=5, estimator=RandomForestRegressor(), n_jobs=1,\n",
       "                   param_distributions={'max_depth': [5, 10, 15, 20, 25, 30],\n",
       "                                        'max_features': ['auto', 'sqrt'],\n",
       "                                        'min_samples_leaf': [1, 2, 5, 10],\n",
       "                                        'min_samples_split': [2, 5, 10, 15,\n",
       "                                                              100],\n",
       "                                        'n_estimators': [100, 200, 300, 400,\n",
       "                                                         500, 600, 700, 800,\n",
       "                                                         900, 1000, 1100,\n",
       "                                                         1200]},\n",
       "                   random_state=42, scoring='neg_mean_squared_error',\n",
       "                   verbose=2)"
      ]
     },
     "execution_count": 37,
     "metadata": {},
     "output_type": "execute_result"
    }
   ],
   "source": [
    "rf_random.fit(x_train,y_train)"
   ]
  },
  {
   "cell_type": "code",
   "execution_count": 38,
   "metadata": {},
   "outputs": [
    {
     "data": {
      "text/plain": [
       "{'n_estimators': 400,\n",
       " 'min_samples_split': 5,\n",
       " 'min_samples_leaf': 5,\n",
       " 'max_features': 'auto',\n",
       " 'max_depth': 15}"
      ]
     },
     "execution_count": 38,
     "metadata": {},
     "output_type": "execute_result"
    }
   ],
   "source": [
    "rf_random.best_params_"
   ]
  },
  {
   "cell_type": "code",
   "execution_count": 39,
   "metadata": {},
   "outputs": [
    {
     "data": {
      "text/plain": [
       "-534559746.28126746"
      ]
     },
     "execution_count": 39,
     "metadata": {},
     "output_type": "execute_result"
    }
   ],
   "source": [
    "rf_random.best_score_"
   ]
  },
  {
   "cell_type": "code",
   "execution_count": 40,
   "metadata": {},
   "outputs": [],
   "source": [
    "predictions=rf_random.predict(x_test)"
   ]
  },
  {
   "cell_type": "code",
   "execution_count": 41,
   "metadata": {},
   "outputs": [
    {
     "data": {
      "text/plain": [
       "<matplotlib.collections.PathCollection at 0x63b5c5c490>"
      ]
     },
     "execution_count": 41,
     "metadata": {},
     "output_type": "execute_result"
    },
    {
     "data": {
      "image/png": "[encoded data removed]",
      "text/plain": [
       "<Figure size 432x288 with 1 Axes>"
      ]
     },
     "metadata": {
      "needs_background": "light"
     },
     "output_type": "display_data"
    }
   ],
   "source": [
    "plt.scatter(y_test,predictions)"
   ]
  },
  {
   "cell_type": "code",
   "execution_count": 42,
   "metadata": {},
   "outputs": [
    {
     "name": "stdout",
     "output_type": "stream",
     "text": [
      "MAE: 1981.4087389399697\n",
      "MSE: 67863592.30061091\n",
      "RMSE: 8237.93616754894\n"
     ]
    }
   ],
   "source": [
    "from sklearn import metrics\n",
    "print('MAE:', metrics.mean_absolute_error(y_test, predictions))\n",
    "print('MSE:', metrics.mean_squared_error(y_test, predictions))\n",
    "print('RMSE:', np.sqrt(metrics.mean_squared_error(y_test, predictions)))"
   ]
  },
  {
   "cell_type": "code",
   "execution_count": 43,
   "metadata": {},
   "outputs": [],
   "source": [
    "import pickle\n",
    "# open a file, where you ant to store the data\n",
    "file = open('random_forest_regression_model.pkl', 'wb')\n",
    "\n",
    "# dump information to that file\n",
    "pickle.dump(rf_random, file)"
   ]
  },
  {
   "cell_type": "code",
   "execution_count": null,
   "metadata": {},
   "outputs": [],
   "source": []
  },
  {
   "cell_type": "code",
   "execution_count": null,
   "metadata": {},
   "outputs": [],
   "source": []
  },
  {
   "cell_type": "code",
   "execution_count": null,
   "metadata": {},
   "outputs": [],
   "source": []
  },
  {
   "cell_type": "code",
   "execution_count": null,
   "metadata": {},
   "outputs": [],
   "source": []
  },
  {
   "cell_type": "code",
   "execution_count": null,
   "metadata": {},
   "outputs": [],
   "source": []
  },
  {
   "cell_type": "code",
   "execution_count": null,
   "metadata": {},
   "outputs": [],
   "source": []
  },
  {
   "cell_type": "code",
   "execution_count": null,
   "metadata": {},
   "outputs": [],
   "source": []
  },
  {
   "cell_type": "code",
   "execution_count": null,
   "metadata": {},
   "outputs": [],
   "source": []
  },
  {
   "cell_type": "code",
   "execution_count": null,
   "metadata": {},
   "outputs": [],
   "source": []
  },
  {
   "cell_type": "code",
   "execution_count": null,
   "metadata": {},
   "outputs": [],
   "source": []
  },
  {
   "cell_type": "code",
   "execution_count": null,
   "metadata": {},
   "outputs": [],
   "source": []
  },
  {
   "cell_type": "code",
   "execution_count": null,
   "metadata": {},
   "outputs": [],
   "source": []
  },
  {
   "cell_type": "code",
   "execution_count": null,
   "metadata": {},
   "outputs": [],
   "source": []
  },
  {
   "cell_type": "code",
   "execution_count": null,
   "metadata": {},
   "outputs": [],
   "source": []
  },
  {
   "cell_type": "code",
   "execution_count": null,
   "metadata": {},
   "outputs": [],
   "source": []
  },
  {
   "cell_type": "code",
   "execution_count": null,
   "metadata": {},
   "outputs": [],
   "source": []
  },
  {
   "cell_type": "code",
   "execution_count": null,
   "metadata": {},
   "outputs": [],
   "source": []
  },
  {
   "cell_type": "code",
   "execution_count": null,
   "metadata": {},
   "outputs": [],
   "source": []
  }
 ],
 "metadata": {
  "kernelspec": {
   "display_name": "Python 3",
   "language": "python",
   "name": "python3"
  },
  "language_info": {
   "codemirror_mode": {
    "name": "ipython",
    "version": 3
   },
   "file_extension": ".py",
   "mimetype": "text/x-python",
   "name": "python",
   "nbconvert_exporter": "python",
   "pygments_lexer": "ipython3",
   "version": "3.8.5"
  }
 },
 "nbformat": 4,
 "nbformat_minor": 4
}
